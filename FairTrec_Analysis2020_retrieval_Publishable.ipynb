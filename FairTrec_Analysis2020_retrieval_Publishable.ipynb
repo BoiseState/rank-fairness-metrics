{
 "cells": [
  {
   "cell_type": "code",
   "execution_count": 1,
   "metadata": {},
   "outputs": [],
   "source": [
    "import pandas as pd\n",
    "import numpy as np\n",
    "from bookgender.config import data_dir\n",
    "from bookgender.nbutils import *\n",
    "import plotnine as p9\n",
    "import plotnine.data as p9d\n",
    "from itertools import product\n",
    "import math\n",
    "import matplotlib as plt"
   ]
  },
  {
   "cell_type": "markdown",
   "metadata": {},
   "source": [
    "import bookgender.fair_metrics.singh_joachims as sj\n",
    "import bookgender.fair_metrics.sapiezynski as sp\n",
    "import bookgender.fair_metrics.biega as bg\n",
    "import bookgender.fair_metrics.diaz as dz\n",
    "import bookgender.fair_metrics.zehlike as zh"
   ]
  },
  {
   "cell_type": "code",
   "execution_count": null,
   "metadata": {},
   "outputs": [],
   "source": [
    "import bookgender.metric_utils.groupinfo as gi\n",
    "import bookgender.metric_utils.position as pos"
   ]
  },
  {
   "cell_type": "code",
   "execution_count": 4,
   "metadata": {
    "scrolled": true
   },
   "outputs": [],
   "source": [
    "import bookgender.metric_utils.load_fairtrec20 as lf20"
   ]
  },
  {
   "cell_type": "code",
   "execution_count": 5,
   "metadata": {},
   "outputs": [],
   "source": [
    "from tqdm.auto import tqdm\n",
    "tqdm.pandas()"
   ]
  },
  {
   "cell_type": "markdown",
   "metadata": {},
   "source": [
    "# Soft Association (Each item can be associated with multiple groups)"
   ]
  },
  {
   "cell_type": "markdown",
   "metadata": {},
   "source": [
    "## Load Data"
   ]
  },
  {
   "cell_type": "markdown",
   "metadata": {},
   "source": [
    "### Retrieval: each run retrieves 100-item rankings from the corpus in response to query"
   ]
  },
  {
   "cell_type": "code",
   "execution_count": 6,
   "metadata": {},
   "outputs": [],
   "source": [
    "retrieved_path = 'data/trec2020-fair-archive/submission_parquet/retrieval/'\n",
    "authorinfo_path = 'data/trec2020-fair-archive/submission_parquet/author_annot_soft.parquet'\n",
    "ratings_path = 'data/trec2020-fair-archive/submission_parquet/document_relevance.parquet'"
   ]
  },
  {
   "cell_type": "code",
   "execution_count": 7,
   "metadata": {},
   "outputs": [],
   "source": [
    "recs = lf20.load_recs(retrieved_path)\n",
    "authors = lf20.load_authors(authorinfo_path)\n",
    "fairtrec = lf20.process_recs(recs, authors, ratings_path)"
   ]
  },
  {
   "cell_type": "code",
   "execution_count": 8,
   "metadata": {},
   "outputs": [
    {
     "data": {
      "text/html": [
       "<div>\n",
       "<style scoped>\n",
       "    .dataframe tbody tr th:only-of-type {\n",
       "        vertical-align: middle;\n",
       "    }\n",
       "\n",
       "    .dataframe tbody tr th {\n",
       "        vertical-align: top;\n",
       "    }\n",
       "\n",
       "    .dataframe thead th {\n",
       "        text-align: right;\n",
       "    }\n",
       "</style>\n",
       "<table border=\"1\" class=\"dataframe\">\n",
       "  <thead>\n",
       "    <tr style=\"text-align: right;\">\n",
       "      <th></th>\n",
       "      <th>qid</th>\n",
       "      <th>sequence</th>\n",
       "      <th>system</th>\n",
       "      <th>item</th>\n",
       "      <th>rank</th>\n",
       "      <th>rating</th>\n",
       "      <th>Advanced</th>\n",
       "      <th>Developing</th>\n",
       "      <th>DocLevel</th>\n",
       "      <th>Unknown</th>\n",
       "    </tr>\n",
       "  </thead>\n",
       "  <tbody>\n",
       "    <tr>\n",
       "      <th>0</th>\n",
       "      <td>9087</td>\n",
       "      <td>0.0</td>\n",
       "      <td>UW_Kt_r0g0c100</td>\n",
       "      <td>4a1472c575488ed9acee6c5481f68b95a0c34092</td>\n",
       "      <td>2</td>\n",
       "      <td>0</td>\n",
       "      <td>0.0</td>\n",
       "      <td>1.0</td>\n",
       "      <td>Developing</td>\n",
       "      <td>0.0</td>\n",
       "    </tr>\n",
       "    <tr>\n",
       "      <th>1</th>\n",
       "      <td>9087</td>\n",
       "      <td>0.1</td>\n",
       "      <td>UW_Kt_r0g0c100</td>\n",
       "      <td>4a1472c575488ed9acee6c5481f68b95a0c34092</td>\n",
       "      <td>2</td>\n",
       "      <td>0</td>\n",
       "      <td>0.0</td>\n",
       "      <td>1.0</td>\n",
       "      <td>Developing</td>\n",
       "      <td>0.0</td>\n",
       "    </tr>\n",
       "    <tr>\n",
       "      <th>2</th>\n",
       "      <td>9087</td>\n",
       "      <td>0.2</td>\n",
       "      <td>UW_Kt_r0g0c100</td>\n",
       "      <td>4a1472c575488ed9acee6c5481f68b95a0c34092</td>\n",
       "      <td>2</td>\n",
       "      <td>0</td>\n",
       "      <td>0.0</td>\n",
       "      <td>1.0</td>\n",
       "      <td>Developing</td>\n",
       "      <td>0.0</td>\n",
       "    </tr>\n",
       "    <tr>\n",
       "      <th>3</th>\n",
       "      <td>9087</td>\n",
       "      <td>0.3</td>\n",
       "      <td>UW_Kt_r0g0c100</td>\n",
       "      <td>4a1472c575488ed9acee6c5481f68b95a0c34092</td>\n",
       "      <td>2</td>\n",
       "      <td>0</td>\n",
       "      <td>0.0</td>\n",
       "      <td>1.0</td>\n",
       "      <td>Developing</td>\n",
       "      <td>0.0</td>\n",
       "    </tr>\n",
       "    <tr>\n",
       "      <th>4</th>\n",
       "      <td>9087</td>\n",
       "      <td>0.4</td>\n",
       "      <td>UW_Kt_r0g0c100</td>\n",
       "      <td>4a1472c575488ed9acee6c5481f68b95a0c34092</td>\n",
       "      <td>2</td>\n",
       "      <td>0</td>\n",
       "      <td>0.0</td>\n",
       "      <td>1.0</td>\n",
       "      <td>Developing</td>\n",
       "      <td>0.0</td>\n",
       "    </tr>\n",
       "    <tr>\n",
       "      <th>...</th>\n",
       "      <td>...</td>\n",
       "      <td>...</td>\n",
       "      <td>...</td>\n",
       "      <td>...</td>\n",
       "      <td>...</td>\n",
       "      <td>...</td>\n",
       "      <td>...</td>\n",
       "      <td>...</td>\n",
       "      <td>...</td>\n",
       "      <td>...</td>\n",
       "    </tr>\n",
       "    <tr>\n",
       "      <th>1350745</th>\n",
       "      <td>12887</td>\n",
       "      <td>199.145</td>\n",
       "      <td>UW_t_bm25</td>\n",
       "      <td>f6f0758b228b359fa425d12d977d7250d2da0f55</td>\n",
       "      <td>15</td>\n",
       "      <td>0</td>\n",
       "      <td>0.0</td>\n",
       "      <td>1.0</td>\n",
       "      <td>Developing</td>\n",
       "      <td>0.0</td>\n",
       "    </tr>\n",
       "    <tr>\n",
       "      <th>1350746</th>\n",
       "      <td>12887</td>\n",
       "      <td>199.146</td>\n",
       "      <td>UW_t_bm25</td>\n",
       "      <td>f6f0758b228b359fa425d12d977d7250d2da0f55</td>\n",
       "      <td>15</td>\n",
       "      <td>0</td>\n",
       "      <td>0.0</td>\n",
       "      <td>1.0</td>\n",
       "      <td>Developing</td>\n",
       "      <td>0.0</td>\n",
       "    </tr>\n",
       "    <tr>\n",
       "      <th>1350747</th>\n",
       "      <td>12887</td>\n",
       "      <td>199.147</td>\n",
       "      <td>UW_t_bm25</td>\n",
       "      <td>f6f0758b228b359fa425d12d977d7250d2da0f55</td>\n",
       "      <td>15</td>\n",
       "      <td>0</td>\n",
       "      <td>0.0</td>\n",
       "      <td>1.0</td>\n",
       "      <td>Developing</td>\n",
       "      <td>0.0</td>\n",
       "    </tr>\n",
       "    <tr>\n",
       "      <th>1350748</th>\n",
       "      <td>12887</td>\n",
       "      <td>199.148</td>\n",
       "      <td>UW_t_bm25</td>\n",
       "      <td>f6f0758b228b359fa425d12d977d7250d2da0f55</td>\n",
       "      <td>15</td>\n",
       "      <td>0</td>\n",
       "      <td>0.0</td>\n",
       "      <td>1.0</td>\n",
       "      <td>Developing</td>\n",
       "      <td>0.0</td>\n",
       "    </tr>\n",
       "    <tr>\n",
       "      <th>1350749</th>\n",
       "      <td>12887</td>\n",
       "      <td>199.149</td>\n",
       "      <td>UW_t_bm25</td>\n",
       "      <td>f6f0758b228b359fa425d12d977d7250d2da0f55</td>\n",
       "      <td>15</td>\n",
       "      <td>0</td>\n",
       "      <td>0.0</td>\n",
       "      <td>1.0</td>\n",
       "      <td>Developing</td>\n",
       "      <td>0.0</td>\n",
       "    </tr>\n",
       "  </tbody>\n",
       "</table>\n",
       "<p>1350750 rows × 10 columns</p>\n",
       "</div>"
      ],
      "text/plain": [
       "           qid sequence          system  \\\n",
       "0         9087      0.0  UW_Kt_r0g0c100   \n",
       "1         9087      0.1  UW_Kt_r0g0c100   \n",
       "2         9087      0.2  UW_Kt_r0g0c100   \n",
       "3         9087      0.3  UW_Kt_r0g0c100   \n",
       "4         9087      0.4  UW_Kt_r0g0c100   \n",
       "...        ...      ...             ...   \n",
       "1350745  12887  199.145       UW_t_bm25   \n",
       "1350746  12887  199.146       UW_t_bm25   \n",
       "1350747  12887  199.147       UW_t_bm25   \n",
       "1350748  12887  199.148       UW_t_bm25   \n",
       "1350749  12887  199.149       UW_t_bm25   \n",
       "\n",
       "                                             item  rank  rating  Advanced  \\\n",
       "0        4a1472c575488ed9acee6c5481f68b95a0c34092     2       0       0.0   \n",
       "1        4a1472c575488ed9acee6c5481f68b95a0c34092     2       0       0.0   \n",
       "2        4a1472c575488ed9acee6c5481f68b95a0c34092     2       0       0.0   \n",
       "3        4a1472c575488ed9acee6c5481f68b95a0c34092     2       0       0.0   \n",
       "4        4a1472c575488ed9acee6c5481f68b95a0c34092     2       0       0.0   \n",
       "...                                           ...   ...     ...       ...   \n",
       "1350745  f6f0758b228b359fa425d12d977d7250d2da0f55    15       0       0.0   \n",
       "1350746  f6f0758b228b359fa425d12d977d7250d2da0f55    15       0       0.0   \n",
       "1350747  f6f0758b228b359fa425d12d977d7250d2da0f55    15       0       0.0   \n",
       "1350748  f6f0758b228b359fa425d12d977d7250d2da0f55    15       0       0.0   \n",
       "1350749  f6f0758b228b359fa425d12d977d7250d2da0f55    15       0       0.0   \n",
       "\n",
       "         Developing    DocLevel  Unknown  \n",
       "0               1.0  Developing      0.0  \n",
       "1               1.0  Developing      0.0  \n",
       "2               1.0  Developing      0.0  \n",
       "3               1.0  Developing      0.0  \n",
       "4               1.0  Developing      0.0  \n",
       "...             ...         ...      ...  \n",
       "1350745         1.0  Developing      0.0  \n",
       "1350746         1.0  Developing      0.0  \n",
       "1350747         1.0  Developing      0.0  \n",
       "1350748         1.0  Developing      0.0  \n",
       "1350749         1.0  Developing      0.0  \n",
       "\n",
       "[1350750 rows x 10 columns]"
      ]
     },
     "execution_count": 8,
     "metadata": {},
     "output_type": "execute_result"
    }
   ],
   "source": [
    "fairtrec"
   ]
  },
  {
   "cell_type": "code",
   "execution_count": 12,
   "metadata": {
    "scrolled": true
   },
   "outputs": [
    {
     "data": {
      "text/html": [
       "<div>\n",
       "<style scoped>\n",
       "    .dataframe tbody tr th:only-of-type {\n",
       "        vertical-align: middle;\n",
       "    }\n",
       "\n",
       "    .dataframe tbody tr th {\n",
       "        vertical-align: top;\n",
       "    }\n",
       "\n",
       "    .dataframe thead th {\n",
       "        text-align: right;\n",
       "    }\n",
       "</style>\n",
       "<table border=\"1\" class=\"dataframe\">\n",
       "  <thead>\n",
       "    <tr style=\"text-align: right;\">\n",
       "      <th></th>\n",
       "      <th>qid</th>\n",
       "      <th>item</th>\n",
       "      <th>rating</th>\n",
       "      <th>Advanced</th>\n",
       "      <th>Developing</th>\n",
       "      <th>DocLevel</th>\n",
       "      <th>Unknown</th>\n",
       "    </tr>\n",
       "  </thead>\n",
       "  <tbody>\n",
       "    <tr>\n",
       "      <th>0</th>\n",
       "      <td>9087</td>\n",
       "      <td>4a1472c575488ed9acee6c5481f68b95a0c34092</td>\n",
       "      <td>0</td>\n",
       "      <td>0.000000</td>\n",
       "      <td>1.000000</td>\n",
       "      <td>Developing</td>\n",
       "      <td>0.0</td>\n",
       "    </tr>\n",
       "    <tr>\n",
       "      <th>1</th>\n",
       "      <td>9087</td>\n",
       "      <td>ff8df0745136fb183ea72b783ff38f8a7ad5ceec</td>\n",
       "      <td>0</td>\n",
       "      <td>0.000000</td>\n",
       "      <td>1.000000</td>\n",
       "      <td>Developing</td>\n",
       "      <td>0.0</td>\n",
       "    </tr>\n",
       "    <tr>\n",
       "      <th>2</th>\n",
       "      <td>9087</td>\n",
       "      <td>cbc33164f9db97698901f130f399f2898d856267</td>\n",
       "      <td>0</td>\n",
       "      <td>0.571429</td>\n",
       "      <td>0.428571</td>\n",
       "      <td>Mixed</td>\n",
       "      <td>0.0</td>\n",
       "    </tr>\n",
       "    <tr>\n",
       "      <th>3</th>\n",
       "      <td>9087</td>\n",
       "      <td>34ba4f3d2a38b88153308f2a7f12651b440f5812</td>\n",
       "      <td>0</td>\n",
       "      <td>1.000000</td>\n",
       "      <td>0.000000</td>\n",
       "      <td>Advanced</td>\n",
       "      <td>0.0</td>\n",
       "    </tr>\n",
       "    <tr>\n",
       "      <th>4</th>\n",
       "      <td>74172</td>\n",
       "      <td>883495c182b26e83557c57d82e9e730e3faa1806</td>\n",
       "      <td>0</td>\n",
       "      <td>1.000000</td>\n",
       "      <td>0.000000</td>\n",
       "      <td>Advanced</td>\n",
       "      <td>0.0</td>\n",
       "    </tr>\n",
       "  </tbody>\n",
       "</table>\n",
       "</div>"
      ],
      "text/plain": [
       "     qid                                      item  rating  Advanced  \\\n",
       "0   9087  4a1472c575488ed9acee6c5481f68b95a0c34092       0  0.000000   \n",
       "1   9087  ff8df0745136fb183ea72b783ff38f8a7ad5ceec       0  0.000000   \n",
       "2   9087  cbc33164f9db97698901f130f399f2898d856267       0  0.571429   \n",
       "3   9087  34ba4f3d2a38b88153308f2a7f12651b440f5812       0  1.000000   \n",
       "4  74172  883495c182b26e83557c57d82e9e730e3faa1806       0  1.000000   \n",
       "\n",
       "   Developing    DocLevel  Unknown  \n",
       "0    1.000000  Developing      0.0  \n",
       "1    1.000000  Developing      0.0  \n",
       "2    0.428571       Mixed      0.0  \n",
       "3    0.000000    Advanced      0.0  \n",
       "4    0.000000    Advanced      0.0  "
      ]
     },
     "execution_count": 12,
     "metadata": {},
     "output_type": "execute_result"
    }
   ],
   "source": [
    "test_rates = lf20.load_test(authors, ratings_path)\n",
    "test_rates.head()"
   ]
  },
  {
   "cell_type": "markdown",
   "metadata": {},
   "source": [
    "### Dataset Stat"
   ]
  },
  {
   "cell_type": "code",
   "execution_count": 10,
   "metadata": {},
   "outputs": [
    {
     "data": {
      "text/plain": [
       "1783"
      ]
     },
     "execution_count": 10,
     "metadata": {},
     "output_type": "execute_result"
    }
   ],
   "source": [
    "fairtrec['item'].nunique()"
   ]
  },
  {
   "cell_type": "code",
   "execution_count": 35,
   "metadata": {},
   "outputs": [],
   "source": [
    "#fairtrec.isna().sum()"
   ]
  },
  {
   "cell_type": "code",
   "execution_count": 13,
   "metadata": {},
   "outputs": [
    {
     "data": {
      "text/plain": [
       "2112"
      ]
     },
     "execution_count": 13,
     "metadata": {},
     "output_type": "execute_result"
    }
   ],
   "source": [
    "test_rates['item'].nunique()"
   ]
  },
  {
   "cell_type": "code",
   "execution_count": 37,
   "metadata": {},
   "outputs": [],
   "source": [
    "#len(test_rates['DocLevel'].loc[test_rates['DocLevel']=='Advanced'])\n",
    "#test_rates['Developing'].count()"
   ]
  },
  {
   "cell_type": "code",
   "execution_count": 36,
   "metadata": {},
   "outputs": [],
   "source": [
    "#test_rates.isna().sum()"
   ]
  },
  {
   "cell_type": "code",
   "execution_count": 17,
   "metadata": {},
   "outputs": [],
   "source": [
    "#fairtrec['Algorithm'].replace(['UW_Kt_r0g0c100', 'UW_Kt_r25g25c50','UW_Kt_r60g20c20',\n",
    " #                                        'UW_t_bm25', 'UW_Kt_r80g10c10'],\n",
    "  #                                       ['1', '2', '3', '4', '5'], inplace=True)"
   ]
  },
  {
   "cell_type": "code",
   "execution_count": 38,
   "metadata": {},
   "outputs": [],
   "source": [
    "#type(fairtrec['rank'][0])"
   ]
  },
  {
   "cell_type": "code",
   "execution_count": 40,
   "metadata": {},
   "outputs": [
    {
     "data": {
      "text/plain": [
       "0.15884128891941393"
      ]
     },
     "execution_count": 40,
     "metadata": {},
     "output_type": "execute_result"
    }
   ],
   "source": [
    "group = gi.GroupInfo(G, 'Advanced', 'Developing', 'Unknown', 'DocLevel')\n",
    "group.tgt_p_binomial"
   ]
  },
  {
   "cell_type": "markdown",
   "metadata": {},
   "source": [
    "### Group infomration in dataset"
   ]
  },
  {
   "cell_type": "code",
   "execution_count": 39,
   "metadata": {},
   "outputs": [
    {
     "data": {
      "text/plain": [
       "Advanced      3499.220238\n",
       "Developing     660.779762\n",
       "Unknown        210.000000\n",
       "dtype: float64"
      ]
     },
     "execution_count": 39,
     "metadata": {},
     "output_type": "execute_result"
    }
   ],
   "source": [
    "G = lf20.G(authors)\n",
    "G"
   ]
  },
  {
   "cell_type": "markdown",
   "metadata": {},
   "source": [
    "#### Target population"
   ]
  },
  {
   "cell_type": "code",
   "execution_count": 41,
   "metadata": {},
   "outputs": [
    {
     "data": {
      "text/plain": [
       "Index(['qid', 'sequence', 'system', 'item', 'rank', 'rating', 'Advanced',\n",
       "       'Developing', 'DocLevel', 'Unknown'],\n",
       "      dtype='object')"
      ]
     },
     "execution_count": 41,
     "metadata": {},
     "output_type": "execute_result"
    }
   ],
   "source": [
    "fairtrec.columns"
   ]
  },
  {
   "cell_type": "code",
   "execution_count": 22,
   "metadata": {},
   "outputs": [],
   "source": [
    "#sorted(fairtrec['rank'].unique())"
   ]
  },
  {
   "cell_type": "markdown",
   "metadata": {},
   "source": [
    "## Metrics Implementation"
   ]
  },
  {
   "cell_type": "markdown",
   "metadata": {},
   "source": [
    "### Loading Metrics\n",
    "#### Excluding IAA and Sign and Joachim metrics in implemnetation since they don't work for soft group association"
   ]
  },
  {
   "cell_type": "code",
   "execution_count": 23,
   "metadata": {},
   "outputs": [],
   "source": [
    "from bookgender.fair_metrics.Run_metrics_IR import metric_analysis as ma\n",
    "MA = ma(fairtrec, test_rates, group, IAA = False, DRR = False)"
   ]
  },
  {
   "cell_type": "markdown",
   "metadata": {},
   "source": [
    "### Defaults settings of each metric"
   ]
  },
  {
   "cell_type": "code",
   "execution_count": 54,
   "metadata": {},
   "outputs": [
    {
     "data": {
      "application/vnd.jupyter.widget-view+json": {
       "model_id": "68d277245f874726a274612e653268f3",
       "version_major": 2,
       "version_minor": 0
      },
      "text/plain": [
       "HBox(children=(HTML(value=''), FloatProgress(value=0.0, max=945.0), HTML(value='')))"
      ]
     },
     "metadata": {},
     "output_type": "display_data"
    },
    {
     "name": "stdout",
     "output_type": "stream",
     "text": [
      "\n"
     ]
    },
    {
     "data": {
      "application/vnd.jupyter.widget-view+json": {
       "model_id": "982770a985ba4d33a8900d2e3936b187",
       "version_major": 2,
       "version_minor": 0
      },
      "text/plain": [
       "HBox(children=(HTML(value=''), FloatProgress(value=0.0, max=945.0), HTML(value='')))"
      ]
     },
     "metadata": {},
     "output_type": "display_data"
    },
    {
     "name": "stdout",
     "output_type": "stream",
     "text": [
      "\n"
     ]
    },
    {
     "data": {
      "text/html": [
       "<div>\n",
       "<style scoped>\n",
       "    .dataframe tbody tr th:only-of-type {\n",
       "        vertical-align: middle;\n",
       "    }\n",
       "\n",
       "    .dataframe tbody tr th {\n",
       "        vertical-align: top;\n",
       "    }\n",
       "\n",
       "    .dataframe thead th {\n",
       "        text-align: right;\n",
       "    }\n",
       "</style>\n",
       "<table border=\"1\" class=\"dataframe\">\n",
       "  <thead>\n",
       "    <tr style=\"text-align: right;\">\n",
       "      <th></th>\n",
       "      <th>system</th>\n",
       "      <th>Metric</th>\n",
       "      <th>value</th>\n",
       "      <th>ranked_size</th>\n",
       "    </tr>\n",
       "  </thead>\n",
       "  <tbody>\n",
       "    <tr>\n",
       "      <th>0</th>\n",
       "      <td>UW_Kt_r0g0c100</td>\n",
       "      <td>AWRF_equal</td>\n",
       "      <td>0.464469</td>\n",
       "      <td>100</td>\n",
       "    </tr>\n",
       "    <tr>\n",
       "      <th>1</th>\n",
       "      <td>UW_Kt_r25g25c50</td>\n",
       "      <td>AWRF_equal</td>\n",
       "      <td>0.434657</td>\n",
       "      <td>100</td>\n",
       "    </tr>\n",
       "    <tr>\n",
       "      <th>2</th>\n",
       "      <td>UW_Kt_r60g20c20</td>\n",
       "      <td>AWRF_equal</td>\n",
       "      <td>0.436589</td>\n",
       "      <td>100</td>\n",
       "    </tr>\n",
       "    <tr>\n",
       "      <th>3</th>\n",
       "      <td>UW_Kt_r80g10c10</td>\n",
       "      <td>AWRF_equal</td>\n",
       "      <td>0.432874</td>\n",
       "      <td>100</td>\n",
       "    </tr>\n",
       "    <tr>\n",
       "      <th>4</th>\n",
       "      <td>UW_t_bm25</td>\n",
       "      <td>AWRF_equal</td>\n",
       "      <td>0.435783</td>\n",
       "      <td>100</td>\n",
       "    </tr>\n",
       "    <tr>\n",
       "      <th>5</th>\n",
       "      <td>UW_Kt_r0g0c100</td>\n",
       "      <td>FAIR</td>\n",
       "      <td>0.499824</td>\n",
       "      <td>100</td>\n",
       "    </tr>\n",
       "    <tr>\n",
       "      <th>6</th>\n",
       "      <td>UW_Kt_r25g25c50</td>\n",
       "      <td>FAIR</td>\n",
       "      <td>0.570933</td>\n",
       "      <td>100</td>\n",
       "    </tr>\n",
       "    <tr>\n",
       "      <th>7</th>\n",
       "      <td>UW_Kt_r60g20c20</td>\n",
       "      <td>FAIR</td>\n",
       "      <td>0.571244</td>\n",
       "      <td>100</td>\n",
       "    </tr>\n",
       "    <tr>\n",
       "      <th>8</th>\n",
       "      <td>UW_Kt_r80g10c10</td>\n",
       "      <td>FAIR</td>\n",
       "      <td>0.571979</td>\n",
       "      <td>100</td>\n",
       "    </tr>\n",
       "    <tr>\n",
       "      <th>9</th>\n",
       "      <td>UW_t_bm25</td>\n",
       "      <td>FAIR</td>\n",
       "      <td>0.572641</td>\n",
       "      <td>100</td>\n",
       "    </tr>\n",
       "    <tr>\n",
       "      <th>10</th>\n",
       "      <td>UW_Kt_r0g0c100</td>\n",
       "      <td>AWRF</td>\n",
       "      <td>0.257297</td>\n",
       "      <td>100</td>\n",
       "    </tr>\n",
       "    <tr>\n",
       "      <th>11</th>\n",
       "      <td>UW_Kt_r25g25c50</td>\n",
       "      <td>AWRF</td>\n",
       "      <td>0.244896</td>\n",
       "      <td>100</td>\n",
       "    </tr>\n",
       "    <tr>\n",
       "      <th>12</th>\n",
       "      <td>UW_Kt_r60g20c20</td>\n",
       "      <td>AWRF</td>\n",
       "      <td>0.247494</td>\n",
       "      <td>100</td>\n",
       "    </tr>\n",
       "    <tr>\n",
       "      <th>13</th>\n",
       "      <td>UW_Kt_r80g10c10</td>\n",
       "      <td>AWRF</td>\n",
       "      <td>0.256160</td>\n",
       "      <td>100</td>\n",
       "    </tr>\n",
       "    <tr>\n",
       "      <th>14</th>\n",
       "      <td>UW_t_bm25</td>\n",
       "      <td>AWRF</td>\n",
       "      <td>0.260299</td>\n",
       "      <td>100</td>\n",
       "    </tr>\n",
       "    <tr>\n",
       "      <th>15</th>\n",
       "      <td>UW_Kt_r0g0c100</td>\n",
       "      <td>EEL</td>\n",
       "      <td>0.929131</td>\n",
       "      <td>100</td>\n",
       "    </tr>\n",
       "    <tr>\n",
       "      <th>16</th>\n",
       "      <td>UW_Kt_r25g25c50</td>\n",
       "      <td>EEL</td>\n",
       "      <td>0.674802</td>\n",
       "      <td>100</td>\n",
       "    </tr>\n",
       "    <tr>\n",
       "      <th>17</th>\n",
       "      <td>UW_Kt_r60g20c20</td>\n",
       "      <td>EEL</td>\n",
       "      <td>0.681533</td>\n",
       "      <td>100</td>\n",
       "    </tr>\n",
       "    <tr>\n",
       "      <th>18</th>\n",
       "      <td>UW_Kt_r80g10c10</td>\n",
       "      <td>EEL</td>\n",
       "      <td>0.709785</td>\n",
       "      <td>100</td>\n",
       "    </tr>\n",
       "    <tr>\n",
       "      <th>19</th>\n",
       "      <td>UW_t_bm25</td>\n",
       "      <td>EEL</td>\n",
       "      <td>0.708117</td>\n",
       "      <td>100</td>\n",
       "    </tr>\n",
       "    <tr>\n",
       "      <th>20</th>\n",
       "      <td>UW_Kt_r0g0c100</td>\n",
       "      <td>EED</td>\n",
       "      <td>0.265460</td>\n",
       "      <td>100</td>\n",
       "    </tr>\n",
       "    <tr>\n",
       "      <th>21</th>\n",
       "      <td>UW_Kt_r25g25c50</td>\n",
       "      <td>EED</td>\n",
       "      <td>0.563554</td>\n",
       "      <td>100</td>\n",
       "    </tr>\n",
       "    <tr>\n",
       "      <th>22</th>\n",
       "      <td>UW_Kt_r60g20c20</td>\n",
       "      <td>EED</td>\n",
       "      <td>0.418792</td>\n",
       "      <td>100</td>\n",
       "    </tr>\n",
       "    <tr>\n",
       "      <th>23</th>\n",
       "      <td>UW_Kt_r80g10c10</td>\n",
       "      <td>EED</td>\n",
       "      <td>0.428619</td>\n",
       "      <td>100</td>\n",
       "    </tr>\n",
       "    <tr>\n",
       "      <th>24</th>\n",
       "      <td>UW_t_bm25</td>\n",
       "      <td>EED</td>\n",
       "      <td>0.466843</td>\n",
       "      <td>100</td>\n",
       "    </tr>\n",
       "    <tr>\n",
       "      <th>25</th>\n",
       "      <td>UW_Kt_r0g0c100</td>\n",
       "      <td>EER</td>\n",
       "      <td>0.654575</td>\n",
       "      <td>100</td>\n",
       "    </tr>\n",
       "    <tr>\n",
       "      <th>26</th>\n",
       "      <td>UW_Kt_r25g25c50</td>\n",
       "      <td>EER</td>\n",
       "      <td>1.206997</td>\n",
       "      <td>100</td>\n",
       "    </tr>\n",
       "    <tr>\n",
       "      <th>27</th>\n",
       "      <td>UW_Kt_r60g20c20</td>\n",
       "      <td>EER</td>\n",
       "      <td>1.055504</td>\n",
       "      <td>100</td>\n",
       "    </tr>\n",
       "    <tr>\n",
       "      <th>28</th>\n",
       "      <td>UW_Kt_r80g10c10</td>\n",
       "      <td>EER</td>\n",
       "      <td>1.037080</td>\n",
       "      <td>100</td>\n",
       "    </tr>\n",
       "    <tr>\n",
       "      <th>29</th>\n",
       "      <td>UW_t_bm25</td>\n",
       "      <td>EER</td>\n",
       "      <td>1.076971</td>\n",
       "      <td>100</td>\n",
       "    </tr>\n",
       "  </tbody>\n",
       "</table>\n",
       "</div>"
      ],
      "text/plain": [
       "             system      Metric     value  ranked_size\n",
       "0    UW_Kt_r0g0c100  AWRF_equal  0.464469          100\n",
       "1   UW_Kt_r25g25c50  AWRF_equal  0.434657          100\n",
       "2   UW_Kt_r60g20c20  AWRF_equal  0.436589          100\n",
       "3   UW_Kt_r80g10c10  AWRF_equal  0.432874          100\n",
       "4         UW_t_bm25  AWRF_equal  0.435783          100\n",
       "5    UW_Kt_r0g0c100        FAIR  0.499824          100\n",
       "6   UW_Kt_r25g25c50        FAIR  0.570933          100\n",
       "7   UW_Kt_r60g20c20        FAIR  0.571244          100\n",
       "8   UW_Kt_r80g10c10        FAIR  0.571979          100\n",
       "9         UW_t_bm25        FAIR  0.572641          100\n",
       "10   UW_Kt_r0g0c100        AWRF  0.257297          100\n",
       "11  UW_Kt_r25g25c50        AWRF  0.244896          100\n",
       "12  UW_Kt_r60g20c20        AWRF  0.247494          100\n",
       "13  UW_Kt_r80g10c10        AWRF  0.256160          100\n",
       "14        UW_t_bm25        AWRF  0.260299          100\n",
       "15   UW_Kt_r0g0c100         EEL  0.929131          100\n",
       "16  UW_Kt_r25g25c50         EEL  0.674802          100\n",
       "17  UW_Kt_r60g20c20         EEL  0.681533          100\n",
       "18  UW_Kt_r80g10c10         EEL  0.709785          100\n",
       "19        UW_t_bm25         EEL  0.708117          100\n",
       "20   UW_Kt_r0g0c100         EED  0.265460          100\n",
       "21  UW_Kt_r25g25c50         EED  0.563554          100\n",
       "22  UW_Kt_r60g20c20         EED  0.418792          100\n",
       "23  UW_Kt_r80g10c10         EED  0.428619          100\n",
       "24        UW_t_bm25         EED  0.466843          100\n",
       "25   UW_Kt_r0g0c100         EER  0.654575          100\n",
       "26  UW_Kt_r25g25c50         EER  1.206997          100\n",
       "27  UW_Kt_r60g20c20         EER  1.055504          100\n",
       "28  UW_Kt_r80g10c10         EER  1.037080          100\n",
       "29        UW_t_bm25         EER  1.076971          100"
      ]
     },
     "execution_count": 54,
     "metadata": {},
     "output_type": "execute_result"
    }
   ],
   "source": [
    "default_results= MA.run_default_setting(listsize=100)\n",
    "default_results"
   ]
  },
  {
   "cell_type": "code",
   "execution_count": 25,
   "metadata": {},
   "outputs": [],
   "source": [
    "#default_results.to_parquet('results/fairtrec20/retrieval_soft_default.parquet')"
   ]
  },
  {
   "cell_type": "code",
   "execution_count": 55,
   "metadata": {},
   "outputs": [],
   "source": [
    "default_results.to_parquet('results/SIGIR22/retrieval_soft_default_up.parquet')"
   ]
  },
  {
   "cell_type": "markdown",
   "metadata": {
    "collapsed": true
   },
   "source": [
    "## Sensitivity Analysis"
   ]
  },
  {
   "cell_type": "markdown",
   "metadata": {},
   "source": [
    "### Ranked List Size Changing"
   ]
  },
  {
   "cell_type": "code",
   "execution_count": 27,
   "metadata": {},
   "outputs": [
    {
     "data": {
      "application/vnd.jupyter.widget-view+json": {
       "model_id": "4b862ebaad714ac188dfad51f2790a6e",
       "version_major": 2,
       "version_minor": 0
      },
      "text/plain": [
       "HBox(children=(HTML(value=''), FloatProgress(value=0.0, max=837.0), HTML(value='')))"
      ]
     },
     "metadata": {},
     "output_type": "display_data"
    },
    {
     "name": "stdout",
     "output_type": "stream",
     "text": [
      "\n"
     ]
    },
    {
     "data": {
      "application/vnd.jupyter.widget-view+json": {
       "model_id": "8092a831ba1f4d909db955a571221943",
       "version_major": 2,
       "version_minor": 0
      },
      "text/plain": [
       "HBox(children=(HTML(value=''), FloatProgress(value=0.0, max=837.0), HTML(value='')))"
      ]
     },
     "metadata": {},
     "output_type": "display_data"
    },
    {
     "name": "stderr",
     "output_type": "stream",
     "text": [
      "/home/AMIFARAJ/book-experiments/bookgender/fair_metrics/sapiezynski.py:54: RuntimeWarning: invalid value encountered in double_scalars\n"
     ]
    },
    {
     "name": "stdout",
     "output_type": "stream",
     "text": [
      "\n"
     ]
    },
    {
     "data": {
      "application/vnd.jupyter.widget-view+json": {
       "model_id": "777f7b2f9fb54f97a4cbe345e9b66a58",
       "version_major": 2,
       "version_minor": 0
      },
      "text/plain": [
       "HBox(children=(HTML(value=''), FloatProgress(value=0.0, max=899.0), HTML(value='')))"
      ]
     },
     "metadata": {},
     "output_type": "display_data"
    },
    {
     "name": "stdout",
     "output_type": "stream",
     "text": [
      "\n"
     ]
    },
    {
     "data": {
      "application/vnd.jupyter.widget-view+json": {
       "model_id": "4763c2bf907d45b8bd27c07bc9e71932",
       "version_major": 2,
       "version_minor": 0
      },
      "text/plain": [
       "HBox(children=(HTML(value=''), FloatProgress(value=0.0, max=899.0), HTML(value='')))"
      ]
     },
     "metadata": {},
     "output_type": "display_data"
    },
    {
     "name": "stderr",
     "output_type": "stream",
     "text": [
      "/home/AMIFARAJ/book-experiments/bookgender/fair_metrics/sapiezynski.py:54: RuntimeWarning: invalid value encountered in double_scalars\n"
     ]
    },
    {
     "name": "stdout",
     "output_type": "stream",
     "text": [
      "\n"
     ]
    },
    {
     "data": {
      "application/vnd.jupyter.widget-view+json": {
       "model_id": "d0b859d7dc974497a0c75340b1a38742",
       "version_major": 2,
       "version_minor": 0
      },
      "text/plain": [
       "HBox(children=(HTML(value=''), FloatProgress(value=0.0, max=914.0), HTML(value='')))"
      ]
     },
     "metadata": {},
     "output_type": "display_data"
    },
    {
     "name": "stdout",
     "output_type": "stream",
     "text": [
      "\n"
     ]
    },
    {
     "data": {
      "application/vnd.jupyter.widget-view+json": {
       "model_id": "a24bf27e85a24894a9224f4118a70c6a",
       "version_major": 2,
       "version_minor": 0
      },
      "text/plain": [
       "HBox(children=(HTML(value=''), FloatProgress(value=0.0, max=914.0), HTML(value='')))"
      ]
     },
     "metadata": {},
     "output_type": "display_data"
    },
    {
     "name": "stderr",
     "output_type": "stream",
     "text": [
      "/home/AMIFARAJ/book-experiments/bookgender/fair_metrics/sapiezynski.py:54: RuntimeWarning: invalid value encountered in double_scalars\n"
     ]
    },
    {
     "name": "stdout",
     "output_type": "stream",
     "text": [
      "\n"
     ]
    },
    {
     "data": {
      "application/vnd.jupyter.widget-view+json": {
       "model_id": "19ec8b33293d42f68a11c4201c318e9b",
       "version_major": 2,
       "version_minor": 0
      },
      "text/plain": [
       "HBox(children=(HTML(value=''), FloatProgress(value=0.0, max=925.0), HTML(value='')))"
      ]
     },
     "metadata": {},
     "output_type": "display_data"
    },
    {
     "name": "stdout",
     "output_type": "stream",
     "text": [
      "\n"
     ]
    },
    {
     "data": {
      "application/vnd.jupyter.widget-view+json": {
       "model_id": "d5fdade228ee446797e3dc4fd40ced33",
       "version_major": 2,
       "version_minor": 0
      },
      "text/plain": [
       "HBox(children=(HTML(value=''), FloatProgress(value=0.0, max=925.0), HTML(value='')))"
      ]
     },
     "metadata": {},
     "output_type": "display_data"
    },
    {
     "name": "stderr",
     "output_type": "stream",
     "text": [
      "/home/AMIFARAJ/book-experiments/bookgender/fair_metrics/sapiezynski.py:54: RuntimeWarning: invalid value encountered in double_scalars\n"
     ]
    },
    {
     "name": "stdout",
     "output_type": "stream",
     "text": [
      "\n"
     ]
    },
    {
     "data": {
      "application/vnd.jupyter.widget-view+json": {
       "model_id": "fd334633a99d4638aa9aee54dbf4a362",
       "version_major": 2,
       "version_minor": 0
      },
      "text/plain": [
       "HBox(children=(HTML(value=''), FloatProgress(value=0.0, max=928.0), HTML(value='')))"
      ]
     },
     "metadata": {},
     "output_type": "display_data"
    },
    {
     "name": "stdout",
     "output_type": "stream",
     "text": [
      "\n"
     ]
    },
    {
     "data": {
      "application/vnd.jupyter.widget-view+json": {
       "model_id": "539d0c796e4c4f80bb15eb4500fcb18d",
       "version_major": 2,
       "version_minor": 0
      },
      "text/plain": [
       "HBox(children=(HTML(value=''), FloatProgress(value=0.0, max=928.0), HTML(value='')))"
      ]
     },
     "metadata": {},
     "output_type": "display_data"
    },
    {
     "name": "stdout",
     "output_type": "stream",
     "text": [
      "\n"
     ]
    },
    {
     "data": {
      "application/vnd.jupyter.widget-view+json": {
       "model_id": "62950c52921a411e818a5482333eae6f",
       "version_major": 2,
       "version_minor": 0
      },
      "text/plain": [
       "HBox(children=(HTML(value=''), FloatProgress(value=0.0, max=945.0), HTML(value='')))"
      ]
     },
     "metadata": {},
     "output_type": "display_data"
    },
    {
     "name": "stdout",
     "output_type": "stream",
     "text": [
      "\n"
     ]
    },
    {
     "data": {
      "application/vnd.jupyter.widget-view+json": {
       "model_id": "3e4ebb4f63cc40d9a60b0dcd213136ff",
       "version_major": 2,
       "version_minor": 0
      },
      "text/plain": [
       "HBox(children=(HTML(value=''), FloatProgress(value=0.0, max=945.0), HTML(value='')))"
      ]
     },
     "metadata": {},
     "output_type": "display_data"
    },
    {
     "name": "stdout",
     "output_type": "stream",
     "text": [
      "\n"
     ]
    }
   ],
   "source": [
    "rankedlist_results=pd.DataFrame()\n",
    "for listsize in [10, 20, 30, 40, 50, 100]:\n",
    "    results = MA.run_default_setting(listsize)\n",
    "    rankedlist_results=rankedlist_results.append(results)"
   ]
  },
  {
   "cell_type": "code",
   "execution_count": 42,
   "metadata": {},
   "outputs": [],
   "source": [
    "#rankedlist_results.groupby(['system', 'Metric', 'ranked_size'])['value'].unique()"
   ]
  },
  {
   "cell_type": "code",
   "execution_count": 43,
   "metadata": {},
   "outputs": [],
   "source": [
    "rankedlist_results.to_parquet('results/SIGIR22/fair_rankedlist_sens_size_up.parquet')"
   ]
  },
  {
   "cell_type": "markdown",
   "metadata": {},
   "source": [
    "## Position Weight Changing"
   ]
  },
  {
   "cell_type": "code",
   "execution_count": 44,
   "metadata": {},
   "outputs": [
    {
     "data": {
      "application/vnd.jupyter.widget-view+json": {
       "model_id": "f94ef780c7324fdeba446fd1e33d9e6b",
       "version_major": 2,
       "version_minor": 0
      },
      "text/plain": [
       "HBox(children=(HTML(value=''), FloatProgress(value=0.0, max=837.0), HTML(value='')))"
      ]
     },
     "metadata": {},
     "output_type": "display_data"
    },
    {
     "name": "stdout",
     "output_type": "stream",
     "text": [
      "\n"
     ]
    },
    {
     "data": {
      "application/vnd.jupyter.widget-view+json": {
       "model_id": "af070625a43d4797943bfe6f5216f2a1",
       "version_major": 2,
       "version_minor": 0
      },
      "text/plain": [
       "HBox(children=(HTML(value=''), FloatProgress(value=0.0, max=837.0), HTML(value='')))"
      ]
     },
     "metadata": {},
     "output_type": "display_data"
    },
    {
     "name": "stdout",
     "output_type": "stream",
     "text": [
      "\n"
     ]
    },
    {
     "data": {
      "application/vnd.jupyter.widget-view+json": {
       "model_id": "f3b9e7b98f3e49469116be21e253d913",
       "version_major": 2,
       "version_minor": 0
      },
      "text/plain": [
       "HBox(children=(HTML(value=''), FloatProgress(value=0.0, max=837.0), HTML(value='')))"
      ]
     },
     "metadata": {},
     "output_type": "display_data"
    },
    {
     "name": "stdout",
     "output_type": "stream",
     "text": [
      "\n"
     ]
    },
    {
     "data": {
      "application/vnd.jupyter.widget-view+json": {
       "model_id": "a6918c14dc9f4818af0c5061c8ac775a",
       "version_major": 2,
       "version_minor": 0
      },
      "text/plain": [
       "HBox(children=(HTML(value=''), FloatProgress(value=0.0, max=837.0), HTML(value='')))"
      ]
     },
     "metadata": {},
     "output_type": "display_data"
    },
    {
     "name": "stdout",
     "output_type": "stream",
     "text": [
      "\n"
     ]
    },
    {
     "data": {
      "application/vnd.jupyter.widget-view+json": {
       "model_id": "a30c6d36b1584256918dc77b746ebe7b",
       "version_major": 2,
       "version_minor": 0
      },
      "text/plain": [
       "HBox(children=(HTML(value=''), FloatProgress(value=0.0, max=837.0), HTML(value='')))"
      ]
     },
     "metadata": {},
     "output_type": "display_data"
    },
    {
     "name": "stdout",
     "output_type": "stream",
     "text": [
      "\n"
     ]
    },
    {
     "data": {
      "application/vnd.jupyter.widget-view+json": {
       "model_id": "6b96bcff43324af89ca69602a914a21e",
       "version_major": 2,
       "version_minor": 0
      },
      "text/plain": [
       "HBox(children=(HTML(value=''), FloatProgress(value=0.0, max=837.0), HTML(value='')))"
      ]
     },
     "metadata": {},
     "output_type": "display_data"
    },
    {
     "name": "stdout",
     "output_type": "stream",
     "text": [
      "\n"
     ]
    },
    {
     "data": {
      "application/vnd.jupyter.widget-view+json": {
       "model_id": "85fec4daf7934d99988618519a8cc9a1",
       "version_major": 2,
       "version_minor": 0
      },
      "text/plain": [
       "HBox(children=(HTML(value=''), FloatProgress(value=0.0, max=837.0), HTML(value='')))"
      ]
     },
     "metadata": {},
     "output_type": "display_data"
    },
    {
     "name": "stdout",
     "output_type": "stream",
     "text": [
      "\n"
     ]
    },
    {
     "data": {
      "application/vnd.jupyter.widget-view+json": {
       "model_id": "82eaebff2c9041bc91ee26f6c7af28d9",
       "version_major": 2,
       "version_minor": 0
      },
      "text/plain": [
       "HBox(children=(HTML(value=''), FloatProgress(value=0.0, max=837.0), HTML(value='')))"
      ]
     },
     "metadata": {},
     "output_type": "display_data"
    },
    {
     "name": "stdout",
     "output_type": "stream",
     "text": [
      "\n"
     ]
    }
   ],
   "source": [
    "position_results=pd.DataFrame()\n",
    "for position in [pos.geometric, pos.cascade, pos.logarithmic, pos.rbp]:\n",
    "    results = MA.run_sensitivity_analysis(position_weight=position)\n",
    "    position_results=position_results.append(results)"
   ]
  },
  {
   "cell_type": "code",
   "execution_count": 47,
   "metadata": {},
   "outputs": [
    {
     "data": {
      "text/html": [
       "<div>\n",
       "<style scoped>\n",
       "    .dataframe tbody tr th:only-of-type {\n",
       "        vertical-align: middle;\n",
       "    }\n",
       "\n",
       "    .dataframe tbody tr th {\n",
       "        vertical-align: top;\n",
       "    }\n",
       "\n",
       "    .dataframe thead th {\n",
       "        text-align: right;\n",
       "    }\n",
       "</style>\n",
       "<table border=\"1\" class=\"dataframe\">\n",
       "  <thead>\n",
       "    <tr style=\"text-align: right;\">\n",
       "      <th></th>\n",
       "      <th>system</th>\n",
       "      <th>Metric</th>\n",
       "      <th>value</th>\n",
       "      <th>pos_weight</th>\n",
       "    </tr>\n",
       "  </thead>\n",
       "  <tbody>\n",
       "    <tr>\n",
       "      <th>0</th>\n",
       "      <td>UW_Kt_r0g0c100</td>\n",
       "      <td>AWRF</td>\n",
       "      <td>0.240878</td>\n",
       "      <td>geometric</td>\n",
       "    </tr>\n",
       "    <tr>\n",
       "      <th>1</th>\n",
       "      <td>UW_Kt_r25g25c50</td>\n",
       "      <td>AWRF</td>\n",
       "      <td>0.245832</td>\n",
       "      <td>geometric</td>\n",
       "    </tr>\n",
       "    <tr>\n",
       "      <th>2</th>\n",
       "      <td>UW_Kt_r60g20c20</td>\n",
       "      <td>AWRF</td>\n",
       "      <td>0.249097</td>\n",
       "      <td>geometric</td>\n",
       "    </tr>\n",
       "    <tr>\n",
       "      <th>3</th>\n",
       "      <td>UW_Kt_r80g10c10</td>\n",
       "      <td>AWRF</td>\n",
       "      <td>0.258523</td>\n",
       "      <td>geometric</td>\n",
       "    </tr>\n",
       "    <tr>\n",
       "      <th>4</th>\n",
       "      <td>UW_t_bm25</td>\n",
       "      <td>AWRF</td>\n",
       "      <td>0.263063</td>\n",
       "      <td>geometric</td>\n",
       "    </tr>\n",
       "    <tr>\n",
       "      <th>...</th>\n",
       "      <td>...</td>\n",
       "      <td>...</td>\n",
       "      <td>...</td>\n",
       "      <td>...</td>\n",
       "    </tr>\n",
       "    <tr>\n",
       "      <th>15</th>\n",
       "      <td>UW_Kt_r0g0c100</td>\n",
       "      <td>EER</td>\n",
       "      <td>1.543643</td>\n",
       "      <td>rbp</td>\n",
       "    </tr>\n",
       "    <tr>\n",
       "      <th>16</th>\n",
       "      <td>UW_Kt_r25g25c50</td>\n",
       "      <td>EER</td>\n",
       "      <td>2.523540</td>\n",
       "      <td>rbp</td>\n",
       "    </tr>\n",
       "    <tr>\n",
       "      <th>17</th>\n",
       "      <td>UW_Kt_r60g20c20</td>\n",
       "      <td>EER</td>\n",
       "      <td>2.483548</td>\n",
       "      <td>rbp</td>\n",
       "    </tr>\n",
       "    <tr>\n",
       "      <th>18</th>\n",
       "      <td>UW_Kt_r80g10c10</td>\n",
       "      <td>EER</td>\n",
       "      <td>2.399915</td>\n",
       "      <td>rbp</td>\n",
       "    </tr>\n",
       "    <tr>\n",
       "      <th>19</th>\n",
       "      <td>UW_t_bm25</td>\n",
       "      <td>EER</td>\n",
       "      <td>2.462478</td>\n",
       "      <td>rbp</td>\n",
       "    </tr>\n",
       "  </tbody>\n",
       "</table>\n",
       "<p>80 rows × 4 columns</p>\n",
       "</div>"
      ],
      "text/plain": [
       "             system Metric     value pos_weight\n",
       "0    UW_Kt_r0g0c100   AWRF  0.240878  geometric\n",
       "1   UW_Kt_r25g25c50   AWRF  0.245832  geometric\n",
       "2   UW_Kt_r60g20c20   AWRF  0.249097  geometric\n",
       "3   UW_Kt_r80g10c10   AWRF  0.258523  geometric\n",
       "4         UW_t_bm25   AWRF  0.263063  geometric\n",
       "..              ...    ...       ...        ...\n",
       "15   UW_Kt_r0g0c100    EER  1.543643        rbp\n",
       "16  UW_Kt_r25g25c50    EER  2.523540        rbp\n",
       "17  UW_Kt_r60g20c20    EER  2.483548        rbp\n",
       "18  UW_Kt_r80g10c10    EER  2.399915        rbp\n",
       "19        UW_t_bm25    EER  2.462478        rbp\n",
       "\n",
       "[80 rows x 4 columns]"
      ]
     },
     "execution_count": 47,
     "metadata": {},
     "output_type": "execute_result"
    }
   ],
   "source": [
    "position_result = position_results[['system', 'Metric', 'value', 'pos_weight']]\n",
    "position_result"
   ]
  },
  {
   "cell_type": "code",
   "execution_count": 48,
   "metadata": {},
   "outputs": [],
   "source": [
    "position_result.to_parquet('results/SIGIR22/fair_sensitive_position_up.parquet')"
   ]
  },
  {
   "cell_type": "markdown",
   "metadata": {},
   "source": [
    "## Parameter Changes (stopping probability and patience parameter)"
   ]
  },
  {
   "cell_type": "code",
   "execution_count": 49,
   "metadata": {},
   "outputs": [],
   "source": [
    "#MA.run_sensitivity_analysis(position_weight = pos.geometric, arg='stop', arg_val=0.1)"
   ]
  },
  {
   "cell_type": "code",
   "execution_count": 50,
   "metadata": {},
   "outputs": [
    {
     "data": {
      "application/vnd.jupyter.widget-view+json": {
       "model_id": "7bbb8423a867424580570c83dcea5666",
       "version_major": 2,
       "version_minor": 0
      },
      "text/plain": [
       "HBox(children=(HTML(value=''), FloatProgress(value=0.0, max=837.0), HTML(value='')))"
      ]
     },
     "metadata": {},
     "output_type": "display_data"
    },
    {
     "name": "stdout",
     "output_type": "stream",
     "text": [
      "\n"
     ]
    },
    {
     "data": {
      "application/vnd.jupyter.widget-view+json": {
       "model_id": "b3610ef21fdb4948acecc7f38668162d",
       "version_major": 2,
       "version_minor": 0
      },
      "text/plain": [
       "HBox(children=(HTML(value=''), FloatProgress(value=0.0, max=837.0), HTML(value='')))"
      ]
     },
     "metadata": {},
     "output_type": "display_data"
    },
    {
     "name": "stdout",
     "output_type": "stream",
     "text": [
      "\n"
     ]
    },
    {
     "data": {
      "application/vnd.jupyter.widget-view+json": {
       "model_id": "e3e33bb241e244719027aad429930c96",
       "version_major": 2,
       "version_minor": 0
      },
      "text/plain": [
       "HBox(children=(HTML(value=''), FloatProgress(value=0.0, max=837.0), HTML(value='')))"
      ]
     },
     "metadata": {},
     "output_type": "display_data"
    },
    {
     "name": "stdout",
     "output_type": "stream",
     "text": [
      "\n"
     ]
    },
    {
     "data": {
      "application/vnd.jupyter.widget-view+json": {
       "model_id": "2455feff4f3a453dad8346e32e39d5f9",
       "version_major": 2,
       "version_minor": 0
      },
      "text/plain": [
       "HBox(children=(HTML(value=''), FloatProgress(value=0.0, max=837.0), HTML(value='')))"
      ]
     },
     "metadata": {},
     "output_type": "display_data"
    },
    {
     "name": "stdout",
     "output_type": "stream",
     "text": [
      "\n"
     ]
    },
    {
     "data": {
      "application/vnd.jupyter.widget-view+json": {
       "model_id": "6baa87f4fe4d4181be2327cedfb6f957",
       "version_major": 2,
       "version_minor": 0
      },
      "text/plain": [
       "HBox(children=(HTML(value=''), FloatProgress(value=0.0, max=837.0), HTML(value='')))"
      ]
     },
     "metadata": {},
     "output_type": "display_data"
    },
    {
     "name": "stdout",
     "output_type": "stream",
     "text": [
      "\n"
     ]
    },
    {
     "data": {
      "application/vnd.jupyter.widget-view+json": {
       "model_id": "267b9587b98542428685bcc5f52a3b66",
       "version_major": 2,
       "version_minor": 0
      },
      "text/plain": [
       "HBox(children=(HTML(value=''), FloatProgress(value=0.0, max=837.0), HTML(value='')))"
      ]
     },
     "metadata": {},
     "output_type": "display_data"
    },
    {
     "name": "stdout",
     "output_type": "stream",
     "text": [
      "\n"
     ]
    },
    {
     "data": {
      "application/vnd.jupyter.widget-view+json": {
       "model_id": "99fbaaed9ecb4c8582692d16c0a650b1",
       "version_major": 2,
       "version_minor": 0
      },
      "text/plain": [
       "HBox(children=(HTML(value=''), FloatProgress(value=0.0, max=837.0), HTML(value='')))"
      ]
     },
     "metadata": {},
     "output_type": "display_data"
    },
    {
     "name": "stdout",
     "output_type": "stream",
     "text": [
      "\n"
     ]
    },
    {
     "data": {
      "application/vnd.jupyter.widget-view+json": {
       "model_id": "b9c0fd9d142149fea8d6f96ded2002d6",
       "version_major": 2,
       "version_minor": 0
      },
      "text/plain": [
       "HBox(children=(HTML(value=''), FloatProgress(value=0.0, max=837.0), HTML(value='')))"
      ]
     },
     "metadata": {},
     "output_type": "display_data"
    },
    {
     "name": "stdout",
     "output_type": "stream",
     "text": [
      "\n"
     ]
    },
    {
     "data": {
      "application/vnd.jupyter.widget-view+json": {
       "model_id": "4095197664d146679e001180799ccf6f",
       "version_major": 2,
       "version_minor": 0
      },
      "text/plain": [
       "HBox(children=(HTML(value=''), FloatProgress(value=0.0, max=837.0), HTML(value='')))"
      ]
     },
     "metadata": {},
     "output_type": "display_data"
    },
    {
     "name": "stdout",
     "output_type": "stream",
     "text": [
      "\n"
     ]
    },
    {
     "data": {
      "application/vnd.jupyter.widget-view+json": {
       "model_id": "8b7304ecab454a48b8b13bc1306d07fe",
       "version_major": 2,
       "version_minor": 0
      },
      "text/plain": [
       "HBox(children=(HTML(value=''), FloatProgress(value=0.0, max=837.0), HTML(value='')))"
      ]
     },
     "metadata": {},
     "output_type": "display_data"
    },
    {
     "name": "stdout",
     "output_type": "stream",
     "text": [
      "\n"
     ]
    },
    {
     "data": {
      "application/vnd.jupyter.widget-view+json": {
       "model_id": "99373a0cf49147a6af70ff75899899bf",
       "version_major": 2,
       "version_minor": 0
      },
      "text/plain": [
       "HBox(children=(HTML(value=''), FloatProgress(value=0.0, max=837.0), HTML(value='')))"
      ]
     },
     "metadata": {},
     "output_type": "display_data"
    },
    {
     "name": "stdout",
     "output_type": "stream",
     "text": [
      "\n"
     ]
    },
    {
     "data": {
      "application/vnd.jupyter.widget-view+json": {
       "model_id": "cbc2a4b39c1e43cf853825bfd946f834",
       "version_major": 2,
       "version_minor": 0
      },
      "text/plain": [
       "HBox(children=(HTML(value=''), FloatProgress(value=0.0, max=837.0), HTML(value='')))"
      ]
     },
     "metadata": {},
     "output_type": "display_data"
    },
    {
     "name": "stdout",
     "output_type": "stream",
     "text": [
      "\n"
     ]
    },
    {
     "data": {
      "application/vnd.jupyter.widget-view+json": {
       "model_id": "8c87e641879f4f74a7cb3dbee96b241e",
       "version_major": 2,
       "version_minor": 0
      },
      "text/plain": [
       "HBox(children=(HTML(value=''), FloatProgress(value=0.0, max=837.0), HTML(value='')))"
      ]
     },
     "metadata": {},
     "output_type": "display_data"
    },
    {
     "name": "stdout",
     "output_type": "stream",
     "text": [
      "\n"
     ]
    },
    {
     "data": {
      "application/vnd.jupyter.widget-view+json": {
       "model_id": "d5d771e8f67a4792b80ae95f7a2df3f4",
       "version_major": 2,
       "version_minor": 0
      },
      "text/plain": [
       "HBox(children=(HTML(value=''), FloatProgress(value=0.0, max=837.0), HTML(value='')))"
      ]
     },
     "metadata": {},
     "output_type": "display_data"
    },
    {
     "name": "stdout",
     "output_type": "stream",
     "text": [
      "\n"
     ]
    },
    {
     "data": {
      "application/vnd.jupyter.widget-view+json": {
       "model_id": "30652e5ab787400ca850a4c14d53daa6",
       "version_major": 2,
       "version_minor": 0
      },
      "text/plain": [
       "HBox(children=(HTML(value=''), FloatProgress(value=0.0, max=837.0), HTML(value='')))"
      ]
     },
     "metadata": {},
     "output_type": "display_data"
    },
    {
     "name": "stdout",
     "output_type": "stream",
     "text": [
      "\n"
     ]
    },
    {
     "data": {
      "application/vnd.jupyter.widget-view+json": {
       "model_id": "8ae01d8f596d46dab753ffe8315b75de",
       "version_major": 2,
       "version_minor": 0
      },
      "text/plain": [
       "HBox(children=(HTML(value=''), FloatProgress(value=0.0, max=837.0), HTML(value='')))"
      ]
     },
     "metadata": {},
     "output_type": "display_data"
    },
    {
     "name": "stdout",
     "output_type": "stream",
     "text": [
      "\n"
     ]
    },
    {
     "data": {
      "application/vnd.jupyter.widget-view+json": {
       "model_id": "c2585264e43e448c8eab746c1f638c93",
       "version_major": 2,
       "version_minor": 0
      },
      "text/plain": [
       "HBox(children=(HTML(value=''), FloatProgress(value=0.0, max=837.0), HTML(value='')))"
      ]
     },
     "metadata": {},
     "output_type": "display_data"
    },
    {
     "name": "stdout",
     "output_type": "stream",
     "text": [
      "\n"
     ]
    },
    {
     "data": {
      "application/vnd.jupyter.widget-view+json": {
       "model_id": "ad1764a1f4824a0c82d0c408bdc466f8",
       "version_major": 2,
       "version_minor": 0
      },
      "text/plain": [
       "HBox(children=(HTML(value=''), FloatProgress(value=0.0, max=837.0), HTML(value='')))"
      ]
     },
     "metadata": {},
     "output_type": "display_data"
    },
    {
     "name": "stdout",
     "output_type": "stream",
     "text": [
      "\n"
     ]
    },
    {
     "data": {
      "application/vnd.jupyter.widget-view+json": {
       "model_id": "515c1b5ddc604b0ca76e480683498172",
       "version_major": 2,
       "version_minor": 0
      },
      "text/plain": [
       "HBox(children=(HTML(value=''), FloatProgress(value=0.0, max=837.0), HTML(value='')))"
      ]
     },
     "metadata": {},
     "output_type": "display_data"
    },
    {
     "name": "stdout",
     "output_type": "stream",
     "text": [
      "\n"
     ]
    },
    {
     "data": {
      "application/vnd.jupyter.widget-view+json": {
       "model_id": "2d64573593a64dc382a05f2879d8b5d4",
       "version_major": 2,
       "version_minor": 0
      },
      "text/plain": [
       "HBox(children=(HTML(value=''), FloatProgress(value=0.0, max=837.0), HTML(value='')))"
      ]
     },
     "metadata": {},
     "output_type": "display_data"
    },
    {
     "name": "stdout",
     "output_type": "stream",
     "text": [
      "\n"
     ]
    },
    {
     "data": {
      "application/vnd.jupyter.widget-view+json": {
       "model_id": "1f49c4de15294054aecd96ca32b90af8",
       "version_major": 2,
       "version_minor": 0
      },
      "text/plain": [
       "HBox(children=(HTML(value=''), FloatProgress(value=0.0, max=837.0), HTML(value='')))"
      ]
     },
     "metadata": {},
     "output_type": "display_data"
    },
    {
     "name": "stdout",
     "output_type": "stream",
     "text": [
      "\n"
     ]
    },
    {
     "data": {
      "application/vnd.jupyter.widget-view+json": {
       "model_id": "c592432600a74abb9f59e66ba403c973",
       "version_major": 2,
       "version_minor": 0
      },
      "text/plain": [
       "HBox(children=(HTML(value=''), FloatProgress(value=0.0, max=837.0), HTML(value='')))"
      ]
     },
     "metadata": {},
     "output_type": "display_data"
    },
    {
     "name": "stdout",
     "output_type": "stream",
     "text": [
      "\n"
     ]
    },
    {
     "data": {
      "application/vnd.jupyter.widget-view+json": {
       "model_id": "e48b2451568f42bebb07105694e7ef42",
       "version_major": 2,
       "version_minor": 0
      },
      "text/plain": [
       "HBox(children=(HTML(value=''), FloatProgress(value=0.0, max=837.0), HTML(value='')))"
      ]
     },
     "metadata": {},
     "output_type": "display_data"
    },
    {
     "name": "stdout",
     "output_type": "stream",
     "text": [
      "\n"
     ]
    },
    {
     "data": {
      "application/vnd.jupyter.widget-view+json": {
       "model_id": "bb3ecf25fdfc42b3b49356d03d685fd9",
       "version_major": 2,
       "version_minor": 0
      },
      "text/plain": [
       "HBox(children=(HTML(value=''), FloatProgress(value=0.0, max=837.0), HTML(value='')))"
      ]
     },
     "metadata": {},
     "output_type": "display_data"
    },
    {
     "name": "stdout",
     "output_type": "stream",
     "text": [
      "\n"
     ]
    },
    {
     "data": {
      "application/vnd.jupyter.widget-view+json": {
       "model_id": "26e4be5118594902b66728d17ae2f987",
       "version_major": 2,
       "version_minor": 0
      },
      "text/plain": [
       "HBox(children=(HTML(value=''), FloatProgress(value=0.0, max=837.0), HTML(value='')))"
      ]
     },
     "metadata": {},
     "output_type": "display_data"
    },
    {
     "name": "stdout",
     "output_type": "stream",
     "text": [
      "\n"
     ]
    },
    {
     "data": {
      "application/vnd.jupyter.widget-view+json": {
       "model_id": "fc5b3d333b714c6bb50b4636a746c89c",
       "version_major": 2,
       "version_minor": 0
      },
      "text/plain": [
       "HBox(children=(HTML(value=''), FloatProgress(value=0.0, max=837.0), HTML(value='')))"
      ]
     },
     "metadata": {},
     "output_type": "display_data"
    },
    {
     "name": "stdout",
     "output_type": "stream",
     "text": [
      "\n"
     ]
    },
    {
     "data": {
      "application/vnd.jupyter.widget-view+json": {
       "model_id": "ad935ca23a9548ddae1c7fe5486e0f95",
       "version_major": 2,
       "version_minor": 0
      },
      "text/plain": [
       "HBox(children=(HTML(value=''), FloatProgress(value=0.0, max=837.0), HTML(value='')))"
      ]
     },
     "metadata": {},
     "output_type": "display_data"
    },
    {
     "name": "stdout",
     "output_type": "stream",
     "text": [
      "\n"
     ]
    },
    {
     "data": {
      "application/vnd.jupyter.widget-view+json": {
       "model_id": "d8e88b82df4e4174b99c3cc4ebbd257c",
       "version_major": 2,
       "version_minor": 0
      },
      "text/plain": [
       "HBox(children=(HTML(value=''), FloatProgress(value=0.0, max=837.0), HTML(value='')))"
      ]
     },
     "metadata": {},
     "output_type": "display_data"
    },
    {
     "name": "stdout",
     "output_type": "stream",
     "text": [
      "\n"
     ]
    },
    {
     "data": {
      "application/vnd.jupyter.widget-view+json": {
       "model_id": "fdb3cc1156964967bfc7b98f0ccac28f",
       "version_major": 2,
       "version_minor": 0
      },
      "text/plain": [
       "HBox(children=(HTML(value=''), FloatProgress(value=0.0, max=837.0), HTML(value='')))"
      ]
     },
     "metadata": {},
     "output_type": "display_data"
    },
    {
     "name": "stdout",
     "output_type": "stream",
     "text": [
      "\n"
     ]
    },
    {
     "data": {
      "application/vnd.jupyter.widget-view+json": {
       "model_id": "dd643fa9e9fa4307946f2b9dedba6e80",
       "version_major": 2,
       "version_minor": 0
      },
      "text/plain": [
       "HBox(children=(HTML(value=''), FloatProgress(value=0.0, max=837.0), HTML(value='')))"
      ]
     },
     "metadata": {},
     "output_type": "display_data"
    },
    {
     "name": "stdout",
     "output_type": "stream",
     "text": [
      "\n"
     ]
    },
    {
     "data": {
      "application/vnd.jupyter.widget-view+json": {
       "model_id": "6c8a42a115564c8e853ed4888355b7c5",
       "version_major": 2,
       "version_minor": 0
      },
      "text/plain": [
       "HBox(children=(HTML(value=''), FloatProgress(value=0.0, max=837.0), HTML(value='')))"
      ]
     },
     "metadata": {},
     "output_type": "display_data"
    },
    {
     "name": "stdout",
     "output_type": "stream",
     "text": [
      "\n"
     ]
    },
    {
     "data": {
      "application/vnd.jupyter.widget-view+json": {
       "model_id": "ce85aeebd54d455a81adf2b88eb702cc",
       "version_major": 2,
       "version_minor": 0
      },
      "text/plain": [
       "HBox(children=(HTML(value=''), FloatProgress(value=0.0, max=837.0), HTML(value='')))"
      ]
     },
     "metadata": {},
     "output_type": "display_data"
    },
    {
     "name": "stdout",
     "output_type": "stream",
     "text": [
      "\n"
     ]
    },
    {
     "data": {
      "application/vnd.jupyter.widget-view+json": {
       "model_id": "60612650404b4f40a6c88aa516a9330a",
       "version_major": 2,
       "version_minor": 0
      },
      "text/plain": [
       "HBox(children=(HTML(value=''), FloatProgress(value=0.0, max=837.0), HTML(value='')))"
      ]
     },
     "metadata": {},
     "output_type": "display_data"
    },
    {
     "name": "stdout",
     "output_type": "stream",
     "text": [
      "\n"
     ]
    },
    {
     "data": {
      "application/vnd.jupyter.widget-view+json": {
       "model_id": "dd0454aef5c14082a386027acc5c31b0",
       "version_major": 2,
       "version_minor": 0
      },
      "text/plain": [
       "HBox(children=(HTML(value=''), FloatProgress(value=0.0, max=837.0), HTML(value='')))"
      ]
     },
     "metadata": {},
     "output_type": "display_data"
    },
    {
     "name": "stdout",
     "output_type": "stream",
     "text": [
      "\n"
     ]
    },
    {
     "data": {
      "application/vnd.jupyter.widget-view+json": {
       "model_id": "34809f25c96646cfa350d375468d033f",
       "version_major": 2,
       "version_minor": 0
      },
      "text/plain": [
       "HBox(children=(HTML(value=''), FloatProgress(value=0.0, max=837.0), HTML(value='')))"
      ]
     },
     "metadata": {},
     "output_type": "display_data"
    },
    {
     "name": "stdout",
     "output_type": "stream",
     "text": [
      "\n"
     ]
    },
    {
     "data": {
      "application/vnd.jupyter.widget-view+json": {
       "model_id": "0c96515b86704ee096465ce49fe6ff3d",
       "version_major": 2,
       "version_minor": 0
      },
      "text/plain": [
       "HBox(children=(HTML(value=''), FloatProgress(value=0.0, max=837.0), HTML(value='')))"
      ]
     },
     "metadata": {},
     "output_type": "display_data"
    },
    {
     "name": "stdout",
     "output_type": "stream",
     "text": [
      "\n"
     ]
    }
   ],
   "source": [
    "stop_results=pd.DataFrame()\n",
    "for position in [pos.geometric, pos.cascade]:\n",
    "    for stop in range(1, 10, 1):\n",
    "        results = MA.run_sensitivity_analysis(position_weight = position, arg='stop', arg_val=stop/10)\n",
    "        stop_results=stop_results.append(results)"
   ]
  },
  {
   "cell_type": "code",
   "execution_count": 23,
   "metadata": {},
   "outputs": [
    {
     "data": {
      "text/html": [
       "<div>\n",
       "<style scoped>\n",
       "    .dataframe tbody tr th:only-of-type {\n",
       "        vertical-align: middle;\n",
       "    }\n",
       "\n",
       "    .dataframe tbody tr th {\n",
       "        vertical-align: top;\n",
       "    }\n",
       "\n",
       "    .dataframe thead th {\n",
       "        text-align: right;\n",
       "    }\n",
       "</style>\n",
       "<table border=\"1\" class=\"dataframe\">\n",
       "  <thead>\n",
       "    <tr style=\"text-align: right;\">\n",
       "      <th></th>\n",
       "      <th>system</th>\n",
       "      <th>Metric</th>\n",
       "      <th>value</th>\n",
       "      <th>stop</th>\n",
       "      <th>pos_weight</th>\n",
       "    </tr>\n",
       "  </thead>\n",
       "  <tbody>\n",
       "    <tr>\n",
       "      <th>0</th>\n",
       "      <td>UW_Kt_r0g0c100</td>\n",
       "      <td>AWRF</td>\n",
       "      <td>0.225565</td>\n",
       "      <td>0.1</td>\n",
       "      <td>geometric</td>\n",
       "    </tr>\n",
       "    <tr>\n",
       "      <th>1</th>\n",
       "      <td>UW_Kt_r25g25c50</td>\n",
       "      <td>AWRF</td>\n",
       "      <td>0.202644</td>\n",
       "      <td>0.1</td>\n",
       "      <td>geometric</td>\n",
       "    </tr>\n",
       "    <tr>\n",
       "      <th>2</th>\n",
       "      <td>UW_Kt_r60g20c20</td>\n",
       "      <td>AWRF</td>\n",
       "      <td>0.205109</td>\n",
       "      <td>0.1</td>\n",
       "      <td>geometric</td>\n",
       "    </tr>\n",
       "    <tr>\n",
       "      <th>3</th>\n",
       "      <td>UW_Kt_r80g10c10</td>\n",
       "      <td>AWRF</td>\n",
       "      <td>0.206864</td>\n",
       "      <td>0.1</td>\n",
       "      <td>geometric</td>\n",
       "    </tr>\n",
       "    <tr>\n",
       "      <th>4</th>\n",
       "      <td>UW_t_bm25</td>\n",
       "      <td>AWRF</td>\n",
       "      <td>0.207883</td>\n",
       "      <td>0.1</td>\n",
       "      <td>geometric</td>\n",
       "    </tr>\n",
       "    <tr>\n",
       "      <th>...</th>\n",
       "      <td>...</td>\n",
       "      <td>...</td>\n",
       "      <td>...</td>\n",
       "      <td>...</td>\n",
       "      <td>...</td>\n",
       "    </tr>\n",
       "    <tr>\n",
       "      <th>15</th>\n",
       "      <td>UW_Kt_r0g0c100</td>\n",
       "      <td>EER</td>\n",
       "      <td>0.474063</td>\n",
       "      <td>0.9</td>\n",
       "      <td>cascade</td>\n",
       "    </tr>\n",
       "    <tr>\n",
       "      <th>16</th>\n",
       "      <td>UW_Kt_r25g25c50</td>\n",
       "      <td>EER</td>\n",
       "      <td>0.779119</td>\n",
       "      <td>0.9</td>\n",
       "      <td>cascade</td>\n",
       "    </tr>\n",
       "    <tr>\n",
       "      <th>17</th>\n",
       "      <td>UW_Kt_r60g20c20</td>\n",
       "      <td>EER</td>\n",
       "      <td>0.629964</td>\n",
       "      <td>0.9</td>\n",
       "      <td>cascade</td>\n",
       "    </tr>\n",
       "    <tr>\n",
       "      <th>18</th>\n",
       "      <td>UW_Kt_r80g10c10</td>\n",
       "      <td>EER</td>\n",
       "      <td>0.624245</td>\n",
       "      <td>0.9</td>\n",
       "      <td>cascade</td>\n",
       "    </tr>\n",
       "    <tr>\n",
       "      <th>19</th>\n",
       "      <td>UW_t_bm25</td>\n",
       "      <td>EER</td>\n",
       "      <td>0.660949</td>\n",
       "      <td>0.9</td>\n",
       "      <td>cascade</td>\n",
       "    </tr>\n",
       "  </tbody>\n",
       "</table>\n",
       "<p>360 rows × 5 columns</p>\n",
       "</div>"
      ],
      "text/plain": [
       "             system Metric     value  stop pos_weight\n",
       "0    UW_Kt_r0g0c100   AWRF  0.225565   0.1  geometric\n",
       "1   UW_Kt_r25g25c50   AWRF  0.202644   0.1  geometric\n",
       "2   UW_Kt_r60g20c20   AWRF  0.205109   0.1  geometric\n",
       "3   UW_Kt_r80g10c10   AWRF  0.206864   0.1  geometric\n",
       "4         UW_t_bm25   AWRF  0.207883   0.1  geometric\n",
       "..              ...    ...       ...   ...        ...\n",
       "15   UW_Kt_r0g0c100    EER  0.474063   0.9    cascade\n",
       "16  UW_Kt_r25g25c50    EER  0.779119   0.9    cascade\n",
       "17  UW_Kt_r60g20c20    EER  0.629964   0.9    cascade\n",
       "18  UW_Kt_r80g10c10    EER  0.624245   0.9    cascade\n",
       "19        UW_t_bm25    EER  0.660949   0.9    cascade\n",
       "\n",
       "[360 rows x 5 columns]"
      ]
     },
     "execution_count": 23,
     "metadata": {},
     "output_type": "execute_result"
    }
   ],
   "source": [
    "stop_results"
   ]
  },
  {
   "cell_type": "code",
   "execution_count": 51,
   "metadata": {},
   "outputs": [
    {
     "data": {
      "application/vnd.jupyter.widget-view+json": {
       "model_id": "e9779759b4b04f1fac8f74df740cb5e8",
       "version_major": 2,
       "version_minor": 0
      },
      "text/plain": [
       "HBox(children=(HTML(value=''), FloatProgress(value=0.0, max=837.0), HTML(value='')))"
      ]
     },
     "metadata": {},
     "output_type": "display_data"
    },
    {
     "name": "stdout",
     "output_type": "stream",
     "text": [
      "\n"
     ]
    },
    {
     "data": {
      "application/vnd.jupyter.widget-view+json": {
       "model_id": "4a8e311b81e24918b290df9c20f1c516",
       "version_major": 2,
       "version_minor": 0
      },
      "text/plain": [
       "HBox(children=(HTML(value=''), FloatProgress(value=0.0, max=837.0), HTML(value='')))"
      ]
     },
     "metadata": {},
     "output_type": "display_data"
    },
    {
     "name": "stdout",
     "output_type": "stream",
     "text": [
      "\n"
     ]
    },
    {
     "data": {
      "application/vnd.jupyter.widget-view+json": {
       "model_id": "3346e3f7fc2e494bad887ff6881a293d",
       "version_major": 2,
       "version_minor": 0
      },
      "text/plain": [
       "HBox(children=(HTML(value=''), FloatProgress(value=0.0, max=837.0), HTML(value='')))"
      ]
     },
     "metadata": {},
     "output_type": "display_data"
    },
    {
     "name": "stdout",
     "output_type": "stream",
     "text": [
      "\n"
     ]
    },
    {
     "data": {
      "application/vnd.jupyter.widget-view+json": {
       "model_id": "c841213dbf644d5c8d6934fd44fbe7e8",
       "version_major": 2,
       "version_minor": 0
      },
      "text/plain": [
       "HBox(children=(HTML(value=''), FloatProgress(value=0.0, max=837.0), HTML(value='')))"
      ]
     },
     "metadata": {},
     "output_type": "display_data"
    },
    {
     "name": "stdout",
     "output_type": "stream",
     "text": [
      "\n"
     ]
    },
    {
     "data": {
      "application/vnd.jupyter.widget-view+json": {
       "model_id": "f745563e40994c6ca0104765d772db2b",
       "version_major": 2,
       "version_minor": 0
      },
      "text/plain": [
       "HBox(children=(HTML(value=''), FloatProgress(value=0.0, max=837.0), HTML(value='')))"
      ]
     },
     "metadata": {},
     "output_type": "display_data"
    },
    {
     "name": "stdout",
     "output_type": "stream",
     "text": [
      "\n"
     ]
    },
    {
     "data": {
      "application/vnd.jupyter.widget-view+json": {
       "model_id": "c2c856524de44272a694168c2d0b51bd",
       "version_major": 2,
       "version_minor": 0
      },
      "text/plain": [
       "HBox(children=(HTML(value=''), FloatProgress(value=0.0, max=837.0), HTML(value='')))"
      ]
     },
     "metadata": {},
     "output_type": "display_data"
    },
    {
     "name": "stdout",
     "output_type": "stream",
     "text": [
      "\n"
     ]
    },
    {
     "data": {
      "application/vnd.jupyter.widget-view+json": {
       "model_id": "baf661fbea8544328bba63acdbfe693c",
       "version_major": 2,
       "version_minor": 0
      },
      "text/plain": [
       "HBox(children=(HTML(value=''), FloatProgress(value=0.0, max=837.0), HTML(value='')))"
      ]
     },
     "metadata": {},
     "output_type": "display_data"
    },
    {
     "name": "stdout",
     "output_type": "stream",
     "text": [
      "\n"
     ]
    },
    {
     "data": {
      "application/vnd.jupyter.widget-view+json": {
       "model_id": "d5386f0cdcb74baab378021ef3253027",
       "version_major": 2,
       "version_minor": 0
      },
      "text/plain": [
       "HBox(children=(HTML(value=''), FloatProgress(value=0.0, max=837.0), HTML(value='')))"
      ]
     },
     "metadata": {},
     "output_type": "display_data"
    },
    {
     "name": "stdout",
     "output_type": "stream",
     "text": [
      "\n"
     ]
    },
    {
     "data": {
      "application/vnd.jupyter.widget-view+json": {
       "model_id": "543ba3508ddb4b6d8bf68bc80c7db190",
       "version_major": 2,
       "version_minor": 0
      },
      "text/plain": [
       "HBox(children=(HTML(value=''), FloatProgress(value=0.0, max=837.0), HTML(value='')))"
      ]
     },
     "metadata": {},
     "output_type": "display_data"
    },
    {
     "name": "stdout",
     "output_type": "stream",
     "text": [
      "\n"
     ]
    },
    {
     "data": {
      "application/vnd.jupyter.widget-view+json": {
       "model_id": "05fbcaebc6c842c9acd4f93fca636330",
       "version_major": 2,
       "version_minor": 0
      },
      "text/plain": [
       "HBox(children=(HTML(value=''), FloatProgress(value=0.0, max=837.0), HTML(value='')))"
      ]
     },
     "metadata": {},
     "output_type": "display_data"
    },
    {
     "name": "stdout",
     "output_type": "stream",
     "text": [
      "\n"
     ]
    },
    {
     "data": {
      "application/vnd.jupyter.widget-view+json": {
       "model_id": "bc105a51c26549c18a0183a7ea5f7342",
       "version_major": 2,
       "version_minor": 0
      },
      "text/plain": [
       "HBox(children=(HTML(value=''), FloatProgress(value=0.0, max=837.0), HTML(value='')))"
      ]
     },
     "metadata": {},
     "output_type": "display_data"
    },
    {
     "name": "stdout",
     "output_type": "stream",
     "text": [
      "\n"
     ]
    },
    {
     "data": {
      "application/vnd.jupyter.widget-view+json": {
       "model_id": "40a2f2e86b4a4a4e8226eb058fbd8a56",
       "version_major": 2,
       "version_minor": 0
      },
      "text/plain": [
       "HBox(children=(HTML(value=''), FloatProgress(value=0.0, max=837.0), HTML(value='')))"
      ]
     },
     "metadata": {},
     "output_type": "display_data"
    },
    {
     "name": "stdout",
     "output_type": "stream",
     "text": [
      "\n"
     ]
    },
    {
     "data": {
      "application/vnd.jupyter.widget-view+json": {
       "model_id": "6f70b2280f8f467088a68ed1b31eed42",
       "version_major": 2,
       "version_minor": 0
      },
      "text/plain": [
       "HBox(children=(HTML(value=''), FloatProgress(value=0.0, max=837.0), HTML(value='')))"
      ]
     },
     "metadata": {},
     "output_type": "display_data"
    },
    {
     "name": "stdout",
     "output_type": "stream",
     "text": [
      "\n"
     ]
    },
    {
     "data": {
      "application/vnd.jupyter.widget-view+json": {
       "model_id": "e49eff0d8d534aa58abefef6da88b48a",
       "version_major": 2,
       "version_minor": 0
      },
      "text/plain": [
       "HBox(children=(HTML(value=''), FloatProgress(value=0.0, max=837.0), HTML(value='')))"
      ]
     },
     "metadata": {},
     "output_type": "display_data"
    },
    {
     "name": "stdout",
     "output_type": "stream",
     "text": [
      "\n"
     ]
    },
    {
     "data": {
      "application/vnd.jupyter.widget-view+json": {
       "model_id": "29a44e53bbe44ef4b4de63a98e5dbf5a",
       "version_major": 2,
       "version_minor": 0
      },
      "text/plain": [
       "HBox(children=(HTML(value=''), FloatProgress(value=0.0, max=837.0), HTML(value='')))"
      ]
     },
     "metadata": {},
     "output_type": "display_data"
    },
    {
     "name": "stdout",
     "output_type": "stream",
     "text": [
      "\n"
     ]
    },
    {
     "data": {
      "application/vnd.jupyter.widget-view+json": {
       "model_id": "4a186f58b41c41f1a33e3ff9552cce59",
       "version_major": 2,
       "version_minor": 0
      },
      "text/plain": [
       "HBox(children=(HTML(value=''), FloatProgress(value=0.0, max=837.0), HTML(value='')))"
      ]
     },
     "metadata": {},
     "output_type": "display_data"
    },
    {
     "name": "stdout",
     "output_type": "stream",
     "text": [
      "\n"
     ]
    },
    {
     "data": {
      "application/vnd.jupyter.widget-view+json": {
       "model_id": "85417c8985444c6c8e8a23e0e2bf3e43",
       "version_major": 2,
       "version_minor": 0
      },
      "text/plain": [
       "HBox(children=(HTML(value=''), FloatProgress(value=0.0, max=837.0), HTML(value='')))"
      ]
     },
     "metadata": {},
     "output_type": "display_data"
    },
    {
     "name": "stdout",
     "output_type": "stream",
     "text": [
      "\n"
     ]
    },
    {
     "data": {
      "application/vnd.jupyter.widget-view+json": {
       "model_id": "59991e263c4949c480f1b8882511527b",
       "version_major": 2,
       "version_minor": 0
      },
      "text/plain": [
       "HBox(children=(HTML(value=''), FloatProgress(value=0.0, max=837.0), HTML(value='')))"
      ]
     },
     "metadata": {},
     "output_type": "display_data"
    },
    {
     "name": "stdout",
     "output_type": "stream",
     "text": [
      "\n"
     ]
    },
    {
     "data": {
      "application/vnd.jupyter.widget-view+json": {
       "model_id": "d2a3a3c846fe465e908fcdcead82b4b7",
       "version_major": 2,
       "version_minor": 0
      },
      "text/plain": [
       "HBox(children=(HTML(value=''), FloatProgress(value=0.0, max=837.0), HTML(value='')))"
      ]
     },
     "metadata": {},
     "output_type": "display_data"
    },
    {
     "name": "stdout",
     "output_type": "stream",
     "text": [
      "\n"
     ]
    },
    {
     "data": {
      "application/vnd.jupyter.widget-view+json": {
       "model_id": "27405d8e1056473e920073dc63bc95eb",
       "version_major": 2,
       "version_minor": 0
      },
      "text/plain": [
       "HBox(children=(HTML(value=''), FloatProgress(value=0.0, max=837.0), HTML(value='')))"
      ]
     },
     "metadata": {},
     "output_type": "display_data"
    },
    {
     "name": "stdout",
     "output_type": "stream",
     "text": [
      "\n"
     ]
    },
    {
     "data": {
      "application/vnd.jupyter.widget-view+json": {
       "model_id": "d71eb1b0a8004b4681c717f7a0e80373",
       "version_major": 2,
       "version_minor": 0
      },
      "text/plain": [
       "HBox(children=(HTML(value=''), FloatProgress(value=0.0, max=837.0), HTML(value='')))"
      ]
     },
     "metadata": {},
     "output_type": "display_data"
    },
    {
     "name": "stdout",
     "output_type": "stream",
     "text": [
      "\n"
     ]
    },
    {
     "data": {
      "application/vnd.jupyter.widget-view+json": {
       "model_id": "42a64e6d850947fa9ecef1fec7a490eb",
       "version_major": 2,
       "version_minor": 0
      },
      "text/plain": [
       "HBox(children=(HTML(value=''), FloatProgress(value=0.0, max=837.0), HTML(value='')))"
      ]
     },
     "metadata": {},
     "output_type": "display_data"
    },
    {
     "name": "stdout",
     "output_type": "stream",
     "text": [
      "\n"
     ]
    },
    {
     "data": {
      "application/vnd.jupyter.widget-view+json": {
       "model_id": "2f85dcfedd2243a7914400b89982b4af",
       "version_major": 2,
       "version_minor": 0
      },
      "text/plain": [
       "HBox(children=(HTML(value=''), FloatProgress(value=0.0, max=837.0), HTML(value='')))"
      ]
     },
     "metadata": {},
     "output_type": "display_data"
    },
    {
     "name": "stdout",
     "output_type": "stream",
     "text": [
      "\n"
     ]
    },
    {
     "data": {
      "application/vnd.jupyter.widget-view+json": {
       "model_id": "4c217ec0f6774783a9995c11753c3f28",
       "version_major": 2,
       "version_minor": 0
      },
      "text/plain": [
       "HBox(children=(HTML(value=''), FloatProgress(value=0.0, max=837.0), HTML(value='')))"
      ]
     },
     "metadata": {},
     "output_type": "display_data"
    },
    {
     "name": "stdout",
     "output_type": "stream",
     "text": [
      "\n"
     ]
    },
    {
     "data": {
      "application/vnd.jupyter.widget-view+json": {
       "model_id": "7acde5c9356d4773a9b57df357eeca2e",
       "version_major": 2,
       "version_minor": 0
      },
      "text/plain": [
       "HBox(children=(HTML(value=''), FloatProgress(value=0.0, max=837.0), HTML(value='')))"
      ]
     },
     "metadata": {},
     "output_type": "display_data"
    },
    {
     "name": "stdout",
     "output_type": "stream",
     "text": [
      "\n"
     ]
    },
    {
     "data": {
      "application/vnd.jupyter.widget-view+json": {
       "model_id": "14e4ba0a3c434701a4197cb2c0b4284d",
       "version_major": 2,
       "version_minor": 0
      },
      "text/plain": [
       "HBox(children=(HTML(value=''), FloatProgress(value=0.0, max=837.0), HTML(value='')))"
      ]
     },
     "metadata": {},
     "output_type": "display_data"
    },
    {
     "name": "stdout",
     "output_type": "stream",
     "text": [
      "\n"
     ]
    },
    {
     "data": {
      "application/vnd.jupyter.widget-view+json": {
       "model_id": "e24436d09f6b492d9b60aa64c2415a1d",
       "version_major": 2,
       "version_minor": 0
      },
      "text/plain": [
       "HBox(children=(HTML(value=''), FloatProgress(value=0.0, max=837.0), HTML(value='')))"
      ]
     },
     "metadata": {},
     "output_type": "display_data"
    },
    {
     "name": "stdout",
     "output_type": "stream",
     "text": [
      "\n"
     ]
    },
    {
     "data": {
      "application/vnd.jupyter.widget-view+json": {
       "model_id": "e9d5fb1ed5154000a25d89ef39fee5b3",
       "version_major": 2,
       "version_minor": 0
      },
      "text/plain": [
       "HBox(children=(HTML(value=''), FloatProgress(value=0.0, max=837.0), HTML(value='')))"
      ]
     },
     "metadata": {},
     "output_type": "display_data"
    },
    {
     "name": "stdout",
     "output_type": "stream",
     "text": [
      "\n"
     ]
    },
    {
     "data": {
      "application/vnd.jupyter.widget-view+json": {
       "model_id": "bbae416f201247df8ed2aadb97ff88a6",
       "version_major": 2,
       "version_minor": 0
      },
      "text/plain": [
       "HBox(children=(HTML(value=''), FloatProgress(value=0.0, max=837.0), HTML(value='')))"
      ]
     },
     "metadata": {},
     "output_type": "display_data"
    },
    {
     "name": "stdout",
     "output_type": "stream",
     "text": [
      "\n"
     ]
    },
    {
     "data": {
      "application/vnd.jupyter.widget-view+json": {
       "model_id": "d2d65a6216d7414ca8f83834a4403933",
       "version_major": 2,
       "version_minor": 0
      },
      "text/plain": [
       "HBox(children=(HTML(value=''), FloatProgress(value=0.0, max=837.0), HTML(value='')))"
      ]
     },
     "metadata": {},
     "output_type": "display_data"
    },
    {
     "name": "stdout",
     "output_type": "stream",
     "text": [
      "\n"
     ]
    },
    {
     "data": {
      "application/vnd.jupyter.widget-view+json": {
       "model_id": "45d1d30cbfca4c9095669fb086c7e01f",
       "version_major": 2,
       "version_minor": 0
      },
      "text/plain": [
       "HBox(children=(HTML(value=''), FloatProgress(value=0.0, max=837.0), HTML(value='')))"
      ]
     },
     "metadata": {},
     "output_type": "display_data"
    },
    {
     "name": "stdout",
     "output_type": "stream",
     "text": [
      "\n"
     ]
    },
    {
     "data": {
      "application/vnd.jupyter.widget-view+json": {
       "model_id": "948c5fe5f31a45ff8d8fb7d3b6d74b10",
       "version_major": 2,
       "version_minor": 0
      },
      "text/plain": [
       "HBox(children=(HTML(value=''), FloatProgress(value=0.0, max=837.0), HTML(value='')))"
      ]
     },
     "metadata": {},
     "output_type": "display_data"
    },
    {
     "name": "stdout",
     "output_type": "stream",
     "text": [
      "\n"
     ]
    },
    {
     "data": {
      "application/vnd.jupyter.widget-view+json": {
       "model_id": "82d1f204b1174de695799047c0910723",
       "version_major": 2,
       "version_minor": 0
      },
      "text/plain": [
       "HBox(children=(HTML(value=''), FloatProgress(value=0.0, max=837.0), HTML(value='')))"
      ]
     },
     "metadata": {},
     "output_type": "display_data"
    },
    {
     "name": "stdout",
     "output_type": "stream",
     "text": [
      "\n"
     ]
    },
    {
     "data": {
      "application/vnd.jupyter.widget-view+json": {
       "model_id": "628cdd4032d346f7afbf1e70b887f3a1",
       "version_major": 2,
       "version_minor": 0
      },
      "text/plain": [
       "HBox(children=(HTML(value=''), FloatProgress(value=0.0, max=837.0), HTML(value='')))"
      ]
     },
     "metadata": {},
     "output_type": "display_data"
    },
    {
     "name": "stdout",
     "output_type": "stream",
     "text": [
      "\n"
     ]
    },
    {
     "data": {
      "application/vnd.jupyter.widget-view+json": {
       "model_id": "b0811529ab954b648ed28b49fac1839c",
       "version_major": 2,
       "version_minor": 0
      },
      "text/plain": [
       "HBox(children=(HTML(value=''), FloatProgress(value=0.0, max=837.0), HTML(value='')))"
      ]
     },
     "metadata": {},
     "output_type": "display_data"
    },
    {
     "name": "stdout",
     "output_type": "stream",
     "text": [
      "\n"
     ]
    },
    {
     "data": {
      "application/vnd.jupyter.widget-view+json": {
       "model_id": "e09fdf6747a6449e8d8b24650a4f8490",
       "version_major": 2,
       "version_minor": 0
      },
      "text/plain": [
       "HBox(children=(HTML(value=''), FloatProgress(value=0.0, max=837.0), HTML(value='')))"
      ]
     },
     "metadata": {},
     "output_type": "display_data"
    },
    {
     "name": "stdout",
     "output_type": "stream",
     "text": [
      "\n"
     ]
    }
   ],
   "source": [
    "patience_results=pd.DataFrame()\n",
    "for position in [pos.rbp, pos.cascade]:\n",
    "    for patience in range(1, 10, 1):\n",
    "        results = MA.run_sensitivity_analysis(position_weight=position, arg='patience', arg_val=patience/10)\n",
    "        patience_results=patience_results.append(results)"
   ]
  },
  {
   "cell_type": "code",
   "execution_count": 52,
   "metadata": {},
   "outputs": [
    {
     "data": {
      "text/html": [
       "<div>\n",
       "<style scoped>\n",
       "    .dataframe tbody tr th:only-of-type {\n",
       "        vertical-align: middle;\n",
       "    }\n",
       "\n",
       "    .dataframe tbody tr th {\n",
       "        vertical-align: top;\n",
       "    }\n",
       "\n",
       "    .dataframe thead th {\n",
       "        text-align: right;\n",
       "    }\n",
       "</style>\n",
       "<table border=\"1\" class=\"dataframe\">\n",
       "  <thead>\n",
       "    <tr style=\"text-align: right;\">\n",
       "      <th></th>\n",
       "      <th>system</th>\n",
       "      <th>Metric</th>\n",
       "      <th>value</th>\n",
       "      <th>patience</th>\n",
       "      <th>pos_weight</th>\n",
       "      <th>ranked_size</th>\n",
       "    </tr>\n",
       "  </thead>\n",
       "  <tbody>\n",
       "    <tr>\n",
       "      <th>0</th>\n",
       "      <td>UW_Kt_r0g0c100</td>\n",
       "      <td>AWRF</td>\n",
       "      <td>0.244575</td>\n",
       "      <td>0.1</td>\n",
       "      <td>rbp</td>\n",
       "      <td>10</td>\n",
       "    </tr>\n",
       "    <tr>\n",
       "      <th>1</th>\n",
       "      <td>UW_Kt_r25g25c50</td>\n",
       "      <td>AWRF</td>\n",
       "      <td>0.273748</td>\n",
       "      <td>0.1</td>\n",
       "      <td>rbp</td>\n",
       "      <td>10</td>\n",
       "    </tr>\n",
       "    <tr>\n",
       "      <th>2</th>\n",
       "      <td>UW_Kt_r60g20c20</td>\n",
       "      <td>AWRF</td>\n",
       "      <td>0.275269</td>\n",
       "      <td>0.1</td>\n",
       "      <td>rbp</td>\n",
       "      <td>10</td>\n",
       "    </tr>\n",
       "    <tr>\n",
       "      <th>3</th>\n",
       "      <td>UW_Kt_r80g10c10</td>\n",
       "      <td>AWRF</td>\n",
       "      <td>0.289499</td>\n",
       "      <td>0.1</td>\n",
       "      <td>rbp</td>\n",
       "      <td>10</td>\n",
       "    </tr>\n",
       "    <tr>\n",
       "      <th>4</th>\n",
       "      <td>UW_t_bm25</td>\n",
       "      <td>AWRF</td>\n",
       "      <td>0.291519</td>\n",
       "      <td>0.1</td>\n",
       "      <td>rbp</td>\n",
       "      <td>10</td>\n",
       "    </tr>\n",
       "    <tr>\n",
       "      <th>...</th>\n",
       "      <td>...</td>\n",
       "      <td>...</td>\n",
       "      <td>...</td>\n",
       "      <td>...</td>\n",
       "      <td>...</td>\n",
       "      <td>...</td>\n",
       "    </tr>\n",
       "    <tr>\n",
       "      <th>15</th>\n",
       "      <td>UW_Kt_r0g0c100</td>\n",
       "      <td>EER</td>\n",
       "      <td>3.590863</td>\n",
       "      <td>0.9</td>\n",
       "      <td>cascade</td>\n",
       "      <td>10</td>\n",
       "    </tr>\n",
       "    <tr>\n",
       "      <th>16</th>\n",
       "      <td>UW_Kt_r25g25c50</td>\n",
       "      <td>EER</td>\n",
       "      <td>5.260052</td>\n",
       "      <td>0.9</td>\n",
       "      <td>cascade</td>\n",
       "      <td>10</td>\n",
       "    </tr>\n",
       "    <tr>\n",
       "      <th>17</th>\n",
       "      <td>UW_Kt_r60g20c20</td>\n",
       "      <td>EER</td>\n",
       "      <td>5.191910</td>\n",
       "      <td>0.9</td>\n",
       "      <td>cascade</td>\n",
       "      <td>10</td>\n",
       "    </tr>\n",
       "    <tr>\n",
       "      <th>18</th>\n",
       "      <td>UW_Kt_r80g10c10</td>\n",
       "      <td>EER</td>\n",
       "      <td>5.163059</td>\n",
       "      <td>0.9</td>\n",
       "      <td>cascade</td>\n",
       "      <td>10</td>\n",
       "    </tr>\n",
       "    <tr>\n",
       "      <th>19</th>\n",
       "      <td>UW_t_bm25</td>\n",
       "      <td>EER</td>\n",
       "      <td>5.181895</td>\n",
       "      <td>0.9</td>\n",
       "      <td>cascade</td>\n",
       "      <td>10</td>\n",
       "    </tr>\n",
       "  </tbody>\n",
       "</table>\n",
       "<p>360 rows × 6 columns</p>\n",
       "</div>"
      ],
      "text/plain": [
       "             system Metric     value  patience pos_weight  ranked_size\n",
       "0    UW_Kt_r0g0c100   AWRF  0.244575       0.1        rbp           10\n",
       "1   UW_Kt_r25g25c50   AWRF  0.273748       0.1        rbp           10\n",
       "2   UW_Kt_r60g20c20   AWRF  0.275269       0.1        rbp           10\n",
       "3   UW_Kt_r80g10c10   AWRF  0.289499       0.1        rbp           10\n",
       "4         UW_t_bm25   AWRF  0.291519       0.1        rbp           10\n",
       "..              ...    ...       ...       ...        ...          ...\n",
       "15   UW_Kt_r0g0c100    EER  3.590863       0.9    cascade           10\n",
       "16  UW_Kt_r25g25c50    EER  5.260052       0.9    cascade           10\n",
       "17  UW_Kt_r60g20c20    EER  5.191910       0.9    cascade           10\n",
       "18  UW_Kt_r80g10c10    EER  5.163059       0.9    cascade           10\n",
       "19        UW_t_bm25    EER  5.181895       0.9    cascade           10\n",
       "\n",
       "[360 rows x 6 columns]"
      ]
     },
     "execution_count": 52,
     "metadata": {},
     "output_type": "execute_result"
    }
   ],
   "source": [
    "patience_results"
   ]
  },
  {
   "cell_type": "code",
   "execution_count": 53,
   "metadata": {},
   "outputs": [],
   "source": [
    "stop_results.to_parquet('results/SIGIR22/fairret_sensitivity_stop_up.parquet')\n",
    "patience_results.to_parquet('results/SIGIR22/fairret_sensitivity_patience_up.parquet')"
   ]
  },
  {
   "cell_type": "markdown",
   "metadata": {},
   "source": [
    "## Hard association (each item is associated with a particular group)"
   ]
  },
  {
   "cell_type": "markdown",
   "metadata": {},
   "source": [
    "We aggregate the membership score to generate hard group association for each item. Below is an example of implemneting the metrics in hard group membership."
   ]
  },
  {
   "cell_type": "code",
   "execution_count": 17,
   "metadata": {},
   "outputs": [
    {
     "data": {
      "text/html": [
       "<div>\n",
       "<style scoped>\n",
       "    .dataframe tbody tr th:only-of-type {\n",
       "        vertical-align: middle;\n",
       "    }\n",
       "\n",
       "    .dataframe tbody tr th {\n",
       "        vertical-align: top;\n",
       "    }\n",
       "\n",
       "    .dataframe thead th {\n",
       "        text-align: right;\n",
       "    }\n",
       "</style>\n",
       "<table border=\"1\" class=\"dataframe\">\n",
       "  <thead>\n",
       "    <tr style=\"text-align: right;\">\n",
       "      <th></th>\n",
       "      <th>qid</th>\n",
       "      <th>sequence</th>\n",
       "      <th>system</th>\n",
       "      <th>item</th>\n",
       "      <th>rank</th>\n",
       "      <th>rating</th>\n",
       "      <th>Advanced</th>\n",
       "      <th>Developing</th>\n",
       "      <th>DocLevel</th>\n",
       "      <th>Unknown</th>\n",
       "    </tr>\n",
       "  </thead>\n",
       "  <tbody>\n",
       "    <tr>\n",
       "      <th>0</th>\n",
       "      <td>9087</td>\n",
       "      <td>0.0</td>\n",
       "      <td>UW_Kt_r0g0c100</td>\n",
       "      <td>4a1472c575488ed9acee6c5481f68b95a0c34092</td>\n",
       "      <td>2</td>\n",
       "      <td>0</td>\n",
       "      <td>0</td>\n",
       "      <td>1</td>\n",
       "      <td>Developing</td>\n",
       "      <td>0</td>\n",
       "    </tr>\n",
       "    <tr>\n",
       "      <th>1</th>\n",
       "      <td>9087</td>\n",
       "      <td>0.1</td>\n",
       "      <td>UW_Kt_r0g0c100</td>\n",
       "      <td>4a1472c575488ed9acee6c5481f68b95a0c34092</td>\n",
       "      <td>2</td>\n",
       "      <td>0</td>\n",
       "      <td>0</td>\n",
       "      <td>1</td>\n",
       "      <td>Developing</td>\n",
       "      <td>0</td>\n",
       "    </tr>\n",
       "    <tr>\n",
       "      <th>2</th>\n",
       "      <td>9087</td>\n",
       "      <td>0.2</td>\n",
       "      <td>UW_Kt_r0g0c100</td>\n",
       "      <td>4a1472c575488ed9acee6c5481f68b95a0c34092</td>\n",
       "      <td>2</td>\n",
       "      <td>0</td>\n",
       "      <td>0</td>\n",
       "      <td>1</td>\n",
       "      <td>Developing</td>\n",
       "      <td>0</td>\n",
       "    </tr>\n",
       "    <tr>\n",
       "      <th>3</th>\n",
       "      <td>9087</td>\n",
       "      <td>0.3</td>\n",
       "      <td>UW_Kt_r0g0c100</td>\n",
       "      <td>4a1472c575488ed9acee6c5481f68b95a0c34092</td>\n",
       "      <td>2</td>\n",
       "      <td>0</td>\n",
       "      <td>0</td>\n",
       "      <td>1</td>\n",
       "      <td>Developing</td>\n",
       "      <td>0</td>\n",
       "    </tr>\n",
       "    <tr>\n",
       "      <th>4</th>\n",
       "      <td>9087</td>\n",
       "      <td>0.4</td>\n",
       "      <td>UW_Kt_r0g0c100</td>\n",
       "      <td>4a1472c575488ed9acee6c5481f68b95a0c34092</td>\n",
       "      <td>2</td>\n",
       "      <td>0</td>\n",
       "      <td>0</td>\n",
       "      <td>1</td>\n",
       "      <td>Developing</td>\n",
       "      <td>0</td>\n",
       "    </tr>\n",
       "    <tr>\n",
       "      <th>...</th>\n",
       "      <td>...</td>\n",
       "      <td>...</td>\n",
       "      <td>...</td>\n",
       "      <td>...</td>\n",
       "      <td>...</td>\n",
       "      <td>...</td>\n",
       "      <td>...</td>\n",
       "      <td>...</td>\n",
       "      <td>...</td>\n",
       "      <td>...</td>\n",
       "    </tr>\n",
       "    <tr>\n",
       "      <th>1350745</th>\n",
       "      <td>12887</td>\n",
       "      <td>199.145</td>\n",
       "      <td>UW_Kt_r80g10c10</td>\n",
       "      <td>f6f0758b228b359fa425d12d977d7250d2da0f55</td>\n",
       "      <td>16</td>\n",
       "      <td>0</td>\n",
       "      <td>0</td>\n",
       "      <td>1</td>\n",
       "      <td>Developing</td>\n",
       "      <td>0</td>\n",
       "    </tr>\n",
       "    <tr>\n",
       "      <th>1350746</th>\n",
       "      <td>12887</td>\n",
       "      <td>199.146</td>\n",
       "      <td>UW_Kt_r80g10c10</td>\n",
       "      <td>f6f0758b228b359fa425d12d977d7250d2da0f55</td>\n",
       "      <td>16</td>\n",
       "      <td>0</td>\n",
       "      <td>0</td>\n",
       "      <td>1</td>\n",
       "      <td>Developing</td>\n",
       "      <td>0</td>\n",
       "    </tr>\n",
       "    <tr>\n",
       "      <th>1350747</th>\n",
       "      <td>12887</td>\n",
       "      <td>199.147</td>\n",
       "      <td>UW_Kt_r80g10c10</td>\n",
       "      <td>f6f0758b228b359fa425d12d977d7250d2da0f55</td>\n",
       "      <td>16</td>\n",
       "      <td>0</td>\n",
       "      <td>0</td>\n",
       "      <td>1</td>\n",
       "      <td>Developing</td>\n",
       "      <td>0</td>\n",
       "    </tr>\n",
       "    <tr>\n",
       "      <th>1350748</th>\n",
       "      <td>12887</td>\n",
       "      <td>199.148</td>\n",
       "      <td>UW_Kt_r80g10c10</td>\n",
       "      <td>f6f0758b228b359fa425d12d977d7250d2da0f55</td>\n",
       "      <td>16</td>\n",
       "      <td>0</td>\n",
       "      <td>0</td>\n",
       "      <td>1</td>\n",
       "      <td>Developing</td>\n",
       "      <td>0</td>\n",
       "    </tr>\n",
       "    <tr>\n",
       "      <th>1350749</th>\n",
       "      <td>12887</td>\n",
       "      <td>199.149</td>\n",
       "      <td>UW_Kt_r80g10c10</td>\n",
       "      <td>f6f0758b228b359fa425d12d977d7250d2da0f55</td>\n",
       "      <td>16</td>\n",
       "      <td>0</td>\n",
       "      <td>0</td>\n",
       "      <td>1</td>\n",
       "      <td>Developing</td>\n",
       "      <td>0</td>\n",
       "    </tr>\n",
       "  </tbody>\n",
       "</table>\n",
       "<p>1350750 rows × 10 columns</p>\n",
       "</div>"
      ],
      "text/plain": [
       "           qid sequence           system  \\\n",
       "0         9087      0.0   UW_Kt_r0g0c100   \n",
       "1         9087      0.1   UW_Kt_r0g0c100   \n",
       "2         9087      0.2   UW_Kt_r0g0c100   \n",
       "3         9087      0.3   UW_Kt_r0g0c100   \n",
       "4         9087      0.4   UW_Kt_r0g0c100   \n",
       "...        ...      ...              ...   \n",
       "1350745  12887  199.145  UW_Kt_r80g10c10   \n",
       "1350746  12887  199.146  UW_Kt_r80g10c10   \n",
       "1350747  12887  199.147  UW_Kt_r80g10c10   \n",
       "1350748  12887  199.148  UW_Kt_r80g10c10   \n",
       "1350749  12887  199.149  UW_Kt_r80g10c10   \n",
       "\n",
       "                                             item  rank  rating  Advanced  \\\n",
       "0        4a1472c575488ed9acee6c5481f68b95a0c34092     2       0         0   \n",
       "1        4a1472c575488ed9acee6c5481f68b95a0c34092     2       0         0   \n",
       "2        4a1472c575488ed9acee6c5481f68b95a0c34092     2       0         0   \n",
       "3        4a1472c575488ed9acee6c5481f68b95a0c34092     2       0         0   \n",
       "4        4a1472c575488ed9acee6c5481f68b95a0c34092     2       0         0   \n",
       "...                                           ...   ...     ...       ...   \n",
       "1350745  f6f0758b228b359fa425d12d977d7250d2da0f55    16       0         0   \n",
       "1350746  f6f0758b228b359fa425d12d977d7250d2da0f55    16       0         0   \n",
       "1350747  f6f0758b228b359fa425d12d977d7250d2da0f55    16       0         0   \n",
       "1350748  f6f0758b228b359fa425d12d977d7250d2da0f55    16       0         0   \n",
       "1350749  f6f0758b228b359fa425d12d977d7250d2da0f55    16       0         0   \n",
       "\n",
       "         Developing    DocLevel  Unknown  \n",
       "0                 1  Developing        0  \n",
       "1                 1  Developing        0  \n",
       "2                 1  Developing        0  \n",
       "3                 1  Developing        0  \n",
       "4                 1  Developing        0  \n",
       "...             ...         ...      ...  \n",
       "1350745           1  Developing        0  \n",
       "1350746           1  Developing        0  \n",
       "1350747           1  Developing        0  \n",
       "1350748           1  Developing        0  \n",
       "1350749           1  Developing        0  \n",
       "\n",
       "[1350750 rows x 10 columns]"
      ]
     },
     "execution_count": 17,
     "metadata": {},
     "output_type": "execute_result"
    }
   ],
   "source": [
    "authors = lf20.load_authors('data/trec2020-fair-archive/submission_parquet/author_annot_hard.parquet')\n",
    "fairtrec_hard = lf20.process_recs(recs, authors)\n",
    "fairtrec_hard"
   ]
  },
  {
   "cell_type": "code",
   "execution_count": 18,
   "metadata": {},
   "outputs": [
    {
     "data": {
      "text/html": [
       "<div>\n",
       "<style scoped>\n",
       "    .dataframe tbody tr th:only-of-type {\n",
       "        vertical-align: middle;\n",
       "    }\n",
       "\n",
       "    .dataframe tbody tr th {\n",
       "        vertical-align: top;\n",
       "    }\n",
       "\n",
       "    .dataframe thead th {\n",
       "        text-align: right;\n",
       "    }\n",
       "</style>\n",
       "<table border=\"1\" class=\"dataframe\">\n",
       "  <thead>\n",
       "    <tr style=\"text-align: right;\">\n",
       "      <th></th>\n",
       "      <th>qid</th>\n",
       "      <th>item</th>\n",
       "      <th>rating</th>\n",
       "      <th>Advanced</th>\n",
       "      <th>Developing</th>\n",
       "      <th>DocLevel</th>\n",
       "      <th>Unknown</th>\n",
       "    </tr>\n",
       "  </thead>\n",
       "  <tbody>\n",
       "    <tr>\n",
       "      <th>0</th>\n",
       "      <td>9087</td>\n",
       "      <td>4a1472c575488ed9acee6c5481f68b95a0c34092</td>\n",
       "      <td>0</td>\n",
       "      <td>0</td>\n",
       "      <td>1</td>\n",
       "      <td>Developing</td>\n",
       "      <td>0</td>\n",
       "    </tr>\n",
       "    <tr>\n",
       "      <th>1</th>\n",
       "      <td>9087</td>\n",
       "      <td>ff8df0745136fb183ea72b783ff38f8a7ad5ceec</td>\n",
       "      <td>0</td>\n",
       "      <td>0</td>\n",
       "      <td>1</td>\n",
       "      <td>Developing</td>\n",
       "      <td>0</td>\n",
       "    </tr>\n",
       "    <tr>\n",
       "      <th>2</th>\n",
       "      <td>9087</td>\n",
       "      <td>cbc33164f9db97698901f130f399f2898d856267</td>\n",
       "      <td>0</td>\n",
       "      <td>1</td>\n",
       "      <td>0</td>\n",
       "      <td>Mixed</td>\n",
       "      <td>0</td>\n",
       "    </tr>\n",
       "    <tr>\n",
       "      <th>3</th>\n",
       "      <td>9087</td>\n",
       "      <td>34ba4f3d2a38b88153308f2a7f12651b440f5812</td>\n",
       "      <td>0</td>\n",
       "      <td>1</td>\n",
       "      <td>0</td>\n",
       "      <td>Advanced</td>\n",
       "      <td>0</td>\n",
       "    </tr>\n",
       "    <tr>\n",
       "      <th>4</th>\n",
       "      <td>74172</td>\n",
       "      <td>883495c182b26e83557c57d82e9e730e3faa1806</td>\n",
       "      <td>0</td>\n",
       "      <td>1</td>\n",
       "      <td>0</td>\n",
       "      <td>Advanced</td>\n",
       "      <td>0</td>\n",
       "    </tr>\n",
       "  </tbody>\n",
       "</table>\n",
       "</div>"
      ],
      "text/plain": [
       "     qid                                      item  rating  Advanced  \\\n",
       "0   9087  4a1472c575488ed9acee6c5481f68b95a0c34092       0         0   \n",
       "1   9087  ff8df0745136fb183ea72b783ff38f8a7ad5ceec       0         0   \n",
       "2   9087  cbc33164f9db97698901f130f399f2898d856267       0         1   \n",
       "3   9087  34ba4f3d2a38b88153308f2a7f12651b440f5812       0         1   \n",
       "4  74172  883495c182b26e83557c57d82e9e730e3faa1806       0         1   \n",
       "\n",
       "   Developing    DocLevel  Unknown  \n",
       "0           1  Developing        0  \n",
       "1           1  Developing        0  \n",
       "2           0       Mixed        0  \n",
       "3           0    Advanced        0  \n",
       "4           0    Advanced        0  "
      ]
     },
     "execution_count": 18,
     "metadata": {},
     "output_type": "execute_result"
    }
   ],
   "source": [
    "test_rates_hard = lf20.load_test(authors)\n",
    "test_rates_hard.head()"
   ]
  },
  {
   "cell_type": "code",
   "execution_count": 21,
   "metadata": {},
   "outputs": [
    {
     "data": {
      "text/plain": [
       "Advanced      3531\n",
       "Developing     629\n",
       "Unknown        210\n",
       "dtype: int64"
      ]
     },
     "execution_count": 21,
     "metadata": {},
     "output_type": "execute_result"
    }
   ],
   "source": [
    "G = lf20.G(authors)\n",
    "G"
   ]
  },
  {
   "cell_type": "code",
   "execution_count": 22,
   "metadata": {},
   "outputs": [
    {
     "data": {
      "text/plain": [
       "0.15120192307692307"
      ]
     },
     "execution_count": 22,
     "metadata": {},
     "output_type": "execute_result"
    }
   ],
   "source": [
    "group = gi.GroupInfo(G, 'Advanced', 'Developing', 'Unknown', 'DocLevel')\n",
    "group.tgt_p_binomial"
   ]
  },
  {
   "cell_type": "code",
   "execution_count": 23,
   "metadata": {
    "collapsed": true
   },
   "outputs": [],
   "source": [
    "MA2 = ma(fairtrec_hard, test_rates_hard, group, IAA = False)"
   ]
  },
  {
   "cell_type": "code",
   "execution_count": 24,
   "metadata": {},
   "outputs": [
    {
     "data": {
      "application/vnd.jupyter.widget-view+json": {
       "model_id": "358789346344464a967752e22a35cbb7",
       "version_major": 2,
       "version_minor": 0
      },
      "text/plain": [
       "HBox(children=(HTML(value=''), FloatProgress(value=0.0, max=945.0), HTML(value='')))"
      ]
     },
     "metadata": {},
     "output_type": "display_data"
    },
    {
     "name": "stdout",
     "output_type": "stream",
     "text": [
      "\n"
     ]
    },
    {
     "data": {
      "application/vnd.jupyter.widget-view+json": {
       "model_id": "537589c0279a42038eadede5b724929a",
       "version_major": 2,
       "version_minor": 0
      },
      "text/plain": [
       "HBox(children=(HTML(value=''), FloatProgress(value=0.0, max=945.0), HTML(value='')))"
      ]
     },
     "metadata": {},
     "output_type": "display_data"
    },
    {
     "name": "stdout",
     "output_type": "stream",
     "text": [
      "\n"
     ]
    },
    {
     "data": {
      "text/html": [
       "<div>\n",
       "<style scoped>\n",
       "    .dataframe tbody tr th:only-of-type {\n",
       "        vertical-align: middle;\n",
       "    }\n",
       "\n",
       "    .dataframe tbody tr th {\n",
       "        vertical-align: top;\n",
       "    }\n",
       "\n",
       "    .dataframe thead th {\n",
       "        text-align: right;\n",
       "    }\n",
       "</style>\n",
       "<table border=\"1\" class=\"dataframe\">\n",
       "  <thead>\n",
       "    <tr style=\"text-align: right;\">\n",
       "      <th></th>\n",
       "      <th>system</th>\n",
       "      <th>Metric</th>\n",
       "      <th>value</th>\n",
       "    </tr>\n",
       "  </thead>\n",
       "  <tbody>\n",
       "    <tr>\n",
       "      <th>0</th>\n",
       "      <td>UW_Kt_r0g0c100</td>\n",
       "      <td>AWRF_equal</td>\n",
       "      <td>0.479919</td>\n",
       "    </tr>\n",
       "    <tr>\n",
       "      <th>1</th>\n",
       "      <td>UW_Kt_r25g25c50</td>\n",
       "      <td>AWRF_equal</td>\n",
       "      <td>0.452030</td>\n",
       "    </tr>\n",
       "    <tr>\n",
       "      <th>2</th>\n",
       "      <td>UW_Kt_r60g20c20</td>\n",
       "      <td>AWRF_equal</td>\n",
       "      <td>0.451646</td>\n",
       "    </tr>\n",
       "    <tr>\n",
       "      <th>3</th>\n",
       "      <td>UW_Kt_r80g10c10</td>\n",
       "      <td>AWRF_equal</td>\n",
       "      <td>0.446389</td>\n",
       "    </tr>\n",
       "    <tr>\n",
       "      <th>4</th>\n",
       "      <td>UW_t_bm25</td>\n",
       "      <td>AWRF_equal</td>\n",
       "      <td>0.447159</td>\n",
       "    </tr>\n",
       "    <tr>\n",
       "      <th>5</th>\n",
       "      <td>UW_Kt_r0g0c100</td>\n",
       "      <td>FAIR</td>\n",
       "      <td>0.439195</td>\n",
       "    </tr>\n",
       "    <tr>\n",
       "      <th>6</th>\n",
       "      <td>UW_Kt_r25g25c50</td>\n",
       "      <td>FAIR</td>\n",
       "      <td>0.526644</td>\n",
       "    </tr>\n",
       "    <tr>\n",
       "      <th>7</th>\n",
       "      <td>UW_Kt_r60g20c20</td>\n",
       "      <td>FAIR</td>\n",
       "      <td>0.527116</td>\n",
       "    </tr>\n",
       "    <tr>\n",
       "      <th>8</th>\n",
       "      <td>UW_Kt_r80g10c10</td>\n",
       "      <td>FAIR</td>\n",
       "      <td>0.527823</td>\n",
       "    </tr>\n",
       "    <tr>\n",
       "      <th>9</th>\n",
       "      <td>UW_t_bm25</td>\n",
       "      <td>FAIR</td>\n",
       "      <td>0.528304</td>\n",
       "    </tr>\n",
       "    <tr>\n",
       "      <th>10</th>\n",
       "      <td>UW_Kt_r0g0c100</td>\n",
       "      <td>AWRF</td>\n",
       "      <td>0.258863</td>\n",
       "    </tr>\n",
       "    <tr>\n",
       "      <th>11</th>\n",
       "      <td>UW_Kt_r25g25c50</td>\n",
       "      <td>AWRF</td>\n",
       "      <td>0.252584</td>\n",
       "    </tr>\n",
       "    <tr>\n",
       "      <th>12</th>\n",
       "      <td>UW_Kt_r60g20c20</td>\n",
       "      <td>AWRF</td>\n",
       "      <td>0.254375</td>\n",
       "    </tr>\n",
       "    <tr>\n",
       "      <th>13</th>\n",
       "      <td>UW_Kt_r80g10c10</td>\n",
       "      <td>AWRF</td>\n",
       "      <td>0.262270</td>\n",
       "    </tr>\n",
       "    <tr>\n",
       "      <th>14</th>\n",
       "      <td>UW_t_bm25</td>\n",
       "      <td>AWRF</td>\n",
       "      <td>0.265412</td>\n",
       "    </tr>\n",
       "    <tr>\n",
       "      <th>15</th>\n",
       "      <td>UW_Kt_r0g0c100</td>\n",
       "      <td>EEL</td>\n",
       "      <td>0.948994</td>\n",
       "    </tr>\n",
       "    <tr>\n",
       "      <th>16</th>\n",
       "      <td>UW_Kt_r25g25c50</td>\n",
       "      <td>EEL</td>\n",
       "      <td>0.684111</td>\n",
       "    </tr>\n",
       "    <tr>\n",
       "      <th>17</th>\n",
       "      <td>UW_Kt_r60g20c20</td>\n",
       "      <td>EEL</td>\n",
       "      <td>0.693422</td>\n",
       "    </tr>\n",
       "    <tr>\n",
       "      <th>18</th>\n",
       "      <td>UW_Kt_r80g10c10</td>\n",
       "      <td>EEL</td>\n",
       "      <td>0.721832</td>\n",
       "    </tr>\n",
       "    <tr>\n",
       "      <th>19</th>\n",
       "      <td>UW_t_bm25</td>\n",
       "      <td>EEL</td>\n",
       "      <td>0.721751</td>\n",
       "    </tr>\n",
       "    <tr>\n",
       "      <th>20</th>\n",
       "      <td>UW_Kt_r0g0c100</td>\n",
       "      <td>EED</td>\n",
       "      <td>0.271925</td>\n",
       "    </tr>\n",
       "    <tr>\n",
       "      <th>21</th>\n",
       "      <td>UW_Kt_r25g25c50</td>\n",
       "      <td>EED</td>\n",
       "      <td>0.580297</td>\n",
       "    </tr>\n",
       "    <tr>\n",
       "      <th>22</th>\n",
       "      <td>UW_Kt_r60g20c20</td>\n",
       "      <td>EED</td>\n",
       "      <td>0.433787</td>\n",
       "    </tr>\n",
       "    <tr>\n",
       "      <th>23</th>\n",
       "      <td>UW_Kt_r80g10c10</td>\n",
       "      <td>EED</td>\n",
       "      <td>0.442892</td>\n",
       "    </tr>\n",
       "    <tr>\n",
       "      <th>24</th>\n",
       "      <td>UW_t_bm25</td>\n",
       "      <td>EED</td>\n",
       "      <td>0.483785</td>\n",
       "    </tr>\n",
       "    <tr>\n",
       "      <th>25</th>\n",
       "      <td>UW_Kt_r0g0c100</td>\n",
       "      <td>EER</td>\n",
       "      <td>0.664172</td>\n",
       "    </tr>\n",
       "    <tr>\n",
       "      <th>26</th>\n",
       "      <td>UW_Kt_r25g25c50</td>\n",
       "      <td>EER</td>\n",
       "      <td>1.237427</td>\n",
       "    </tr>\n",
       "    <tr>\n",
       "      <th>27</th>\n",
       "      <td>UW_Kt_r60g20c20</td>\n",
       "      <td>EER</td>\n",
       "      <td>1.081606</td>\n",
       "    </tr>\n",
       "    <tr>\n",
       "      <th>28</th>\n",
       "      <td>UW_Kt_r80g10c10</td>\n",
       "      <td>EER</td>\n",
       "      <td>1.062301</td>\n",
       "    </tr>\n",
       "    <tr>\n",
       "      <th>29</th>\n",
       "      <td>UW_t_bm25</td>\n",
       "      <td>EER</td>\n",
       "      <td>1.103275</td>\n",
       "    </tr>\n",
       "    <tr>\n",
       "      <th>30</th>\n",
       "      <td>UW_Kt_r0g0c100</td>\n",
       "      <td>logDP</td>\n",
       "      <td>-8.249126</td>\n",
       "    </tr>\n",
       "    <tr>\n",
       "      <th>31</th>\n",
       "      <td>UW_Kt_r25g25c50</td>\n",
       "      <td>logDP</td>\n",
       "      <td>-8.173788</td>\n",
       "    </tr>\n",
       "    <tr>\n",
       "      <th>32</th>\n",
       "      <td>UW_Kt_r60g20c20</td>\n",
       "      <td>logDP</td>\n",
       "      <td>-8.182171</td>\n",
       "    </tr>\n",
       "    <tr>\n",
       "      <th>33</th>\n",
       "      <td>UW_Kt_r80g10c10</td>\n",
       "      <td>logDP</td>\n",
       "      <td>-8.189872</td>\n",
       "    </tr>\n",
       "    <tr>\n",
       "      <th>34</th>\n",
       "      <td>UW_t_bm25</td>\n",
       "      <td>logDP</td>\n",
       "      <td>-8.190989</td>\n",
       "    </tr>\n",
       "    <tr>\n",
       "      <th>35</th>\n",
       "      <td>UW_Kt_r0g0c100</td>\n",
       "      <td>logEUR</td>\n",
       "      <td>-9.544266</td>\n",
       "    </tr>\n",
       "    <tr>\n",
       "      <th>36</th>\n",
       "      <td>UW_Kt_r25g25c50</td>\n",
       "      <td>logEUR</td>\n",
       "      <td>-9.468927</td>\n",
       "    </tr>\n",
       "    <tr>\n",
       "      <th>37</th>\n",
       "      <td>UW_Kt_r60g20c20</td>\n",
       "      <td>logEUR</td>\n",
       "      <td>-9.477310</td>\n",
       "    </tr>\n",
       "    <tr>\n",
       "      <th>38</th>\n",
       "      <td>UW_Kt_r80g10c10</td>\n",
       "      <td>logEUR</td>\n",
       "      <td>-9.485011</td>\n",
       "    </tr>\n",
       "    <tr>\n",
       "      <th>39</th>\n",
       "      <td>UW_t_bm25</td>\n",
       "      <td>logEUR</td>\n",
       "      <td>-9.486129</td>\n",
       "    </tr>\n",
       "    <tr>\n",
       "      <th>40</th>\n",
       "      <td>UW_Kt_r0g0c100</td>\n",
       "      <td>logRUR</td>\n",
       "      <td>-4.583534</td>\n",
       "    </tr>\n",
       "    <tr>\n",
       "      <th>41</th>\n",
       "      <td>UW_Kt_r25g25c50</td>\n",
       "      <td>logRUR</td>\n",
       "      <td>-4.535783</td>\n",
       "    </tr>\n",
       "    <tr>\n",
       "      <th>42</th>\n",
       "      <td>UW_Kt_r60g20c20</td>\n",
       "      <td>logRUR</td>\n",
       "      <td>-4.537716</td>\n",
       "    </tr>\n",
       "    <tr>\n",
       "      <th>43</th>\n",
       "      <td>UW_Kt_r80g10c10</td>\n",
       "      <td>logRUR</td>\n",
       "      <td>-4.552800</td>\n",
       "    </tr>\n",
       "    <tr>\n",
       "      <th>44</th>\n",
       "      <td>UW_t_bm25</td>\n",
       "      <td>logRUR</td>\n",
       "      <td>-4.554715</td>\n",
       "    </tr>\n",
       "  </tbody>\n",
       "</table>\n",
       "</div>"
      ],
      "text/plain": [
       "             system      Metric     value\n",
       "0    UW_Kt_r0g0c100  AWRF_equal  0.479919\n",
       "1   UW_Kt_r25g25c50  AWRF_equal  0.452030\n",
       "2   UW_Kt_r60g20c20  AWRF_equal  0.451646\n",
       "3   UW_Kt_r80g10c10  AWRF_equal  0.446389\n",
       "4         UW_t_bm25  AWRF_equal  0.447159\n",
       "5    UW_Kt_r0g0c100        FAIR  0.439195\n",
       "6   UW_Kt_r25g25c50        FAIR  0.526644\n",
       "7   UW_Kt_r60g20c20        FAIR  0.527116\n",
       "8   UW_Kt_r80g10c10        FAIR  0.527823\n",
       "9         UW_t_bm25        FAIR  0.528304\n",
       "10   UW_Kt_r0g0c100        AWRF  0.258863\n",
       "11  UW_Kt_r25g25c50        AWRF  0.252584\n",
       "12  UW_Kt_r60g20c20        AWRF  0.254375\n",
       "13  UW_Kt_r80g10c10        AWRF  0.262270\n",
       "14        UW_t_bm25        AWRF  0.265412\n",
       "15   UW_Kt_r0g0c100         EEL  0.948994\n",
       "16  UW_Kt_r25g25c50         EEL  0.684111\n",
       "17  UW_Kt_r60g20c20         EEL  0.693422\n",
       "18  UW_Kt_r80g10c10         EEL  0.721832\n",
       "19        UW_t_bm25         EEL  0.721751\n",
       "20   UW_Kt_r0g0c100         EED  0.271925\n",
       "21  UW_Kt_r25g25c50         EED  0.580297\n",
       "22  UW_Kt_r60g20c20         EED  0.433787\n",
       "23  UW_Kt_r80g10c10         EED  0.442892\n",
       "24        UW_t_bm25         EED  0.483785\n",
       "25   UW_Kt_r0g0c100         EER  0.664172\n",
       "26  UW_Kt_r25g25c50         EER  1.237427\n",
       "27  UW_Kt_r60g20c20         EER  1.081606\n",
       "28  UW_Kt_r80g10c10         EER  1.062301\n",
       "29        UW_t_bm25         EER  1.103275\n",
       "30   UW_Kt_r0g0c100       logDP -8.249126\n",
       "31  UW_Kt_r25g25c50       logDP -8.173788\n",
       "32  UW_Kt_r60g20c20       logDP -8.182171\n",
       "33  UW_Kt_r80g10c10       logDP -8.189872\n",
       "34        UW_t_bm25       logDP -8.190989\n",
       "35   UW_Kt_r0g0c100      logEUR -9.544266\n",
       "36  UW_Kt_r25g25c50      logEUR -9.468927\n",
       "37  UW_Kt_r60g20c20      logEUR -9.477310\n",
       "38  UW_Kt_r80g10c10      logEUR -9.485011\n",
       "39        UW_t_bm25      logEUR -9.486129\n",
       "40   UW_Kt_r0g0c100      logRUR -4.583534\n",
       "41  UW_Kt_r25g25c50      logRUR -4.535783\n",
       "42  UW_Kt_r60g20c20      logRUR -4.537716\n",
       "43  UW_Kt_r80g10c10      logRUR -4.552800\n",
       "44        UW_t_bm25      logRUR -4.554715"
      ]
     },
     "execution_count": 24,
     "metadata": {},
     "output_type": "execute_result"
    }
   ],
   "source": [
    "default_results_hard= MA2.run_default_setting()\n",
    "default_results_hard"
   ]
  },
  {
   "cell_type": "code",
   "execution_count": 25,
   "metadata": {
    "collapsed": true
   },
   "outputs": [],
   "source": [
    "default_results_hard.to_parquet('results/fairtrec20/retrieval_hard_default.parquet')"
   ]
  }
 ],
 "metadata": {
  "kernelspec": {
   "display_name": "bookfair",
   "language": "python",
   "name": "bookfair"
  },
  "language_info": {
   "codemirror_mode": {
    "name": "ipython",
    "version": 3
   },
   "file_extension": ".py",
   "mimetype": "text/x-python",
   "name": "python",
   "nbconvert_exporter": "python",
   "pygments_lexer": "ipython3",
   "version": "3.7.9"
  }
 },
 "nbformat": 4,
 "nbformat_minor": 4
}
