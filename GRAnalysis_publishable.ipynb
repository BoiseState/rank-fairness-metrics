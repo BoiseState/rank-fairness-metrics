{
 "cells": [
  {
   "cell_type": "markdown",
   "metadata": {},
   "source": [
    "# Fairness Metrics Implementation on GoodReads Book Dataset"
   ]
  },
  {
   "cell_type": "code",
   "execution_count": 1,
   "metadata": {},
   "outputs": [],
   "source": [
    "import pandas as pd\n",
    "import numpy as np\n",
    "import seaborn as sns\n",
    "import matplotlib.pyplot as plt\n",
    "from itertools import product\n",
    "import plotnine as p\n",
    "import plotnine.data as p9d\n",
    "import math"
   ]
  },
  {
   "cell_type": "code",
   "execution_count": 2,
   "metadata": {},
   "outputs": [],
   "source": [
    "from tqdm.auto import tqdm\n",
    "tqdm.pandas()"
   ]
  },
  {
   "cell_type": "code",
   "execution_count": 3,
   "metadata": {},
   "outputs": [],
   "source": [
    "import ujson\n",
    "import glob"
   ]
  },
  {
   "cell_type": "code",
   "execution_count": 4,
   "metadata": {},
   "outputs": [],
   "source": [
    "from bookgender.config import data_dir\n",
    "from bookgender.nbutils import *"
   ]
  },
  {
   "cell_type": "code",
   "execution_count": 5,
   "metadata": {},
   "outputs": [],
   "source": [
    "from bookgender.nbutils import init_figs, make_plot, theme_paper\n",
    "from bookgender.algorithms import normalize_algo_names"
   ]
  },
  {
   "cell_type": "markdown",
   "metadata": {},
   "source": [
    "## Loading the metrics"
   ]
  },
  {
   "cell_type": "code",
   "execution_count": 9,
   "metadata": {},
   "outputs": [],
   "source": [
    "import bookgender.fair_metrics.singh_joachims as sj\n",
    "import bookgender.fair_metrics.sapiezynski as sp\n",
    "import bookgender.fair_metrics.biega as bg\n",
    "import bookgender.fair_metrics.diaz as dz\n",
    "import bookgender.fair_metrics.zehlike as zh"
   ]
  },
  {
   "cell_type": "code",
   "execution_count": 6,
   "metadata": {},
   "outputs": [],
   "source": [
    "import bookgender.metric_utils.groupinfo as gi\n",
    "import bookgender.metric_utils.position as pos\n",
    "#import bookgender.metrics.load_goodreads as lg"
   ]
  },
  {
   "cell_type": "markdown",
   "metadata": {},
   "source": [
    "## Loading GoodReads Data"
   ]
  },
  {
   "cell_type": "code",
   "execution_count": 7,
   "metadata": {},
   "outputs": [],
   "source": [
    "import bookgender.metric_utils.load_goodreads as lg"
   ]
  },
  {
   "cell_type": "markdown",
   "metadata": {},
   "source": [
    "### Loading Rrelevance, Recommendations & Test Set"
   ]
  },
  {
   "cell_type": "markdown",
   "metadata": {},
   "source": [
    "#### Relevance"
   ]
  },
  {
   "cell_type": "code",
   "execution_count": 8,
   "metadata": {},
   "outputs": [
    {
     "data": {
      "text/html": [
       "<div>\n",
       "<style scoped>\n",
       "    .dataframe tbody tr th:only-of-type {\n",
       "        vertical-align: middle;\n",
       "    }\n",
       "\n",
       "    .dataframe tbody tr th {\n",
       "        vertical-align: top;\n",
       "    }\n",
       "\n",
       "    .dataframe thead th {\n",
       "        text-align: right;\n",
       "    }\n",
       "</style>\n",
       "<table border=\"1\" class=\"dataframe\">\n",
       "  <thead>\n",
       "    <tr style=\"text-align: right;\">\n",
       "      <th></th>\n",
       "      <th>user</th>\n",
       "      <th>Algorithm</th>\n",
       "      <th>Set</th>\n",
       "      <th>gender</th>\n",
       "      <th>score</th>\n",
       "    </tr>\n",
       "  </thead>\n",
       "  <tbody>\n",
       "    <tr>\n",
       "      <th>0</th>\n",
       "      <td>42</td>\n",
       "      <td>user-user</td>\n",
       "      <td>GR-I</td>\n",
       "      <td>unknown</td>\n",
       "      <td>26299.126282</td>\n",
       "    </tr>\n",
       "    <tr>\n",
       "      <th>1</th>\n",
       "      <td>104</td>\n",
       "      <td>user-user</td>\n",
       "      <td>GR-I</td>\n",
       "      <td>unknown</td>\n",
       "      <td>2050.588836</td>\n",
       "    </tr>\n",
       "    <tr>\n",
       "      <th>2</th>\n",
       "      <td>201</td>\n",
       "      <td>user-user</td>\n",
       "      <td>GR-I</td>\n",
       "      <td>unknown</td>\n",
       "      <td>18403.946865</td>\n",
       "    </tr>\n",
       "    <tr>\n",
       "      <th>3</th>\n",
       "      <td>400</td>\n",
       "      <td>user-user</td>\n",
       "      <td>GR-I</td>\n",
       "      <td>unknown</td>\n",
       "      <td>14964.566917</td>\n",
       "    </tr>\n",
       "    <tr>\n",
       "      <th>4</th>\n",
       "      <td>608</td>\n",
       "      <td>user-user</td>\n",
       "      <td>GR-I</td>\n",
       "      <td>unknown</td>\n",
       "      <td>20167.016383</td>\n",
       "    </tr>\n",
       "    <tr>\n",
       "      <th>...</th>\n",
       "      <td>...</td>\n",
       "      <td>...</td>\n",
       "      <td>...</td>\n",
       "      <td>...</td>\n",
       "      <td>...</td>\n",
       "    </tr>\n",
       "    <tr>\n",
       "      <th>139995</th>\n",
       "      <td>875040</td>\n",
       "      <td>bpr</td>\n",
       "      <td>GR-I</td>\n",
       "      <td>unknown</td>\n",
       "      <td>19068.335938</td>\n",
       "    </tr>\n",
       "    <tr>\n",
       "      <th>139996</th>\n",
       "      <td>875144</td>\n",
       "      <td>bpr</td>\n",
       "      <td>GR-I</td>\n",
       "      <td>unknown</td>\n",
       "      <td>1255.072021</td>\n",
       "    </tr>\n",
       "    <tr>\n",
       "      <th>139997</th>\n",
       "      <td>875483</td>\n",
       "      <td>bpr</td>\n",
       "      <td>GR-I</td>\n",
       "      <td>unknown</td>\n",
       "      <td>-48783.281250</td>\n",
       "    </tr>\n",
       "    <tr>\n",
       "      <th>139998</th>\n",
       "      <td>875881</td>\n",
       "      <td>bpr</td>\n",
       "      <td>GR-I</td>\n",
       "      <td>unknown</td>\n",
       "      <td>25581.185547</td>\n",
       "    </tr>\n",
       "    <tr>\n",
       "      <th>139999</th>\n",
       "      <td>876024</td>\n",
       "      <td>bpr</td>\n",
       "      <td>GR-I</td>\n",
       "      <td>unknown</td>\n",
       "      <td>-13210.851562</td>\n",
       "    </tr>\n",
       "  </tbody>\n",
       "</table>\n",
       "<p>140000 rows × 5 columns</p>\n",
       "</div>"
      ],
      "text/plain": [
       "          user  Algorithm   Set   gender         score\n",
       "0           42  user-user  GR-I  unknown  26299.126282\n",
       "1          104  user-user  GR-I  unknown   2050.588836\n",
       "2          201  user-user  GR-I  unknown  18403.946865\n",
       "3          400  user-user  GR-I  unknown  14964.566917\n",
       "4          608  user-user  GR-I  unknown  20167.016383\n",
       "...        ...        ...   ...      ...           ...\n",
       "139995  875040        bpr  GR-I  unknown  19068.335938\n",
       "139996  875144        bpr  GR-I  unknown   1255.072021\n",
       "139997  875483        bpr  GR-I  unknown -48783.281250\n",
       "139998  875881        bpr  GR-I  unknown  25581.185547\n",
       "139999  876024        bpr  GR-I  unknown -13210.851562\n",
       "\n",
       "[140000 rows x 5 columns]"
      ]
     },
     "execution_count": 8,
     "metadata": {},
     "output_type": "execute_result"
    }
   ],
   "source": [
    "relev = lg.load_relevance('eval5')\n",
    "relev"
   ]
  },
  {
   "cell_type": "markdown",
   "metadata": {},
   "source": [
    "#### Recommendations\n",
    "\n",
    "using load_goodreads module:"
   ]
  },
  {
   "cell_type": "code",
   "execution_count": 9,
   "metadata": {},
   "outputs": [],
   "source": [
    "recs = lg.process_recs('eval5')"
   ]
  },
  {
   "cell_type": "code",
   "execution_count": 18,
   "metadata": {},
   "outputs": [
    {
     "data": {
      "text/html": [
       "<div>\n",
       "<style scoped>\n",
       "    .dataframe tbody tr th:only-of-type {\n",
       "        vertical-align: middle;\n",
       "    }\n",
       "\n",
       "    .dataframe tbody tr th {\n",
       "        vertical-align: top;\n",
       "    }\n",
       "\n",
       "    .dataframe thead th {\n",
       "        text-align: right;\n",
       "    }\n",
       "</style>\n",
       "<table border=\"1\" class=\"dataframe\">\n",
       "  <thead>\n",
       "    <tr style=\"text-align: right;\">\n",
       "      <th></th>\n",
       "      <th>item</th>\n",
       "      <th>score</th>\n",
       "      <th>user</th>\n",
       "      <th>rank</th>\n",
       "      <th>Algorithm</th>\n",
       "      <th>Set</th>\n",
       "      <th>gender</th>\n",
       "      <th>rating</th>\n",
       "      <th>male</th>\n",
       "      <th>female</th>\n",
       "      <th>unknown</th>\n",
       "    </tr>\n",
       "  </thead>\n",
       "  <tbody>\n",
       "    <tr>\n",
       "      <th>0</th>\n",
       "      <td>108699671</td>\n",
       "      <td>11.723493</td>\n",
       "      <td>42</td>\n",
       "      <td>1</td>\n",
       "      <td>user-user</td>\n",
       "      <td>GR-I</td>\n",
       "      <td>male</td>\n",
       "      <td>0.0</td>\n",
       "      <td>1</td>\n",
       "      <td>0</td>\n",
       "      <td>0</td>\n",
       "    </tr>\n",
       "    <tr>\n",
       "      <th>1</th>\n",
       "      <td>103134984</td>\n",
       "      <td>11.719078</td>\n",
       "      <td>42</td>\n",
       "      <td>2</td>\n",
       "      <td>user-user</td>\n",
       "      <td>GR-I</td>\n",
       "      <td>female</td>\n",
       "      <td>0.0</td>\n",
       "      <td>0</td>\n",
       "      <td>1</td>\n",
       "      <td>0</td>\n",
       "    </tr>\n",
       "    <tr>\n",
       "      <th>2</th>\n",
       "      <td>103493375</td>\n",
       "      <td>11.712346</td>\n",
       "      <td>42</td>\n",
       "      <td>3</td>\n",
       "      <td>user-user</td>\n",
       "      <td>GR-I</td>\n",
       "      <td>female</td>\n",
       "      <td>0.0</td>\n",
       "      <td>0</td>\n",
       "      <td>1</td>\n",
       "      <td>0</td>\n",
       "    </tr>\n",
       "    <tr>\n",
       "      <th>3</th>\n",
       "      <td>101115553</td>\n",
       "      <td>11.711375</td>\n",
       "      <td>42</td>\n",
       "      <td>4</td>\n",
       "      <td>user-user</td>\n",
       "      <td>GR-I</td>\n",
       "      <td>female</td>\n",
       "      <td>1.0</td>\n",
       "      <td>0</td>\n",
       "      <td>1</td>\n",
       "      <td>0</td>\n",
       "    </tr>\n",
       "    <tr>\n",
       "      <th>4</th>\n",
       "      <td>101259216</td>\n",
       "      <td>11.710964</td>\n",
       "      <td>42</td>\n",
       "      <td>5</td>\n",
       "      <td>user-user</td>\n",
       "      <td>GR-I</td>\n",
       "      <td>female</td>\n",
       "      <td>0.0</td>\n",
       "      <td>0</td>\n",
       "      <td>1</td>\n",
       "      <td>0</td>\n",
       "    </tr>\n",
       "    <tr>\n",
       "      <th>...</th>\n",
       "      <td>...</td>\n",
       "      <td>...</td>\n",
       "      <td>...</td>\n",
       "      <td>...</td>\n",
       "      <td>...</td>\n",
       "      <td>...</td>\n",
       "      <td>...</td>\n",
       "      <td>...</td>\n",
       "      <td>...</td>\n",
       "      <td>...</td>\n",
       "      <td>...</td>\n",
       "    </tr>\n",
       "    <tr>\n",
       "      <th>19945071</th>\n",
       "      <td>112207201</td>\n",
       "      <td>6.767267</td>\n",
       "      <td>876024</td>\n",
       "      <td>996</td>\n",
       "      <td>bpr</td>\n",
       "      <td>GR-I</td>\n",
       "      <td>male</td>\n",
       "      <td>0.0</td>\n",
       "      <td>1</td>\n",
       "      <td>0</td>\n",
       "      <td>0</td>\n",
       "    </tr>\n",
       "    <tr>\n",
       "      <th>19945072</th>\n",
       "      <td>308910384</td>\n",
       "      <td>6.767073</td>\n",
       "      <td>876024</td>\n",
       "      <td>997</td>\n",
       "      <td>bpr</td>\n",
       "      <td>GR-I</td>\n",
       "      <td>female</td>\n",
       "      <td>0.0</td>\n",
       "      <td>0</td>\n",
       "      <td>1</td>\n",
       "      <td>0</td>\n",
       "    </tr>\n",
       "    <tr>\n",
       "      <th>19945073</th>\n",
       "      <td>418585957</td>\n",
       "      <td>6.766818</td>\n",
       "      <td>876024</td>\n",
       "      <td>998</td>\n",
       "      <td>bpr</td>\n",
       "      <td>GR-I</td>\n",
       "      <td>unknown</td>\n",
       "      <td>0.0</td>\n",
       "      <td>0</td>\n",
       "      <td>0</td>\n",
       "      <td>1</td>\n",
       "    </tr>\n",
       "    <tr>\n",
       "      <th>19945074</th>\n",
       "      <td>110642663</td>\n",
       "      <td>6.763775</td>\n",
       "      <td>876024</td>\n",
       "      <td>999</td>\n",
       "      <td>bpr</td>\n",
       "      <td>GR-I</td>\n",
       "      <td>unknown</td>\n",
       "      <td>0.0</td>\n",
       "      <td>0</td>\n",
       "      <td>0</td>\n",
       "      <td>1</td>\n",
       "    </tr>\n",
       "    <tr>\n",
       "      <th>19945075</th>\n",
       "      <td>110478387</td>\n",
       "      <td>6.763391</td>\n",
       "      <td>876024</td>\n",
       "      <td>1000</td>\n",
       "      <td>bpr</td>\n",
       "      <td>GR-I</td>\n",
       "      <td>male</td>\n",
       "      <td>0.0</td>\n",
       "      <td>1</td>\n",
       "      <td>0</td>\n",
       "      <td>0</td>\n",
       "    </tr>\n",
       "  </tbody>\n",
       "</table>\n",
       "<p>19945076 rows × 11 columns</p>\n",
       "</div>"
      ],
      "text/plain": [
       "               item      score    user  rank  Algorithm   Set   gender  \\\n",
       "0         108699671  11.723493      42     1  user-user  GR-I     male   \n",
       "1         103134984  11.719078      42     2  user-user  GR-I   female   \n",
       "2         103493375  11.712346      42     3  user-user  GR-I   female   \n",
       "3         101115553  11.711375      42     4  user-user  GR-I   female   \n",
       "4         101259216  11.710964      42     5  user-user  GR-I   female   \n",
       "...             ...        ...     ...   ...        ...   ...      ...   \n",
       "19945071  112207201   6.767267  876024   996        bpr  GR-I     male   \n",
       "19945072  308910384   6.767073  876024   997        bpr  GR-I   female   \n",
       "19945073  418585957   6.766818  876024   998        bpr  GR-I  unknown   \n",
       "19945074  110642663   6.763775  876024   999        bpr  GR-I  unknown   \n",
       "19945075  110478387   6.763391  876024  1000        bpr  GR-I     male   \n",
       "\n",
       "          rating  male  female  unknown  \n",
       "0            0.0     1       0        0  \n",
       "1            0.0     0       1        0  \n",
       "2            0.0     0       1        0  \n",
       "3            1.0     0       1        0  \n",
       "4            0.0     0       1        0  \n",
       "...          ...   ...     ...      ...  \n",
       "19945071     0.0     1       0        0  \n",
       "19945072     0.0     0       1        0  \n",
       "19945073     0.0     0       0        1  \n",
       "19945074     0.0     0       0        1  \n",
       "19945075     0.0     1       0        0  \n",
       "\n",
       "[19945076 rows x 11 columns]"
      ]
     },
     "execution_count": 18,
     "metadata": {},
     "output_type": "execute_result"
    }
   ],
   "source": [
    "recs"
   ]
  },
  {
   "cell_type": "markdown",
   "metadata": {},
   "source": [
    "## Dataset stat"
   ]
  },
  {
   "cell_type": "markdown",
   "metadata": {},
   "source": [
    "Unique item-gender count"
   ]
  },
  {
   "cell_type": "code",
   "execution_count": 19,
   "metadata": {},
   "outputs": [
    {
     "data": {
      "text/plain": [
       "gender\n",
       "female      97058\n",
       "male       135839\n",
       "unknown    342646\n",
       "Name: item, dtype: int64"
      ]
     },
     "execution_count": 19,
     "metadata": {},
     "output_type": "execute_result"
    }
   ],
   "source": [
    "recs.groupby('gender')['item'].nunique()  "
   ]
  },
  {
   "cell_type": "markdown",
   "metadata": {},
   "source": [
    "Number of recommendations per user by each algorithm"
   ]
  },
  {
   "cell_type": "code",
   "execution_count": 20,
   "metadata": {},
   "outputs": [
    {
     "data": {
      "text/plain": [
       "user    Algorithm\n",
       "42      bpr          1000\n",
       "        item-item    1000\n",
       "        user-user    1000\n",
       "        wrls         1000\n",
       "104     bpr          1000\n",
       "                     ... \n",
       "875881  wrls         1000\n",
       "876024  bpr          1000\n",
       "        item-item    1000\n",
       "        user-user    1000\n",
       "        wrls         1000\n",
       "Name: rank, Length: 19997, dtype: int64"
      ]
     },
     "execution_count": 20,
     "metadata": {},
     "output_type": "execute_result"
    }
   ],
   "source": [
    "recs.groupby(['user','Algorithm'])['rank'].count()"
   ]
  },
  {
   "cell_type": "markdown",
   "metadata": {},
   "source": [
    "Number of total recommended items"
   ]
  },
  {
   "cell_type": "code",
   "execution_count": 21,
   "metadata": {},
   "outputs": [
    {
     "data": {
      "text/plain": [
       "575543"
      ]
     },
     "execution_count": 21,
     "metadata": {},
     "output_type": "execute_result"
    }
   ],
   "source": [
    "recs['item'].nunique()"
   ]
  },
  {
   "cell_type": "markdown",
   "metadata": {},
   "source": [
    "### Test Set"
   ]
  },
  {
   "cell_type": "code",
   "execution_count": 22,
   "metadata": {},
   "outputs": [
    {
     "data": {
      "text/html": [
       "<div>\n",
       "<style scoped>\n",
       "    .dataframe tbody tr th:only-of-type {\n",
       "        vertical-align: middle;\n",
       "    }\n",
       "\n",
       "    .dataframe tbody tr th {\n",
       "        vertical-align: top;\n",
       "    }\n",
       "\n",
       "    .dataframe thead th {\n",
       "        text-align: right;\n",
       "    }\n",
       "</style>\n",
       "<table border=\"1\" class=\"dataframe\">\n",
       "  <thead>\n",
       "    <tr style=\"text-align: right;\">\n",
       "      <th></th>\n",
       "      <th>user</th>\n",
       "      <th>item</th>\n",
       "      <th>first_time</th>\n",
       "      <th>last_time</th>\n",
       "      <th>last_rating</th>\n",
       "      <th>nactions</th>\n",
       "      <th>rating</th>\n",
       "      <th>gender</th>\n",
       "      <th>male</th>\n",
       "      <th>female</th>\n",
       "      <th>unknown</th>\n",
       "    </tr>\n",
       "  </thead>\n",
       "  <tbody>\n",
       "    <tr>\n",
       "      <th>0</th>\n",
       "      <td>42</td>\n",
       "      <td>104796095</td>\n",
       "      <td>1476577</td>\n",
       "      <td>1476577</td>\n",
       "      <td>3.0</td>\n",
       "      <td>1</td>\n",
       "      <td>1.0</td>\n",
       "      <td>unknown</td>\n",
       "      <td>0</td>\n",
       "      <td>0</td>\n",
       "      <td>1</td>\n",
       "    </tr>\n",
       "    <tr>\n",
       "      <th>1</th>\n",
       "      <td>42</td>\n",
       "      <td>101115553</td>\n",
       "      <td>1402798</td>\n",
       "      <td>1402798</td>\n",
       "      <td>4.0</td>\n",
       "      <td>1</td>\n",
       "      <td>1.0</td>\n",
       "      <td>female</td>\n",
       "      <td>0</td>\n",
       "      <td>1</td>\n",
       "      <td>0</td>\n",
       "    </tr>\n",
       "    <tr>\n",
       "      <th>2</th>\n",
       "      <td>42</td>\n",
       "      <td>442940015</td>\n",
       "      <td>1456456</td>\n",
       "      <td>1456456</td>\n",
       "      <td>NaN</td>\n",
       "      <td>1</td>\n",
       "      <td>1.0</td>\n",
       "      <td>unknown</td>\n",
       "      <td>0</td>\n",
       "      <td>0</td>\n",
       "      <td>1</td>\n",
       "    </tr>\n",
       "    <tr>\n",
       "      <th>3</th>\n",
       "      <td>42</td>\n",
       "      <td>104286693</td>\n",
       "      <td>1406080</td>\n",
       "      <td>1406080</td>\n",
       "      <td>5.0</td>\n",
       "      <td>1</td>\n",
       "      <td>1.0</td>\n",
       "      <td>male</td>\n",
       "      <td>1</td>\n",
       "      <td>0</td>\n",
       "      <td>0</td>\n",
       "    </tr>\n",
       "    <tr>\n",
       "      <th>4</th>\n",
       "      <td>42</td>\n",
       "      <td>100094831</td>\n",
       "      <td>1420400</td>\n",
       "      <td>1420400</td>\n",
       "      <td>NaN</td>\n",
       "      <td>1</td>\n",
       "      <td>1.0</td>\n",
       "      <td>male</td>\n",
       "      <td>1</td>\n",
       "      <td>0</td>\n",
       "      <td>0</td>\n",
       "    </tr>\n",
       "    <tr>\n",
       "      <th>...</th>\n",
       "      <td>...</td>\n",
       "      <td>...</td>\n",
       "      <td>...</td>\n",
       "      <td>...</td>\n",
       "      <td>...</td>\n",
       "      <td>...</td>\n",
       "      <td>...</td>\n",
       "      <td>...</td>\n",
       "      <td>...</td>\n",
       "      <td>...</td>\n",
       "      <td>...</td>\n",
       "    </tr>\n",
       "    <tr>\n",
       "      <th>24995</th>\n",
       "      <td>876024</td>\n",
       "      <td>104809846</td>\n",
       "      <td>1474701</td>\n",
       "      <td>1474701</td>\n",
       "      <td>5.0</td>\n",
       "      <td>1</td>\n",
       "      <td>1.0</td>\n",
       "      <td>female</td>\n",
       "      <td>0</td>\n",
       "      <td>1</td>\n",
       "      <td>0</td>\n",
       "    </tr>\n",
       "    <tr>\n",
       "      <th>24996</th>\n",
       "      <td>876024</td>\n",
       "      <td>109934767</td>\n",
       "      <td>1472472</td>\n",
       "      <td>1472472</td>\n",
       "      <td>4.0</td>\n",
       "      <td>1</td>\n",
       "      <td>1.0</td>\n",
       "      <td>female</td>\n",
       "      <td>0</td>\n",
       "      <td>1</td>\n",
       "      <td>0</td>\n",
       "    </tr>\n",
       "    <tr>\n",
       "      <th>24997</th>\n",
       "      <td>876024</td>\n",
       "      <td>106411649</td>\n",
       "      <td>1338805</td>\n",
       "      <td>1338805</td>\n",
       "      <td>1.0</td>\n",
       "      <td>1</td>\n",
       "      <td>1.0</td>\n",
       "      <td>male</td>\n",
       "      <td>1</td>\n",
       "      <td>0</td>\n",
       "      <td>0</td>\n",
       "    </tr>\n",
       "    <tr>\n",
       "      <th>24998</th>\n",
       "      <td>876024</td>\n",
       "      <td>107335925</td>\n",
       "      <td>1362127</td>\n",
       "      <td>1362127</td>\n",
       "      <td>NaN</td>\n",
       "      <td>1</td>\n",
       "      <td>1.0</td>\n",
       "      <td>male</td>\n",
       "      <td>1</td>\n",
       "      <td>0</td>\n",
       "      <td>0</td>\n",
       "    </tr>\n",
       "    <tr>\n",
       "      <th>24999</th>\n",
       "      <td>876024</td>\n",
       "      <td>117862250</td>\n",
       "      <td>1500103</td>\n",
       "      <td>1500103</td>\n",
       "      <td>5.0</td>\n",
       "      <td>1</td>\n",
       "      <td>1.0</td>\n",
       "      <td>male</td>\n",
       "      <td>1</td>\n",
       "      <td>0</td>\n",
       "      <td>0</td>\n",
       "    </tr>\n",
       "  </tbody>\n",
       "</table>\n",
       "<p>25000 rows × 11 columns</p>\n",
       "</div>"
      ],
      "text/plain": [
       "         user       item  first_time  last_time  last_rating  nactions  \\\n",
       "0          42  104796095     1476577    1476577          3.0         1   \n",
       "1          42  101115553     1402798    1402798          4.0         1   \n",
       "2          42  442940015     1456456    1456456          NaN         1   \n",
       "3          42  104286693     1406080    1406080          5.0         1   \n",
       "4          42  100094831     1420400    1420400          NaN         1   \n",
       "...       ...        ...         ...        ...          ...       ...   \n",
       "24995  876024  104809846     1474701    1474701          5.0         1   \n",
       "24996  876024  109934767     1472472    1472472          4.0         1   \n",
       "24997  876024  106411649     1338805    1338805          1.0         1   \n",
       "24998  876024  107335925     1362127    1362127          NaN         1   \n",
       "24999  876024  117862250     1500103    1500103          5.0         1   \n",
       "\n",
       "       rating   gender  male  female  unknown  \n",
       "0         1.0  unknown     0       0        1  \n",
       "1         1.0   female     0       1        0  \n",
       "2         1.0  unknown     0       0        1  \n",
       "3         1.0     male     1       0        0  \n",
       "4         1.0     male     1       0        0  \n",
       "...       ...      ...   ...     ...      ...  \n",
       "24995     1.0   female     0       1        0  \n",
       "24996     1.0   female     0       1        0  \n",
       "24997     1.0     male     1       0        0  \n",
       "24998     1.0     male     1       0        0  \n",
       "24999     1.0     male     1       0        0  \n",
       "\n",
       "[25000 rows x 11 columns]"
      ]
     },
     "execution_count": 22,
     "metadata": {},
     "output_type": "execute_result"
    }
   ],
   "source": [
    "test_rates = lg.process_tests('eval5')\n",
    "test_rates"
   ]
  },
  {
   "cell_type": "code",
   "execution_count": 23,
   "metadata": {},
   "outputs": [
    {
     "data": {
      "text/plain": [
       "user\n",
       "42        5\n",
       "104       5\n",
       "201       5\n",
       "400       5\n",
       "608       5\n",
       "         ..\n",
       "875040    5\n",
       "875144    5\n",
       "875483    5\n",
       "875881    5\n",
       "876024    5\n",
       "Name: item, Length: 5000, dtype: int64"
      ]
     },
     "execution_count": 23,
     "metadata": {},
     "output_type": "execute_result"
    }
   ],
   "source": [
    "test_rates.groupby(['user'])['item'].count()"
   ]
  },
  {
   "cell_type": "markdown",
   "metadata": {},
   "source": [
    "### Group information in dataset"
   ]
  },
  {
   "cell_type": "code",
   "execution_count": 24,
   "metadata": {
    "scrolled": true
   },
   "outputs": [
    {
     "data": {
      "text/plain": [
       "female     5    177359\n",
       "Name: female, dtype: int64\n",
       "male         5    282857\n",
       "Name: male, dtype: int64\n",
       "unknown                 5    1049445\n",
       "dtype: int64\n",
       "dtype: object"
      ]
     },
     "execution_count": 24,
     "metadata": {},
     "output_type": "execute_result"
    }
   ],
   "source": [
    "G = lg.G()\n",
    "G"
   ]
  },
  {
   "cell_type": "markdown",
   "metadata": {},
   "source": [
    "#### Target population"
   ]
  },
  {
   "cell_type": "code",
   "execution_count": 25,
   "metadata": {},
   "outputs": [
    {
     "data": {
      "text/plain": [
       "5    0.385382\n",
       "dtype: float64"
      ]
     },
     "execution_count": 25,
     "metadata": {},
     "output_type": "execute_result"
    }
   ],
   "source": [
    "group = gi.GroupInfo(G, 'male', 'female', 'unknown', 'gender')\n",
    "group.tgt_p_binomial"
   ]
  },
  {
   "cell_type": "markdown",
   "metadata": {},
   "source": [
    "## Implementing the metrics"
   ]
  },
  {
   "cell_type": "code",
   "execution_count": 26,
   "metadata": {},
   "outputs": [],
   "source": [
    "from bookgender.fair_metrics.Run_metrics_RecSys import metric_analysis as ma\n",
    "MA = ma(recs, test_rates, group, original_relev=relev)"
   ]
  },
  {
   "cell_type": "markdown",
   "metadata": {},
   "source": [
    "### With default metric settings"
   ]
  },
  {
   "cell_type": "code",
   "execution_count": 27,
   "metadata": {},
   "outputs": [
    {
     "data": {
      "application/vnd.jupyter.widget-view+json": {
       "model_id": "0251468fdda24f2c8c489c01bffc696d",
       "version_major": 2,
       "version_minor": 0
      },
      "text/plain": [
       "HBox(children=(HTML(value=''), FloatProgress(value=0.0, max=4.0), HTML(value='')))"
      ]
     },
     "metadata": {},
     "output_type": "display_data"
    },
    {
     "name": "stdout",
     "output_type": "stream",
     "text": [
      "\n"
     ]
    },
    {
     "data": {
      "application/vnd.jupyter.widget-view+json": {
       "model_id": "78efa7603f4f41abbe264cf0b84e531a",
       "version_major": 2,
       "version_minor": 0
      },
      "text/plain": [
       "HBox(children=(HTML(value=''), FloatProgress(value=0.0, max=19997.0), HTML(value='')))"
      ]
     },
     "metadata": {},
     "output_type": "display_data"
    },
    {
     "name": "stderr",
     "output_type": "stream",
     "text": [
      "/home/AMIFARAJ/book-experiments/bookgender/fair_metrics/sapiezynski.py:54: RuntimeWarning: invalid value encountered in double_scalars\n"
     ]
    },
    {
     "name": "stdout",
     "output_type": "stream",
     "text": [
      "\n"
     ]
    },
    {
     "data": {
      "text/html": [
       "<div>\n",
       "<style scoped>\n",
       "    .dataframe tbody tr th:only-of-type {\n",
       "        vertical-align: middle;\n",
       "    }\n",
       "\n",
       "    .dataframe tbody tr th {\n",
       "        vertical-align: top;\n",
       "    }\n",
       "\n",
       "    .dataframe thead th {\n",
       "        text-align: right;\n",
       "    }\n",
       "</style>\n",
       "<table border=\"1\" class=\"dataframe\">\n",
       "  <thead>\n",
       "    <tr style=\"text-align: right;\">\n",
       "      <th></th>\n",
       "      <th>Algorithm</th>\n",
       "      <th>Metric</th>\n",
       "      <th>value</th>\n",
       "      <th>ranked_size</th>\n",
       "    </tr>\n",
       "  </thead>\n",
       "  <tbody>\n",
       "    <tr>\n",
       "      <th>0</th>\n",
       "      <td>bpr</td>\n",
       "      <td>AWRF_equal</td>\n",
       "      <td>0.393765</td>\n",
       "      <td>100</td>\n",
       "    </tr>\n",
       "    <tr>\n",
       "      <th>1</th>\n",
       "      <td>item-item</td>\n",
       "      <td>AWRF_equal</td>\n",
       "      <td>0.391799</td>\n",
       "      <td>100</td>\n",
       "    </tr>\n",
       "    <tr>\n",
       "      <th>2</th>\n",
       "      <td>user-user</td>\n",
       "      <td>AWRF_equal</td>\n",
       "      <td>0.378053</td>\n",
       "      <td>100</td>\n",
       "    </tr>\n",
       "    <tr>\n",
       "      <th>3</th>\n",
       "      <td>wrls</td>\n",
       "      <td>AWRF_equal</td>\n",
       "      <td>0.366965</td>\n",
       "      <td>100</td>\n",
       "    </tr>\n",
       "    <tr>\n",
       "      <th>4</th>\n",
       "      <td>bpr</td>\n",
       "      <td>FAIR</td>\n",
       "      <td>0.352792</td>\n",
       "      <td>100</td>\n",
       "    </tr>\n",
       "    <tr>\n",
       "      <th>5</th>\n",
       "      <td>item-item</td>\n",
       "      <td>FAIR</td>\n",
       "      <td>0.426208</td>\n",
       "      <td>100</td>\n",
       "    </tr>\n",
       "    <tr>\n",
       "      <th>6</th>\n",
       "      <td>user-user</td>\n",
       "      <td>FAIR</td>\n",
       "      <td>0.379223</td>\n",
       "      <td>100</td>\n",
       "    </tr>\n",
       "    <tr>\n",
       "      <th>7</th>\n",
       "      <td>wrls</td>\n",
       "      <td>FAIR</td>\n",
       "      <td>0.456250</td>\n",
       "      <td>100</td>\n",
       "    </tr>\n",
       "    <tr>\n",
       "      <th>8</th>\n",
       "      <td>bpr</td>\n",
       "      <td>AWRF</td>\n",
       "      <td>0.385593</td>\n",
       "      <td>100</td>\n",
       "    </tr>\n",
       "    <tr>\n",
       "      <th>9</th>\n",
       "      <td>item-item</td>\n",
       "      <td>AWRF</td>\n",
       "      <td>0.423400</td>\n",
       "      <td>100</td>\n",
       "    </tr>\n",
       "    <tr>\n",
       "      <th>10</th>\n",
       "      <td>user-user</td>\n",
       "      <td>AWRF</td>\n",
       "      <td>0.373271</td>\n",
       "      <td>100</td>\n",
       "    </tr>\n",
       "    <tr>\n",
       "      <th>11</th>\n",
       "      <td>wrls</td>\n",
       "      <td>AWRF</td>\n",
       "      <td>0.357054</td>\n",
       "      <td>100</td>\n",
       "    </tr>\n",
       "    <tr>\n",
       "      <th>12</th>\n",
       "      <td>bpr</td>\n",
       "      <td>IAA</td>\n",
       "      <td>0.270639</td>\n",
       "      <td>100</td>\n",
       "    </tr>\n",
       "    <tr>\n",
       "      <th>13</th>\n",
       "      <td>item-item</td>\n",
       "      <td>IAA</td>\n",
       "      <td>0.452944</td>\n",
       "      <td>100</td>\n",
       "    </tr>\n",
       "    <tr>\n",
       "      <th>14</th>\n",
       "      <td>user-user</td>\n",
       "      <td>IAA</td>\n",
       "      <td>0.294626</td>\n",
       "      <td>100</td>\n",
       "    </tr>\n",
       "    <tr>\n",
       "      <th>15</th>\n",
       "      <td>wrls</td>\n",
       "      <td>IAA</td>\n",
       "      <td>0.417207</td>\n",
       "      <td>100</td>\n",
       "    </tr>\n",
       "    <tr>\n",
       "      <th>16</th>\n",
       "      <td>bpr</td>\n",
       "      <td>EEL</td>\n",
       "      <td>0.109585</td>\n",
       "      <td>100</td>\n",
       "    </tr>\n",
       "    <tr>\n",
       "      <th>17</th>\n",
       "      <td>item-item</td>\n",
       "      <td>EEL</td>\n",
       "      <td>0.100134</td>\n",
       "      <td>100</td>\n",
       "    </tr>\n",
       "    <tr>\n",
       "      <th>18</th>\n",
       "      <td>user-user</td>\n",
       "      <td>EEL</td>\n",
       "      <td>0.049372</td>\n",
       "      <td>100</td>\n",
       "    </tr>\n",
       "    <tr>\n",
       "      <th>19</th>\n",
       "      <td>wrls</td>\n",
       "      <td>EEL</td>\n",
       "      <td>0.072627</td>\n",
       "      <td>100</td>\n",
       "    </tr>\n",
       "    <tr>\n",
       "      <th>20</th>\n",
       "      <td>bpr</td>\n",
       "      <td>EED</td>\n",
       "      <td>1.214894</td>\n",
       "      <td>100</td>\n",
       "    </tr>\n",
       "    <tr>\n",
       "      <th>21</th>\n",
       "      <td>item-item</td>\n",
       "      <td>EED</td>\n",
       "      <td>1.012646</td>\n",
       "      <td>100</td>\n",
       "    </tr>\n",
       "    <tr>\n",
       "      <th>22</th>\n",
       "      <td>user-user</td>\n",
       "      <td>EED</td>\n",
       "      <td>0.996394</td>\n",
       "      <td>100</td>\n",
       "    </tr>\n",
       "    <tr>\n",
       "      <th>23</th>\n",
       "      <td>wrls</td>\n",
       "      <td>EED</td>\n",
       "      <td>1.045179</td>\n",
       "      <td>100</td>\n",
       "    </tr>\n",
       "    <tr>\n",
       "      <th>24</th>\n",
       "      <td>bpr</td>\n",
       "      <td>EER</td>\n",
       "      <td>1.709310</td>\n",
       "      <td>100</td>\n",
       "    </tr>\n",
       "    <tr>\n",
       "      <th>25</th>\n",
       "      <td>item-item</td>\n",
       "      <td>EER</td>\n",
       "      <td>1.516513</td>\n",
       "      <td>100</td>\n",
       "    </tr>\n",
       "    <tr>\n",
       "      <th>26</th>\n",
       "      <td>user-user</td>\n",
       "      <td>EER</td>\n",
       "      <td>1.551022</td>\n",
       "      <td>100</td>\n",
       "    </tr>\n",
       "    <tr>\n",
       "      <th>27</th>\n",
       "      <td>wrls</td>\n",
       "      <td>EER</td>\n",
       "      <td>1.576553</td>\n",
       "      <td>100</td>\n",
       "    </tr>\n",
       "    <tr>\n",
       "      <th>28</th>\n",
       "      <td>bpr</td>\n",
       "      <td>logDP</td>\n",
       "      <td>-0.301691</td>\n",
       "      <td>100</td>\n",
       "    </tr>\n",
       "    <tr>\n",
       "      <th>29</th>\n",
       "      <td>item-item</td>\n",
       "      <td>logDP</td>\n",
       "      <td>0.072243</td>\n",
       "      <td>100</td>\n",
       "    </tr>\n",
       "    <tr>\n",
       "      <th>30</th>\n",
       "      <td>user-user</td>\n",
       "      <td>logDP</td>\n",
       "      <td>-0.235186</td>\n",
       "      <td>100</td>\n",
       "    </tr>\n",
       "    <tr>\n",
       "      <th>31</th>\n",
       "      <td>wrls</td>\n",
       "      <td>logDP</td>\n",
       "      <td>-0.179011</td>\n",
       "      <td>100</td>\n",
       "    </tr>\n",
       "    <tr>\n",
       "      <th>32</th>\n",
       "      <td>bpr</td>\n",
       "      <td>logEUR</td>\n",
       "      <td>-0.556538</td>\n",
       "      <td>100</td>\n",
       "    </tr>\n",
       "    <tr>\n",
       "      <th>33</th>\n",
       "      <td>item-item</td>\n",
       "      <td>logEUR</td>\n",
       "      <td>-0.182604</td>\n",
       "      <td>100</td>\n",
       "    </tr>\n",
       "    <tr>\n",
       "      <th>34</th>\n",
       "      <td>user-user</td>\n",
       "      <td>logEUR</td>\n",
       "      <td>-0.490033</td>\n",
       "      <td>100</td>\n",
       "    </tr>\n",
       "    <tr>\n",
       "      <th>35</th>\n",
       "      <td>wrls</td>\n",
       "      <td>logEUR</td>\n",
       "      <td>-0.433858</td>\n",
       "      <td>100</td>\n",
       "    </tr>\n",
       "    <tr>\n",
       "      <th>36</th>\n",
       "      <td>bpr</td>\n",
       "      <td>logRUR</td>\n",
       "      <td>-0.386947</td>\n",
       "      <td>100</td>\n",
       "    </tr>\n",
       "    <tr>\n",
       "      <th>37</th>\n",
       "      <td>item-item</td>\n",
       "      <td>logRUR</td>\n",
       "      <td>-0.402764</td>\n",
       "      <td>100</td>\n",
       "    </tr>\n",
       "    <tr>\n",
       "      <th>38</th>\n",
       "      <td>user-user</td>\n",
       "      <td>logRUR</td>\n",
       "      <td>-0.490575</td>\n",
       "      <td>100</td>\n",
       "    </tr>\n",
       "    <tr>\n",
       "      <th>39</th>\n",
       "      <td>wrls</td>\n",
       "      <td>logRUR</td>\n",
       "      <td>-0.444592</td>\n",
       "      <td>100</td>\n",
       "    </tr>\n",
       "  </tbody>\n",
       "</table>\n",
       "</div>"
      ],
      "text/plain": [
       "    Algorithm      Metric     value  ranked_size\n",
       "0         bpr  AWRF_equal  0.393765          100\n",
       "1   item-item  AWRF_equal  0.391799          100\n",
       "2   user-user  AWRF_equal  0.378053          100\n",
       "3        wrls  AWRF_equal  0.366965          100\n",
       "4         bpr        FAIR  0.352792          100\n",
       "5   item-item        FAIR  0.426208          100\n",
       "6   user-user        FAIR  0.379223          100\n",
       "7        wrls        FAIR  0.456250          100\n",
       "8         bpr        AWRF  0.385593          100\n",
       "9   item-item        AWRF  0.423400          100\n",
       "10  user-user        AWRF  0.373271          100\n",
       "11       wrls        AWRF  0.357054          100\n",
       "12        bpr         IAA  0.270639          100\n",
       "13  item-item         IAA  0.452944          100\n",
       "14  user-user         IAA  0.294626          100\n",
       "15       wrls         IAA  0.417207          100\n",
       "16        bpr         EEL  0.109585          100\n",
       "17  item-item         EEL  0.100134          100\n",
       "18  user-user         EEL  0.049372          100\n",
       "19       wrls         EEL  0.072627          100\n",
       "20        bpr         EED  1.214894          100\n",
       "21  item-item         EED  1.012646          100\n",
       "22  user-user         EED  0.996394          100\n",
       "23       wrls         EED  1.045179          100\n",
       "24        bpr         EER  1.709310          100\n",
       "25  item-item         EER  1.516513          100\n",
       "26  user-user         EER  1.551022          100\n",
       "27       wrls         EER  1.576553          100\n",
       "28        bpr       logDP -0.301691          100\n",
       "29  item-item       logDP  0.072243          100\n",
       "30  user-user       logDP -0.235186          100\n",
       "31       wrls       logDP -0.179011          100\n",
       "32        bpr      logEUR -0.556538          100\n",
       "33  item-item      logEUR -0.182604          100\n",
       "34  user-user      logEUR -0.490033          100\n",
       "35       wrls      logEUR -0.433858          100\n",
       "36        bpr      logRUR -0.386947          100\n",
       "37  item-item      logRUR -0.402764          100\n",
       "38  user-user      logRUR -0.490575          100\n",
       "39       wrls      logRUR -0.444592          100"
      ]
     },
     "execution_count": 27,
     "metadata": {},
     "output_type": "execute_result"
    }
   ],
   "source": [
    "default_results = MA.run_default_setting()\n",
    "default_results"
   ]
  },
  {
   "cell_type": "code",
   "execution_count": 28,
   "metadata": {},
   "outputs": [],
   "source": [
    "default_results.to_parquet('results/SIGIR22/rec_default_up.parquet')"
   ]
  },
  {
   "cell_type": "markdown",
   "metadata": {},
   "source": [
    "# Sensitivity Analysis"
   ]
  },
  {
   "cell_type": "markdown",
   "metadata": {},
   "source": [
    "## Ranked list size changing"
   ]
  },
  {
   "cell_type": "code",
   "execution_count": 29,
   "metadata": {},
   "outputs": [],
   "source": [
    "#old_rankedlist_results=pd.read_parquet('results/rankedlist_sens.parquet')\n",
    "#old_rankedlist_results"
   ]
  },
  {
   "cell_type": "code",
   "execution_count": 30,
   "metadata": {},
   "outputs": [
    {
     "data": {
      "application/vnd.jupyter.widget-view+json": {
       "model_id": "9c4704c4b6204866867f808bb8ac424e",
       "version_major": 2,
       "version_minor": 0
      },
      "text/plain": [
       "HBox(children=(HTML(value=''), FloatProgress(value=0.0, max=4.0), HTML(value='')))"
      ]
     },
     "metadata": {},
     "output_type": "display_data"
    },
    {
     "name": "stdout",
     "output_type": "stream",
     "text": [
      "\n"
     ]
    },
    {
     "data": {
      "application/vnd.jupyter.widget-view+json": {
       "model_id": "f49703ed26d34a32b87ce2698e0989ad",
       "version_major": 2,
       "version_minor": 0
      },
      "text/plain": [
       "HBox(children=(HTML(value=''), FloatProgress(value=0.0, max=19997.0), HTML(value='')))"
      ]
     },
     "metadata": {},
     "output_type": "display_data"
    },
    {
     "name": "stderr",
     "output_type": "stream",
     "text": [
      "/home/AMIFARAJ/book-experiments/bookgender/fair_metrics/sapiezynski.py:54: RuntimeWarning: invalid value encountered in double_scalars\n"
     ]
    },
    {
     "name": "stdout",
     "output_type": "stream",
     "text": [
      "\n"
     ]
    },
    {
     "data": {
      "application/vnd.jupyter.widget-view+json": {
       "model_id": "e30b7b244e2e4a90b2f06e8a05f878c6",
       "version_major": 2,
       "version_minor": 0
      },
      "text/plain": [
       "HBox(children=(HTML(value=''), FloatProgress(value=0.0, max=4.0), HTML(value='')))"
      ]
     },
     "metadata": {},
     "output_type": "display_data"
    },
    {
     "name": "stdout",
     "output_type": "stream",
     "text": [
      "\n"
     ]
    },
    {
     "data": {
      "application/vnd.jupyter.widget-view+json": {
       "model_id": "21a3270bb021401ba3669eed3f81941a",
       "version_major": 2,
       "version_minor": 0
      },
      "text/plain": [
       "HBox(children=(HTML(value=''), FloatProgress(value=0.0, max=19997.0), HTML(value='')))"
      ]
     },
     "metadata": {},
     "output_type": "display_data"
    },
    {
     "name": "stderr",
     "output_type": "stream",
     "text": [
      "/home/AMIFARAJ/book-experiments/bookgender/fair_metrics/sapiezynski.py:54: RuntimeWarning: invalid value encountered in double_scalars\n"
     ]
    },
    {
     "name": "stdout",
     "output_type": "stream",
     "text": [
      "\n"
     ]
    },
    {
     "data": {
      "application/vnd.jupyter.widget-view+json": {
       "model_id": "1d69064388d04d29a23a7212a9788703",
       "version_major": 2,
       "version_minor": 0
      },
      "text/plain": [
       "HBox(children=(HTML(value=''), FloatProgress(value=0.0, max=4.0), HTML(value='')))"
      ]
     },
     "metadata": {},
     "output_type": "display_data"
    },
    {
     "name": "stdout",
     "output_type": "stream",
     "text": [
      "\n"
     ]
    },
    {
     "data": {
      "application/vnd.jupyter.widget-view+json": {
       "model_id": "209a5018b72c4013ac742fe3e0d57320",
       "version_major": 2,
       "version_minor": 0
      },
      "text/plain": [
       "HBox(children=(HTML(value=''), FloatProgress(value=0.0, max=19997.0), HTML(value='')))"
      ]
     },
     "metadata": {},
     "output_type": "display_data"
    },
    {
     "name": "stderr",
     "output_type": "stream",
     "text": [
      "/home/AMIFARAJ/book-experiments/bookgender/fair_metrics/sapiezynski.py:54: RuntimeWarning: invalid value encountered in double_scalars\n"
     ]
    },
    {
     "name": "stdout",
     "output_type": "stream",
     "text": [
      "\n"
     ]
    },
    {
     "data": {
      "application/vnd.jupyter.widget-view+json": {
       "model_id": "dbaf5a637fc64bacaf0e661c73504dd5",
       "version_major": 2,
       "version_minor": 0
      },
      "text/plain": [
       "HBox(children=(HTML(value=''), FloatProgress(value=0.0, max=4.0), HTML(value='')))"
      ]
     },
     "metadata": {},
     "output_type": "display_data"
    },
    {
     "name": "stdout",
     "output_type": "stream",
     "text": [
      "\n"
     ]
    },
    {
     "data": {
      "application/vnd.jupyter.widget-view+json": {
       "model_id": "b4c58b0fa6984a3cb792a356d735fb79",
       "version_major": 2,
       "version_minor": 0
      },
      "text/plain": [
       "HBox(children=(HTML(value=''), FloatProgress(value=0.0, max=19997.0), HTML(value='')))"
      ]
     },
     "metadata": {},
     "output_type": "display_data"
    },
    {
     "name": "stderr",
     "output_type": "stream",
     "text": [
      "/home/AMIFARAJ/book-experiments/bookgender/fair_metrics/sapiezynski.py:54: RuntimeWarning: invalid value encountered in double_scalars\n"
     ]
    },
    {
     "name": "stdout",
     "output_type": "stream",
     "text": [
      "\n"
     ]
    },
    {
     "data": {
      "application/vnd.jupyter.widget-view+json": {
       "model_id": "6f0a867024c6409bb05e49cc556ef2ca",
       "version_major": 2,
       "version_minor": 0
      },
      "text/plain": [
       "HBox(children=(HTML(value=''), FloatProgress(value=0.0, max=4.0), HTML(value='')))"
      ]
     },
     "metadata": {},
     "output_type": "display_data"
    },
    {
     "name": "stdout",
     "output_type": "stream",
     "text": [
      "\n"
     ]
    },
    {
     "data": {
      "application/vnd.jupyter.widget-view+json": {
       "model_id": "ab945b9c4877468288f15ec7c6291d80",
       "version_major": 2,
       "version_minor": 0
      },
      "text/plain": [
       "HBox(children=(HTML(value=''), FloatProgress(value=0.0, max=19997.0), HTML(value='')))"
      ]
     },
     "metadata": {},
     "output_type": "display_data"
    },
    {
     "name": "stderr",
     "output_type": "stream",
     "text": [
      "/home/AMIFARAJ/book-experiments/bookgender/fair_metrics/sapiezynski.py:54: RuntimeWarning: invalid value encountered in double_scalars\n"
     ]
    },
    {
     "name": "stdout",
     "output_type": "stream",
     "text": [
      "\n"
     ]
    },
    {
     "data": {
      "application/vnd.jupyter.widget-view+json": {
       "model_id": "10efdfeea48d451583f496f5f57d0ba5",
       "version_major": 2,
       "version_minor": 0
      },
      "text/plain": [
       "HBox(children=(HTML(value=''), FloatProgress(value=0.0, max=4.0), HTML(value='')))"
      ]
     },
     "metadata": {},
     "output_type": "display_data"
    },
    {
     "name": "stdout",
     "output_type": "stream",
     "text": [
      "\n"
     ]
    },
    {
     "data": {
      "application/vnd.jupyter.widget-view+json": {
       "model_id": "b8303eca294244069ac178f74a3d74a1",
       "version_major": 2,
       "version_minor": 0
      },
      "text/plain": [
       "HBox(children=(HTML(value=''), FloatProgress(value=0.0, max=19997.0), HTML(value='')))"
      ]
     },
     "metadata": {},
     "output_type": "display_data"
    },
    {
     "name": "stderr",
     "output_type": "stream",
     "text": [
      "/home/AMIFARAJ/book-experiments/bookgender/fair_metrics/sapiezynski.py:54: RuntimeWarning: invalid value encountered in double_scalars\n"
     ]
    },
    {
     "name": "stdout",
     "output_type": "stream",
     "text": [
      "\n"
     ]
    },
    {
     "data": {
      "application/vnd.jupyter.widget-view+json": {
       "model_id": "92284654cfa44031a3bba5853cf90cfa",
       "version_major": 2,
       "version_minor": 0
      },
      "text/plain": [
       "HBox(children=(HTML(value=''), FloatProgress(value=0.0, max=4.0), HTML(value='')))"
      ]
     },
     "metadata": {},
     "output_type": "display_data"
    },
    {
     "name": "stdout",
     "output_type": "stream",
     "text": [
      "\n"
     ]
    },
    {
     "data": {
      "application/vnd.jupyter.widget-view+json": {
       "model_id": "15561532495340c4abf8c4718ec620f5",
       "version_major": 2,
       "version_minor": 0
      },
      "text/plain": [
       "HBox(children=(HTML(value=''), FloatProgress(value=0.0, max=19997.0), HTML(value='')))"
      ]
     },
     "metadata": {},
     "output_type": "display_data"
    },
    {
     "name": "stderr",
     "output_type": "stream",
     "text": [
      "/home/AMIFARAJ/book-experiments/bookgender/fair_metrics/sapiezynski.py:54: RuntimeWarning: invalid value encountered in double_scalars\n"
     ]
    },
    {
     "name": "stdout",
     "output_type": "stream",
     "text": [
      "\n"
     ]
    },
    {
     "data": {
      "application/vnd.jupyter.widget-view+json": {
       "model_id": "8bebdef1551f4c70b4ed7d481098f7db",
       "version_major": 2,
       "version_minor": 0
      },
      "text/plain": [
       "HBox(children=(HTML(value=''), FloatProgress(value=0.0, max=4.0), HTML(value='')))"
      ]
     },
     "metadata": {},
     "output_type": "display_data"
    },
    {
     "name": "stdout",
     "output_type": "stream",
     "text": [
      "\n"
     ]
    },
    {
     "data": {
      "application/vnd.jupyter.widget-view+json": {
       "model_id": "8be5f4e66b4c4d2880b1239de2f94a1f",
       "version_major": 2,
       "version_minor": 0
      },
      "text/plain": [
       "HBox(children=(HTML(value=''), FloatProgress(value=0.0, max=19997.0), HTML(value='')))"
      ]
     },
     "metadata": {},
     "output_type": "display_data"
    },
    {
     "name": "stderr",
     "output_type": "stream",
     "text": [
      "/home/AMIFARAJ/book-experiments/bookgender/fair_metrics/sapiezynski.py:54: RuntimeWarning: invalid value encountered in double_scalars\n"
     ]
    },
    {
     "name": "stdout",
     "output_type": "stream",
     "text": [
      "\n"
     ]
    }
   ],
   "source": [
    "rankedlist_results=pd.DataFrame()\n",
    "for listsize in [10, 20, 30, 40, 50, 100, 500, 1000]:\n",
    "    results = MA.run_default_setting(listsize)\n",
    "    rankedlist_results=rankedlist_results.append(results)"
   ]
  },
  {
   "cell_type": "code",
   "execution_count": 31,
   "metadata": {},
   "outputs": [
    {
     "data": {
      "text/html": [
       "<div>\n",
       "<style scoped>\n",
       "    .dataframe tbody tr th:only-of-type {\n",
       "        vertical-align: middle;\n",
       "    }\n",
       "\n",
       "    .dataframe tbody tr th {\n",
       "        vertical-align: top;\n",
       "    }\n",
       "\n",
       "    .dataframe thead th {\n",
       "        text-align: right;\n",
       "    }\n",
       "</style>\n",
       "<table border=\"1\" class=\"dataframe\">\n",
       "  <thead>\n",
       "    <tr style=\"text-align: right;\">\n",
       "      <th></th>\n",
       "      <th>Algorithm</th>\n",
       "      <th>Metric</th>\n",
       "      <th>value</th>\n",
       "      <th>ranked_size</th>\n",
       "    </tr>\n",
       "  </thead>\n",
       "  <tbody>\n",
       "    <tr>\n",
       "      <th>0</th>\n",
       "      <td>bpr</td>\n",
       "      <td>AWRF_equal</td>\n",
       "      <td>0.392382</td>\n",
       "      <td>10</td>\n",
       "    </tr>\n",
       "    <tr>\n",
       "      <th>1</th>\n",
       "      <td>item-item</td>\n",
       "      <td>AWRF_equal</td>\n",
       "      <td>0.391042</td>\n",
       "      <td>10</td>\n",
       "    </tr>\n",
       "    <tr>\n",
       "      <th>2</th>\n",
       "      <td>user-user</td>\n",
       "      <td>AWRF_equal</td>\n",
       "      <td>0.377818</td>\n",
       "      <td>10</td>\n",
       "    </tr>\n",
       "    <tr>\n",
       "      <th>3</th>\n",
       "      <td>wrls</td>\n",
       "      <td>AWRF_equal</td>\n",
       "      <td>0.366986</td>\n",
       "      <td>10</td>\n",
       "    </tr>\n",
       "    <tr>\n",
       "      <th>4</th>\n",
       "      <td>bpr</td>\n",
       "      <td>FAIR</td>\n",
       "      <td>0.491807</td>\n",
       "      <td>10</td>\n",
       "    </tr>\n",
       "    <tr>\n",
       "      <th>...</th>\n",
       "      <td>...</td>\n",
       "      <td>...</td>\n",
       "      <td>...</td>\n",
       "      <td>...</td>\n",
       "    </tr>\n",
       "    <tr>\n",
       "      <th>35</th>\n",
       "      <td>wrls</td>\n",
       "      <td>logEUR</td>\n",
       "      <td>-0.348566</td>\n",
       "      <td>1000</td>\n",
       "    </tr>\n",
       "    <tr>\n",
       "      <th>36</th>\n",
       "      <td>bpr</td>\n",
       "      <td>logRUR</td>\n",
       "      <td>-0.357889</td>\n",
       "      <td>1000</td>\n",
       "    </tr>\n",
       "    <tr>\n",
       "      <th>37</th>\n",
       "      <td>item-item</td>\n",
       "      <td>logRUR</td>\n",
       "      <td>-0.444947</td>\n",
       "      <td>1000</td>\n",
       "    </tr>\n",
       "    <tr>\n",
       "      <th>38</th>\n",
       "      <td>user-user</td>\n",
       "      <td>logRUR</td>\n",
       "      <td>-0.443223</td>\n",
       "      <td>1000</td>\n",
       "    </tr>\n",
       "    <tr>\n",
       "      <th>39</th>\n",
       "      <td>wrls</td>\n",
       "      <td>logRUR</td>\n",
       "      <td>-0.413974</td>\n",
       "      <td>1000</td>\n",
       "    </tr>\n",
       "  </tbody>\n",
       "</table>\n",
       "<p>320 rows × 4 columns</p>\n",
       "</div>"
      ],
      "text/plain": [
       "    Algorithm      Metric     value  ranked_size\n",
       "0         bpr  AWRF_equal  0.392382           10\n",
       "1   item-item  AWRF_equal  0.391042           10\n",
       "2   user-user  AWRF_equal  0.377818           10\n",
       "3        wrls  AWRF_equal  0.366986           10\n",
       "4         bpr        FAIR  0.491807           10\n",
       "..        ...         ...       ...          ...\n",
       "35       wrls      logEUR -0.348566         1000\n",
       "36        bpr      logRUR -0.357889         1000\n",
       "37  item-item      logRUR -0.444947         1000\n",
       "38  user-user      logRUR -0.443223         1000\n",
       "39       wrls      logRUR -0.413974         1000\n",
       "\n",
       "[320 rows x 4 columns]"
      ]
     },
     "execution_count": 31,
     "metadata": {},
     "output_type": "execute_result"
    }
   ],
   "source": [
    "rankedlist_results"
   ]
  },
  {
   "cell_type": "code",
   "execution_count": 32,
   "metadata": {},
   "outputs": [],
   "source": [
    "rankedlist_results.to_parquet('results/SIGIR22/rec_rankedlist_sens_size_up.parquet')"
   ]
  },
  {
   "cell_type": "code",
   "execution_count": 2,
   "metadata": {},
   "outputs": [],
   "source": [
    "#AWRF_FAIR = old_rankedlist_results.loc[old_rankedlist_results['Metric'].isin(['AWRF', 'FAIR'])]\n",
    "#final_rank_metric = pd.concat([AWRF_FAIR, rankedlist_results], ignore_index=True)\n",
    "#final_rank_metric"
   ]
  },
  {
   "cell_type": "code",
   "execution_count": 3,
   "metadata": {},
   "outputs": [],
   "source": [
    "#final_rank_metric.to_parquet('results/rankedlist_sens_IAA.parquet')"
   ]
  },
  {
   "cell_type": "markdown",
   "metadata": {},
   "source": [
    "## Position Weight changing"
   ]
  },
  {
   "cell_type": "code",
   "execution_count": null,
   "metadata": {},
   "outputs": [],
   "source": [
    "#old_position_result=pd.read_parquet('results/position_sensitivity.parquet')"
   ]
  },
  {
   "cell_type": "code",
   "execution_count": 33,
   "metadata": {},
   "outputs": [
    {
     "data": {
      "application/vnd.jupyter.widget-view+json": {
       "model_id": "aac978e0271b40b7a5ddaedd95a6f31a",
       "version_major": 2,
       "version_minor": 0
      },
      "text/plain": [
       "HBox(children=(HTML(value=''), FloatProgress(value=0.0, max=4.0), HTML(value='')))"
      ]
     },
     "metadata": {},
     "output_type": "display_data"
    },
    {
     "name": "stdout",
     "output_type": "stream",
     "text": [
      "\n"
     ]
    },
    {
     "data": {
      "application/vnd.jupyter.widget-view+json": {
       "model_id": "3496f7bbec2e458ba3f6d61038a91caf",
       "version_major": 2,
       "version_minor": 0
      },
      "text/plain": [
       "HBox(children=(HTML(value=''), FloatProgress(value=0.0, max=19997.0), HTML(value='')))"
      ]
     },
     "metadata": {},
     "output_type": "display_data"
    },
    {
     "name": "stdout",
     "output_type": "stream",
     "text": [
      "\n"
     ]
    },
    {
     "data": {
      "application/vnd.jupyter.widget-view+json": {
       "model_id": "d2218df81fb1454db159a21e5a13609b",
       "version_major": 2,
       "version_minor": 0
      },
      "text/plain": [
       "HBox(children=(HTML(value=''), FloatProgress(value=0.0, max=4.0), HTML(value='')))"
      ]
     },
     "metadata": {},
     "output_type": "display_data"
    },
    {
     "name": "stdout",
     "output_type": "stream",
     "text": [
      "\n"
     ]
    },
    {
     "data": {
      "application/vnd.jupyter.widget-view+json": {
       "model_id": "a96b28369f3c49c09d7d4e16dc0ea272",
       "version_major": 2,
       "version_minor": 0
      },
      "text/plain": [
       "HBox(children=(HTML(value=''), FloatProgress(value=0.0, max=19997.0), HTML(value='')))"
      ]
     },
     "metadata": {},
     "output_type": "display_data"
    },
    {
     "name": "stdout",
     "output_type": "stream",
     "text": [
      "\n"
     ]
    },
    {
     "data": {
      "application/vnd.jupyter.widget-view+json": {
       "model_id": "15f2ccaf8ff542b9b3103ca9adf4946e",
       "version_major": 2,
       "version_minor": 0
      },
      "text/plain": [
       "HBox(children=(HTML(value=''), FloatProgress(value=0.0, max=4.0), HTML(value='')))"
      ]
     },
     "metadata": {},
     "output_type": "display_data"
    },
    {
     "name": "stdout",
     "output_type": "stream",
     "text": [
      "\n"
     ]
    },
    {
     "data": {
      "application/vnd.jupyter.widget-view+json": {
       "model_id": "4674d8152c32443ca4f60ef37b1035aa",
       "version_major": 2,
       "version_minor": 0
      },
      "text/plain": [
       "HBox(children=(HTML(value=''), FloatProgress(value=0.0, max=19997.0), HTML(value='')))"
      ]
     },
     "metadata": {},
     "output_type": "display_data"
    },
    {
     "name": "stdout",
     "output_type": "stream",
     "text": [
      "\n"
     ]
    },
    {
     "data": {
      "application/vnd.jupyter.widget-view+json": {
       "model_id": "38a9c797f48d4bf483fc31bf97cf2143",
       "version_major": 2,
       "version_minor": 0
      },
      "text/plain": [
       "HBox(children=(HTML(value=''), FloatProgress(value=0.0, max=4.0), HTML(value='')))"
      ]
     },
     "metadata": {},
     "output_type": "display_data"
    },
    {
     "name": "stdout",
     "output_type": "stream",
     "text": [
      "\n"
     ]
    },
    {
     "data": {
      "application/vnd.jupyter.widget-view+json": {
       "model_id": "818c8290519343a38d96bad3a1e0ff65",
       "version_major": 2,
       "version_minor": 0
      },
      "text/plain": [
       "HBox(children=(HTML(value=''), FloatProgress(value=0.0, max=19997.0), HTML(value='')))"
      ]
     },
     "metadata": {},
     "output_type": "display_data"
    },
    {
     "name": "stdout",
     "output_type": "stream",
     "text": [
      "\n"
     ]
    }
   ],
   "source": [
    "position_results=pd.DataFrame()\n",
    "for position in [pos.geometric, pos.cascade, pos.logarithmic, pos.rbp]:\n",
    "    results = MA.run_sensitivity_analysis(position_weight=position)\n",
    "    position_results=position_results.append(results)"
   ]
  },
  {
   "cell_type": "code",
   "execution_count": 34,
   "metadata": {},
   "outputs": [
    {
     "data": {
      "text/html": [
       "<div>\n",
       "<style scoped>\n",
       "    .dataframe tbody tr th:only-of-type {\n",
       "        vertical-align: middle;\n",
       "    }\n",
       "\n",
       "    .dataframe tbody tr th {\n",
       "        vertical-align: top;\n",
       "    }\n",
       "\n",
       "    .dataframe thead th {\n",
       "        text-align: right;\n",
       "    }\n",
       "</style>\n",
       "<table border=\"1\" class=\"dataframe\">\n",
       "  <thead>\n",
       "    <tr style=\"text-align: right;\">\n",
       "      <th></th>\n",
       "      <th>Algorithm</th>\n",
       "      <th>Metric</th>\n",
       "      <th>value</th>\n",
       "      <th>NaN</th>\n",
       "      <th>pos_weight</th>\n",
       "      <th>ranked_size</th>\n",
       "    </tr>\n",
       "  </thead>\n",
       "  <tbody>\n",
       "    <tr>\n",
       "      <th>0</th>\n",
       "      <td>bpr</td>\n",
       "      <td>AWRF</td>\n",
       "      <td>0.385593</td>\n",
       "      <td>None</td>\n",
       "      <td>geometric</td>\n",
       "      <td>100</td>\n",
       "    </tr>\n",
       "    <tr>\n",
       "      <th>1</th>\n",
       "      <td>item-item</td>\n",
       "      <td>AWRF</td>\n",
       "      <td>0.423400</td>\n",
       "      <td>None</td>\n",
       "      <td>geometric</td>\n",
       "      <td>100</td>\n",
       "    </tr>\n",
       "    <tr>\n",
       "      <th>2</th>\n",
       "      <td>user-user</td>\n",
       "      <td>AWRF</td>\n",
       "      <td>0.373271</td>\n",
       "      <td>None</td>\n",
       "      <td>geometric</td>\n",
       "      <td>100</td>\n",
       "    </tr>\n",
       "    <tr>\n",
       "      <th>3</th>\n",
       "      <td>wrls</td>\n",
       "      <td>AWRF</td>\n",
       "      <td>0.357054</td>\n",
       "      <td>None</td>\n",
       "      <td>geometric</td>\n",
       "      <td>100</td>\n",
       "    </tr>\n",
       "    <tr>\n",
       "      <th>4</th>\n",
       "      <td>bpr</td>\n",
       "      <td>IAA</td>\n",
       "      <td>0.270639</td>\n",
       "      <td>None</td>\n",
       "      <td>geometric</td>\n",
       "      <td>100</td>\n",
       "    </tr>\n",
       "    <tr>\n",
       "      <th>...</th>\n",
       "      <td>...</td>\n",
       "      <td>...</td>\n",
       "      <td>...</td>\n",
       "      <td>...</td>\n",
       "      <td>...</td>\n",
       "      <td>...</td>\n",
       "    </tr>\n",
       "    <tr>\n",
       "      <th>27</th>\n",
       "      <td>wrls</td>\n",
       "      <td>logEUR</td>\n",
       "      <td>-0.389596</td>\n",
       "      <td>None</td>\n",
       "      <td>rbp</td>\n",
       "      <td>100</td>\n",
       "    </tr>\n",
       "    <tr>\n",
       "      <th>28</th>\n",
       "      <td>bpr</td>\n",
       "      <td>logRUR</td>\n",
       "      <td>-0.229228</td>\n",
       "      <td>None</td>\n",
       "      <td>rbp</td>\n",
       "      <td>100</td>\n",
       "    </tr>\n",
       "    <tr>\n",
       "      <th>29</th>\n",
       "      <td>item-item</td>\n",
       "      <td>logRUR</td>\n",
       "      <td>-0.396353</td>\n",
       "      <td>None</td>\n",
       "      <td>rbp</td>\n",
       "      <td>100</td>\n",
       "    </tr>\n",
       "    <tr>\n",
       "      <th>30</th>\n",
       "      <td>user-user</td>\n",
       "      <td>logRUR</td>\n",
       "      <td>-1.038855</td>\n",
       "      <td>None</td>\n",
       "      <td>rbp</td>\n",
       "      <td>100</td>\n",
       "    </tr>\n",
       "    <tr>\n",
       "      <th>31</th>\n",
       "      <td>wrls</td>\n",
       "      <td>logRUR</td>\n",
       "      <td>-0.474982</td>\n",
       "      <td>None</td>\n",
       "      <td>rbp</td>\n",
       "      <td>100</td>\n",
       "    </tr>\n",
       "  </tbody>\n",
       "</table>\n",
       "<p>128 rows × 6 columns</p>\n",
       "</div>"
      ],
      "text/plain": [
       "    Algorithm  Metric     value   NaN pos_weight  ranked_size\n",
       "0         bpr    AWRF  0.385593  None  geometric          100\n",
       "1   item-item    AWRF  0.423400  None  geometric          100\n",
       "2   user-user    AWRF  0.373271  None  geometric          100\n",
       "3        wrls    AWRF  0.357054  None  geometric          100\n",
       "4         bpr     IAA  0.270639  None  geometric          100\n",
       "..        ...     ...       ...   ...        ...          ...\n",
       "27       wrls  logEUR -0.389596  None        rbp          100\n",
       "28        bpr  logRUR -0.229228  None        rbp          100\n",
       "29  item-item  logRUR -0.396353  None        rbp          100\n",
       "30  user-user  logRUR -1.038855  None        rbp          100\n",
       "31       wrls  logRUR -0.474982  None        rbp          100\n",
       "\n",
       "[128 rows x 6 columns]"
      ]
     },
     "execution_count": 34,
     "metadata": {},
     "output_type": "execute_result"
    }
   ],
   "source": [
    "position_results"
   ]
  },
  {
   "cell_type": "code",
   "execution_count": 35,
   "metadata": {},
   "outputs": [
    {
     "data": {
      "text/html": [
       "<div>\n",
       "<style scoped>\n",
       "    .dataframe tbody tr th:only-of-type {\n",
       "        vertical-align: middle;\n",
       "    }\n",
       "\n",
       "    .dataframe tbody tr th {\n",
       "        vertical-align: top;\n",
       "    }\n",
       "\n",
       "    .dataframe thead th {\n",
       "        text-align: right;\n",
       "    }\n",
       "</style>\n",
       "<table border=\"1\" class=\"dataframe\">\n",
       "  <thead>\n",
       "    <tr style=\"text-align: right;\">\n",
       "      <th></th>\n",
       "      <th>Algorithm</th>\n",
       "      <th>Metric</th>\n",
       "      <th>value</th>\n",
       "      <th>NaN</th>\n",
       "      <th>pos_weight</th>\n",
       "      <th>ranked_size</th>\n",
       "    </tr>\n",
       "  </thead>\n",
       "  <tbody>\n",
       "    <tr>\n",
       "      <th>0</th>\n",
       "      <td>bpr</td>\n",
       "      <td>AWRF</td>\n",
       "      <td>0.385593</td>\n",
       "      <td>None</td>\n",
       "      <td>geometric</td>\n",
       "      <td>100</td>\n",
       "    </tr>\n",
       "    <tr>\n",
       "      <th>1</th>\n",
       "      <td>item-item</td>\n",
       "      <td>AWRF</td>\n",
       "      <td>0.423400</td>\n",
       "      <td>None</td>\n",
       "      <td>geometric</td>\n",
       "      <td>100</td>\n",
       "    </tr>\n",
       "    <tr>\n",
       "      <th>2</th>\n",
       "      <td>user-user</td>\n",
       "      <td>AWRF</td>\n",
       "      <td>0.373271</td>\n",
       "      <td>None</td>\n",
       "      <td>geometric</td>\n",
       "      <td>100</td>\n",
       "    </tr>\n",
       "    <tr>\n",
       "      <th>3</th>\n",
       "      <td>wrls</td>\n",
       "      <td>AWRF</td>\n",
       "      <td>0.357054</td>\n",
       "      <td>None</td>\n",
       "      <td>geometric</td>\n",
       "      <td>100</td>\n",
       "    </tr>\n",
       "    <tr>\n",
       "      <th>4</th>\n",
       "      <td>bpr</td>\n",
       "      <td>IAA</td>\n",
       "      <td>0.270639</td>\n",
       "      <td>None</td>\n",
       "      <td>geometric</td>\n",
       "      <td>100</td>\n",
       "    </tr>\n",
       "    <tr>\n",
       "      <th>...</th>\n",
       "      <td>...</td>\n",
       "      <td>...</td>\n",
       "      <td>...</td>\n",
       "      <td>...</td>\n",
       "      <td>...</td>\n",
       "      <td>...</td>\n",
       "    </tr>\n",
       "    <tr>\n",
       "      <th>123</th>\n",
       "      <td>wrls</td>\n",
       "      <td>logEUR</td>\n",
       "      <td>-0.389596</td>\n",
       "      <td>None</td>\n",
       "      <td>rbp</td>\n",
       "      <td>100</td>\n",
       "    </tr>\n",
       "    <tr>\n",
       "      <th>124</th>\n",
       "      <td>bpr</td>\n",
       "      <td>logRUR</td>\n",
       "      <td>-0.229228</td>\n",
       "      <td>None</td>\n",
       "      <td>rbp</td>\n",
       "      <td>100</td>\n",
       "    </tr>\n",
       "    <tr>\n",
       "      <th>125</th>\n",
       "      <td>item-item</td>\n",
       "      <td>logRUR</td>\n",
       "      <td>-0.396353</td>\n",
       "      <td>None</td>\n",
       "      <td>rbp</td>\n",
       "      <td>100</td>\n",
       "    </tr>\n",
       "    <tr>\n",
       "      <th>126</th>\n",
       "      <td>user-user</td>\n",
       "      <td>logRUR</td>\n",
       "      <td>-1.038855</td>\n",
       "      <td>None</td>\n",
       "      <td>rbp</td>\n",
       "      <td>100</td>\n",
       "    </tr>\n",
       "    <tr>\n",
       "      <th>127</th>\n",
       "      <td>wrls</td>\n",
       "      <td>logRUR</td>\n",
       "      <td>-0.474982</td>\n",
       "      <td>None</td>\n",
       "      <td>rbp</td>\n",
       "      <td>100</td>\n",
       "    </tr>\n",
       "  </tbody>\n",
       "</table>\n",
       "<p>128 rows × 6 columns</p>\n",
       "</div>"
      ],
      "text/plain": [
       "     Algorithm  Metric     value   NaN pos_weight  ranked_size\n",
       "0          bpr    AWRF  0.385593  None  geometric          100\n",
       "1    item-item    AWRF  0.423400  None  geometric          100\n",
       "2    user-user    AWRF  0.373271  None  geometric          100\n",
       "3         wrls    AWRF  0.357054  None  geometric          100\n",
       "4          bpr     IAA  0.270639  None  geometric          100\n",
       "..         ...     ...       ...   ...        ...          ...\n",
       "123       wrls  logEUR -0.389596  None        rbp          100\n",
       "124        bpr  logRUR -0.229228  None        rbp          100\n",
       "125  item-item  logRUR -0.396353  None        rbp          100\n",
       "126  user-user  logRUR -1.038855  None        rbp          100\n",
       "127       wrls  logRUR -0.474982  None        rbp          100\n",
       "\n",
       "[128 rows x 6 columns]"
      ]
     },
     "execution_count": 35,
     "metadata": {},
     "output_type": "execute_result"
    }
   ],
   "source": [
    "position_results.reset_index(inplace=True)\n",
    "position_results.drop(columns=['index'], inplace=True)\n",
    "position_results"
   ]
  },
  {
   "cell_type": "code",
   "execution_count": 36,
   "metadata": {},
   "outputs": [],
   "source": [
    "position_result = position_results[['Algorithm', 'Metric', 'value', 'pos_weight']]"
   ]
  },
  {
   "cell_type": "code",
   "execution_count": 37,
   "metadata": {},
   "outputs": [],
   "source": [
    "#AWRF_FAIR = old_position_result.loc[old_position_result['Metric'].isin(['AWRF', 'FAIR'])]\n",
    "#final_pos_metric = pd.concat([AWRF_FAIR, position_result], ignore_index=True)\n",
    "#final_pos_metric"
   ]
  },
  {
   "cell_type": "code",
   "execution_count": 38,
   "metadata": {},
   "outputs": [],
   "source": [
    "position_result.to_parquet('results/SIGIR22/rec_position_sensitivity_up.parquet')"
   ]
  },
  {
   "cell_type": "markdown",
   "metadata": {},
   "source": [
    "## Parameter changes (Stopping Probability and Patience Parameter)"
   ]
  },
  {
   "cell_type": "markdown",
   "metadata": {},
   "source": [
    "#### Cascade and RBP use patience parameter\n",
    "#### Cascade and Geometrics user stopping probability"
   ]
  },
  {
   "cell_type": "code",
   "execution_count": 39,
   "metadata": {},
   "outputs": [],
   "source": [
    "#old_stop_results=pd.read_parquet('results/sensitivity_stop.parquet')\n",
    "#old_patience_results=pd.read_parquet('results/sensitivity_patience.parquet')"
   ]
  },
  {
   "cell_type": "code",
   "execution_count": 40,
   "metadata": {},
   "outputs": [
    {
     "data": {
      "application/vnd.jupyter.widget-view+json": {
       "model_id": "e2907fc15c5a4ce9ae96d6d967180b1d",
       "version_major": 2,
       "version_minor": 0
      },
      "text/plain": [
       "HBox(children=(HTML(value=''), FloatProgress(value=0.0, max=4.0), HTML(value='')))"
      ]
     },
     "metadata": {},
     "output_type": "display_data"
    },
    {
     "name": "stdout",
     "output_type": "stream",
     "text": [
      "\n"
     ]
    },
    {
     "data": {
      "application/vnd.jupyter.widget-view+json": {
       "model_id": "cae3040987bb4202bb5ea1be1254d006",
       "version_major": 2,
       "version_minor": 0
      },
      "text/plain": [
       "HBox(children=(HTML(value=''), FloatProgress(value=0.0, max=19997.0), HTML(value='')))"
      ]
     },
     "metadata": {},
     "output_type": "display_data"
    },
    {
     "name": "stdout",
     "output_type": "stream",
     "text": [
      "\n"
     ]
    },
    {
     "data": {
      "application/vnd.jupyter.widget-view+json": {
       "model_id": "7541c350eef94dcb996a91fd62eaa830",
       "version_major": 2,
       "version_minor": 0
      },
      "text/plain": [
       "HBox(children=(HTML(value=''), FloatProgress(value=0.0, max=4.0), HTML(value='')))"
      ]
     },
     "metadata": {},
     "output_type": "display_data"
    },
    {
     "name": "stdout",
     "output_type": "stream",
     "text": [
      "\n"
     ]
    },
    {
     "data": {
      "application/vnd.jupyter.widget-view+json": {
       "model_id": "c92860bf37a14f96aaced5f54b3de406",
       "version_major": 2,
       "version_minor": 0
      },
      "text/plain": [
       "HBox(children=(HTML(value=''), FloatProgress(value=0.0, max=19997.0), HTML(value='')))"
      ]
     },
     "metadata": {},
     "output_type": "display_data"
    },
    {
     "name": "stdout",
     "output_type": "stream",
     "text": [
      "\n"
     ]
    },
    {
     "data": {
      "application/vnd.jupyter.widget-view+json": {
       "model_id": "dac34610c4be4b529544b5da33d99256",
       "version_major": 2,
       "version_minor": 0
      },
      "text/plain": [
       "HBox(children=(HTML(value=''), FloatProgress(value=0.0, max=4.0), HTML(value='')))"
      ]
     },
     "metadata": {},
     "output_type": "display_data"
    },
    {
     "name": "stdout",
     "output_type": "stream",
     "text": [
      "\n"
     ]
    },
    {
     "data": {
      "application/vnd.jupyter.widget-view+json": {
       "model_id": "045a70ab830147d8856def145854abcb",
       "version_major": 2,
       "version_minor": 0
      },
      "text/plain": [
       "HBox(children=(HTML(value=''), FloatProgress(value=0.0, max=19997.0), HTML(value='')))"
      ]
     },
     "metadata": {},
     "output_type": "display_data"
    },
    {
     "name": "stdout",
     "output_type": "stream",
     "text": [
      "\n"
     ]
    },
    {
     "data": {
      "application/vnd.jupyter.widget-view+json": {
       "model_id": "47dad8f68d3d4825b3a5208bb906cac9",
       "version_major": 2,
       "version_minor": 0
      },
      "text/plain": [
       "HBox(children=(HTML(value=''), FloatProgress(value=0.0, max=4.0), HTML(value='')))"
      ]
     },
     "metadata": {},
     "output_type": "display_data"
    },
    {
     "name": "stdout",
     "output_type": "stream",
     "text": [
      "\n"
     ]
    },
    {
     "data": {
      "application/vnd.jupyter.widget-view+json": {
       "model_id": "5c8bf7554cd14c0e867fa30add2a4006",
       "version_major": 2,
       "version_minor": 0
      },
      "text/plain": [
       "HBox(children=(HTML(value=''), FloatProgress(value=0.0, max=19997.0), HTML(value='')))"
      ]
     },
     "metadata": {},
     "output_type": "display_data"
    },
    {
     "name": "stdout",
     "output_type": "stream",
     "text": [
      "\n"
     ]
    },
    {
     "data": {
      "application/vnd.jupyter.widget-view+json": {
       "model_id": "ef265106a3aa41c295579d2680c4b13d",
       "version_major": 2,
       "version_minor": 0
      },
      "text/plain": [
       "HBox(children=(HTML(value=''), FloatProgress(value=0.0, max=4.0), HTML(value='')))"
      ]
     },
     "metadata": {},
     "output_type": "display_data"
    },
    {
     "name": "stdout",
     "output_type": "stream",
     "text": [
      "\n"
     ]
    },
    {
     "data": {
      "application/vnd.jupyter.widget-view+json": {
       "model_id": "de635117c74f40baba5647f20a7e787b",
       "version_major": 2,
       "version_minor": 0
      },
      "text/plain": [
       "HBox(children=(HTML(value=''), FloatProgress(value=0.0, max=19997.0), HTML(value='')))"
      ]
     },
     "metadata": {},
     "output_type": "display_data"
    },
    {
     "name": "stdout",
     "output_type": "stream",
     "text": [
      "\n"
     ]
    },
    {
     "data": {
      "application/vnd.jupyter.widget-view+json": {
       "model_id": "6dc50d66f73b47e2a00ce3c60526867b",
       "version_major": 2,
       "version_minor": 0
      },
      "text/plain": [
       "HBox(children=(HTML(value=''), FloatProgress(value=0.0, max=4.0), HTML(value='')))"
      ]
     },
     "metadata": {},
     "output_type": "display_data"
    },
    {
     "name": "stdout",
     "output_type": "stream",
     "text": [
      "\n"
     ]
    },
    {
     "data": {
      "application/vnd.jupyter.widget-view+json": {
       "model_id": "e9fbd5d6a18749c785defeb44aff7935",
       "version_major": 2,
       "version_minor": 0
      },
      "text/plain": [
       "HBox(children=(HTML(value=''), FloatProgress(value=0.0, max=19997.0), HTML(value='')))"
      ]
     },
     "metadata": {},
     "output_type": "display_data"
    },
    {
     "name": "stdout",
     "output_type": "stream",
     "text": [
      "\n"
     ]
    },
    {
     "data": {
      "application/vnd.jupyter.widget-view+json": {
       "model_id": "8b12fcbc10804dababe45ff8ce53ff04",
       "version_major": 2,
       "version_minor": 0
      },
      "text/plain": [
       "HBox(children=(HTML(value=''), FloatProgress(value=0.0, max=4.0), HTML(value='')))"
      ]
     },
     "metadata": {},
     "output_type": "display_data"
    },
    {
     "name": "stdout",
     "output_type": "stream",
     "text": [
      "\n"
     ]
    },
    {
     "data": {
      "application/vnd.jupyter.widget-view+json": {
       "model_id": "3407618db69f4f24b9533cf53e4f542a",
       "version_major": 2,
       "version_minor": 0
      },
      "text/plain": [
       "HBox(children=(HTML(value=''), FloatProgress(value=0.0, max=19997.0), HTML(value='')))"
      ]
     },
     "metadata": {},
     "output_type": "display_data"
    },
    {
     "name": "stdout",
     "output_type": "stream",
     "text": [
      "\n"
     ]
    },
    {
     "data": {
      "application/vnd.jupyter.widget-view+json": {
       "model_id": "87fe6eb477c24adb922dd51921cb7c08",
       "version_major": 2,
       "version_minor": 0
      },
      "text/plain": [
       "HBox(children=(HTML(value=''), FloatProgress(value=0.0, max=4.0), HTML(value='')))"
      ]
     },
     "metadata": {},
     "output_type": "display_data"
    },
    {
     "name": "stdout",
     "output_type": "stream",
     "text": [
      "\n"
     ]
    },
    {
     "data": {
      "application/vnd.jupyter.widget-view+json": {
       "model_id": "4310f4eb7f614713bd74aa82073ab7f8",
       "version_major": 2,
       "version_minor": 0
      },
      "text/plain": [
       "HBox(children=(HTML(value=''), FloatProgress(value=0.0, max=19997.0), HTML(value='')))"
      ]
     },
     "metadata": {},
     "output_type": "display_data"
    },
    {
     "name": "stdout",
     "output_type": "stream",
     "text": [
      "\n"
     ]
    },
    {
     "data": {
      "application/vnd.jupyter.widget-view+json": {
       "model_id": "22d66bc4ecc946cb8b8c042140e52025",
       "version_major": 2,
       "version_minor": 0
      },
      "text/plain": [
       "HBox(children=(HTML(value=''), FloatProgress(value=0.0, max=4.0), HTML(value='')))"
      ]
     },
     "metadata": {},
     "output_type": "display_data"
    },
    {
     "name": "stdout",
     "output_type": "stream",
     "text": [
      "\n"
     ]
    },
    {
     "data": {
      "application/vnd.jupyter.widget-view+json": {
       "model_id": "fa92880717174977ad17645c200b875c",
       "version_major": 2,
       "version_minor": 0
      },
      "text/plain": [
       "HBox(children=(HTML(value=''), FloatProgress(value=0.0, max=19997.0), HTML(value='')))"
      ]
     },
     "metadata": {},
     "output_type": "display_data"
    },
    {
     "name": "stdout",
     "output_type": "stream",
     "text": [
      "\n"
     ]
    },
    {
     "data": {
      "application/vnd.jupyter.widget-view+json": {
       "model_id": "abc7f29257474c1d99521f7cd6b14e1a",
       "version_major": 2,
       "version_minor": 0
      },
      "text/plain": [
       "HBox(children=(HTML(value=''), FloatProgress(value=0.0, max=4.0), HTML(value='')))"
      ]
     },
     "metadata": {},
     "output_type": "display_data"
    },
    {
     "name": "stdout",
     "output_type": "stream",
     "text": [
      "\n"
     ]
    },
    {
     "data": {
      "application/vnd.jupyter.widget-view+json": {
       "model_id": "976a3c251b8340168fd7dbbec5474eec",
       "version_major": 2,
       "version_minor": 0
      },
      "text/plain": [
       "HBox(children=(HTML(value=''), FloatProgress(value=0.0, max=19997.0), HTML(value='')))"
      ]
     },
     "metadata": {},
     "output_type": "display_data"
    },
    {
     "name": "stdout",
     "output_type": "stream",
     "text": [
      "\n"
     ]
    }
   ],
   "source": [
    "stop_results=pd.DataFrame()\n",
    "for position in [pos.geometric, pos.cascade]:\n",
    "    for stop in range(1, 10, 2):\n",
    "        results = MA.run_sensitivity_analysis(position_weight = position, arg='stop', arg_val=stop/10)\n",
    "        stop_results=stop_results.append(results)"
   ]
  },
  {
   "cell_type": "code",
   "execution_count": 41,
   "metadata": {},
   "outputs": [
    {
     "data": {
      "text/html": [
       "<div>\n",
       "<style scoped>\n",
       "    .dataframe tbody tr th:only-of-type {\n",
       "        vertical-align: middle;\n",
       "    }\n",
       "\n",
       "    .dataframe tbody tr th {\n",
       "        vertical-align: top;\n",
       "    }\n",
       "\n",
       "    .dataframe thead th {\n",
       "        text-align: right;\n",
       "    }\n",
       "</style>\n",
       "<table border=\"1\" class=\"dataframe\">\n",
       "  <thead>\n",
       "    <tr style=\"text-align: right;\">\n",
       "      <th></th>\n",
       "      <th>Algorithm</th>\n",
       "      <th>Metric</th>\n",
       "      <th>value</th>\n",
       "      <th>stop</th>\n",
       "      <th>pos_weight</th>\n",
       "      <th>ranked_size</th>\n",
       "    </tr>\n",
       "  </thead>\n",
       "  <tbody>\n",
       "    <tr>\n",
       "      <th>0</th>\n",
       "      <td>bpr</td>\n",
       "      <td>AWRF</td>\n",
       "      <td>0.298536</td>\n",
       "      <td>0.1</td>\n",
       "      <td>geometric</td>\n",
       "      <td>100</td>\n",
       "    </tr>\n",
       "    <tr>\n",
       "      <th>1</th>\n",
       "      <td>item-item</td>\n",
       "      <td>AWRF</td>\n",
       "      <td>0.277957</td>\n",
       "      <td>0.1</td>\n",
       "      <td>geometric</td>\n",
       "      <td>100</td>\n",
       "    </tr>\n",
       "    <tr>\n",
       "      <th>2</th>\n",
       "      <td>user-user</td>\n",
       "      <td>AWRF</td>\n",
       "      <td>0.263613</td>\n",
       "      <td>0.1</td>\n",
       "      <td>geometric</td>\n",
       "      <td>100</td>\n",
       "    </tr>\n",
       "    <tr>\n",
       "      <th>3</th>\n",
       "      <td>wrls</td>\n",
       "      <td>AWRF</td>\n",
       "      <td>0.266748</td>\n",
       "      <td>0.1</td>\n",
       "      <td>geometric</td>\n",
       "      <td>100</td>\n",
       "    </tr>\n",
       "    <tr>\n",
       "      <th>4</th>\n",
       "      <td>bpr</td>\n",
       "      <td>IAA</td>\n",
       "      <td>0.241686</td>\n",
       "      <td>0.1</td>\n",
       "      <td>geometric</td>\n",
       "      <td>100</td>\n",
       "    </tr>\n",
       "    <tr>\n",
       "      <th>...</th>\n",
       "      <td>...</td>\n",
       "      <td>...</td>\n",
       "      <td>...</td>\n",
       "      <td>...</td>\n",
       "      <td>...</td>\n",
       "      <td>...</td>\n",
       "    </tr>\n",
       "    <tr>\n",
       "      <th>27</th>\n",
       "      <td>wrls</td>\n",
       "      <td>logEUR</td>\n",
       "      <td>-0.287855</td>\n",
       "      <td>0.9</td>\n",
       "      <td>cascade</td>\n",
       "      <td>100</td>\n",
       "    </tr>\n",
       "    <tr>\n",
       "      <th>28</th>\n",
       "      <td>bpr</td>\n",
       "      <td>logRUR</td>\n",
       "      <td>-0.641245</td>\n",
       "      <td>0.9</td>\n",
       "      <td>cascade</td>\n",
       "      <td>100</td>\n",
       "    </tr>\n",
       "    <tr>\n",
       "      <th>29</th>\n",
       "      <td>item-item</td>\n",
       "      <td>logRUR</td>\n",
       "      <td>1.510909</td>\n",
       "      <td>0.9</td>\n",
       "      <td>cascade</td>\n",
       "      <td>100</td>\n",
       "    </tr>\n",
       "    <tr>\n",
       "      <th>30</th>\n",
       "      <td>user-user</td>\n",
       "      <td>logRUR</td>\n",
       "      <td>-1.632212</td>\n",
       "      <td>0.9</td>\n",
       "      <td>cascade</td>\n",
       "      <td>100</td>\n",
       "    </tr>\n",
       "    <tr>\n",
       "      <th>31</th>\n",
       "      <td>wrls</td>\n",
       "      <td>logRUR</td>\n",
       "      <td>-2.268279</td>\n",
       "      <td>0.9</td>\n",
       "      <td>cascade</td>\n",
       "      <td>100</td>\n",
       "    </tr>\n",
       "  </tbody>\n",
       "</table>\n",
       "<p>320 rows × 6 columns</p>\n",
       "</div>"
      ],
      "text/plain": [
       "    Algorithm  Metric     value  stop pos_weight  ranked_size\n",
       "0         bpr    AWRF  0.298536   0.1  geometric          100\n",
       "1   item-item    AWRF  0.277957   0.1  geometric          100\n",
       "2   user-user    AWRF  0.263613   0.1  geometric          100\n",
       "3        wrls    AWRF  0.266748   0.1  geometric          100\n",
       "4         bpr     IAA  0.241686   0.1  geometric          100\n",
       "..        ...     ...       ...   ...        ...          ...\n",
       "27       wrls  logEUR -0.287855   0.9    cascade          100\n",
       "28        bpr  logRUR -0.641245   0.9    cascade          100\n",
       "29  item-item  logRUR  1.510909   0.9    cascade          100\n",
       "30  user-user  logRUR -1.632212   0.9    cascade          100\n",
       "31       wrls  logRUR -2.268279   0.9    cascade          100\n",
       "\n",
       "[320 rows x 6 columns]"
      ]
     },
     "execution_count": 41,
     "metadata": {},
     "output_type": "execute_result"
    }
   ],
   "source": [
    "stop_results"
   ]
  },
  {
   "cell_type": "code",
   "execution_count": 42,
   "metadata": {},
   "outputs": [],
   "source": [
    "stop_results.to_parquet('results/SIGIR22/rec_sensitivity_stop_up.parquet')"
   ]
  },
  {
   "cell_type": "markdown",
   "metadata": {},
   "source": [
    "AWRF_FAIR = old_stop_results.loc[old_stop_results['Metric'].isin(['AWRF', 'FAIR'])]\n",
    "final_stop_metric = pd.concat([AWRF_FAIR, stop_results], ignore_index=True)\n",
    "final_stop_metric"
   ]
  },
  {
   "cell_type": "code",
   "execution_count": 44,
   "metadata": {},
   "outputs": [
    {
     "data": {
      "application/vnd.jupyter.widget-view+json": {
       "model_id": "1b7eae259bae481caee18a061e0cf772",
       "version_major": 2,
       "version_minor": 0
      },
      "text/plain": [
       "HBox(children=(HTML(value=''), FloatProgress(value=0.0, max=4.0), HTML(value='')))"
      ]
     },
     "metadata": {},
     "output_type": "display_data"
    },
    {
     "name": "stdout",
     "output_type": "stream",
     "text": [
      "\n"
     ]
    },
    {
     "data": {
      "application/vnd.jupyter.widget-view+json": {
       "model_id": "d0ddc469e098400e9ee9e97ce484076b",
       "version_major": 2,
       "version_minor": 0
      },
      "text/plain": [
       "HBox(children=(HTML(value=''), FloatProgress(value=0.0, max=19997.0), HTML(value='')))"
      ]
     },
     "metadata": {},
     "output_type": "display_data"
    },
    {
     "name": "stdout",
     "output_type": "stream",
     "text": [
      "\n"
     ]
    },
    {
     "data": {
      "application/vnd.jupyter.widget-view+json": {
       "model_id": "fec5ffadd63a497280d2f954c049276e",
       "version_major": 2,
       "version_minor": 0
      },
      "text/plain": [
       "HBox(children=(HTML(value=''), FloatProgress(value=0.0, max=4.0), HTML(value='')))"
      ]
     },
     "metadata": {},
     "output_type": "display_data"
    },
    {
     "name": "stdout",
     "output_type": "stream",
     "text": [
      "\n"
     ]
    },
    {
     "data": {
      "application/vnd.jupyter.widget-view+json": {
       "model_id": "88e2af6558b74744bc709e7249807e9e",
       "version_major": 2,
       "version_minor": 0
      },
      "text/plain": [
       "HBox(children=(HTML(value=''), FloatProgress(value=0.0, max=19997.0), HTML(value='')))"
      ]
     },
     "metadata": {},
     "output_type": "display_data"
    },
    {
     "name": "stdout",
     "output_type": "stream",
     "text": [
      "\n"
     ]
    },
    {
     "data": {
      "application/vnd.jupyter.widget-view+json": {
       "model_id": "9f8a2fbbe7c24942a87c089f8c695224",
       "version_major": 2,
       "version_minor": 0
      },
      "text/plain": [
       "HBox(children=(HTML(value=''), FloatProgress(value=0.0, max=4.0), HTML(value='')))"
      ]
     },
     "metadata": {},
     "output_type": "display_data"
    },
    {
     "name": "stdout",
     "output_type": "stream",
     "text": [
      "\n"
     ]
    },
    {
     "data": {
      "application/vnd.jupyter.widget-view+json": {
       "model_id": "e8e2486142514a878b2e7804ac8fec76",
       "version_major": 2,
       "version_minor": 0
      },
      "text/plain": [
       "HBox(children=(HTML(value=''), FloatProgress(value=0.0, max=19997.0), HTML(value='')))"
      ]
     },
     "metadata": {},
     "output_type": "display_data"
    },
    {
     "name": "stdout",
     "output_type": "stream",
     "text": [
      "\n"
     ]
    },
    {
     "data": {
      "application/vnd.jupyter.widget-view+json": {
       "model_id": "ae0f28d286d44dda8ea90dd5cbe31dbf",
       "version_major": 2,
       "version_minor": 0
      },
      "text/plain": [
       "HBox(children=(HTML(value=''), FloatProgress(value=0.0, max=4.0), HTML(value='')))"
      ]
     },
     "metadata": {},
     "output_type": "display_data"
    },
    {
     "name": "stdout",
     "output_type": "stream",
     "text": [
      "\n"
     ]
    },
    {
     "data": {
      "application/vnd.jupyter.widget-view+json": {
       "model_id": "18f80c27695d4ec7b256db0a25a8863f",
       "version_major": 2,
       "version_minor": 0
      },
      "text/plain": [
       "HBox(children=(HTML(value=''), FloatProgress(value=0.0, max=19997.0), HTML(value='')))"
      ]
     },
     "metadata": {},
     "output_type": "display_data"
    },
    {
     "name": "stdout",
     "output_type": "stream",
     "text": [
      "\n"
     ]
    },
    {
     "data": {
      "application/vnd.jupyter.widget-view+json": {
       "model_id": "0eaa2651edf44a2697edfac0175be298",
       "version_major": 2,
       "version_minor": 0
      },
      "text/plain": [
       "HBox(children=(HTML(value=''), FloatProgress(value=0.0, max=4.0), HTML(value='')))"
      ]
     },
     "metadata": {},
     "output_type": "display_data"
    },
    {
     "name": "stdout",
     "output_type": "stream",
     "text": [
      "\n"
     ]
    },
    {
     "data": {
      "application/vnd.jupyter.widget-view+json": {
       "model_id": "4f32c3da02274f5590776fe5269cb12f",
       "version_major": 2,
       "version_minor": 0
      },
      "text/plain": [
       "HBox(children=(HTML(value=''), FloatProgress(value=0.0, max=19997.0), HTML(value='')))"
      ]
     },
     "metadata": {},
     "output_type": "display_data"
    },
    {
     "name": "stdout",
     "output_type": "stream",
     "text": [
      "\n"
     ]
    },
    {
     "data": {
      "application/vnd.jupyter.widget-view+json": {
       "model_id": "c7caf0625b584073ad0e2a51109ec414",
       "version_major": 2,
       "version_minor": 0
      },
      "text/plain": [
       "HBox(children=(HTML(value=''), FloatProgress(value=0.0, max=4.0), HTML(value='')))"
      ]
     },
     "metadata": {},
     "output_type": "display_data"
    },
    {
     "name": "stdout",
     "output_type": "stream",
     "text": [
      "\n"
     ]
    },
    {
     "data": {
      "application/vnd.jupyter.widget-view+json": {
       "model_id": "f1fc6364b55045ccbcaaa40a42e1997b",
       "version_major": 2,
       "version_minor": 0
      },
      "text/plain": [
       "HBox(children=(HTML(value=''), FloatProgress(value=0.0, max=19997.0), HTML(value='')))"
      ]
     },
     "metadata": {},
     "output_type": "display_data"
    },
    {
     "name": "stdout",
     "output_type": "stream",
     "text": [
      "\n"
     ]
    },
    {
     "data": {
      "application/vnd.jupyter.widget-view+json": {
       "model_id": "19b57a78c76b46cbac77dc2098629b84",
       "version_major": 2,
       "version_minor": 0
      },
      "text/plain": [
       "HBox(children=(HTML(value=''), FloatProgress(value=0.0, max=4.0), HTML(value='')))"
      ]
     },
     "metadata": {},
     "output_type": "display_data"
    },
    {
     "name": "stdout",
     "output_type": "stream",
     "text": [
      "\n"
     ]
    },
    {
     "data": {
      "application/vnd.jupyter.widget-view+json": {
       "model_id": "11141aa5286046f8acab544215a953f8",
       "version_major": 2,
       "version_minor": 0
      },
      "text/plain": [
       "HBox(children=(HTML(value=''), FloatProgress(value=0.0, max=19997.0), HTML(value='')))"
      ]
     },
     "metadata": {},
     "output_type": "display_data"
    },
    {
     "name": "stdout",
     "output_type": "stream",
     "text": [
      "\n"
     ]
    },
    {
     "data": {
      "application/vnd.jupyter.widget-view+json": {
       "model_id": "5dcdfa5d243a4f78b8cd704e12d39039",
       "version_major": 2,
       "version_minor": 0
      },
      "text/plain": [
       "HBox(children=(HTML(value=''), FloatProgress(value=0.0, max=4.0), HTML(value='')))"
      ]
     },
     "metadata": {},
     "output_type": "display_data"
    },
    {
     "name": "stdout",
     "output_type": "stream",
     "text": [
      "\n"
     ]
    },
    {
     "data": {
      "application/vnd.jupyter.widget-view+json": {
       "model_id": "74d1745c53d44eb5a7884554a54f742d",
       "version_major": 2,
       "version_minor": 0
      },
      "text/plain": [
       "HBox(children=(HTML(value=''), FloatProgress(value=0.0, max=19997.0), HTML(value='')))"
      ]
     },
     "metadata": {},
     "output_type": "display_data"
    },
    {
     "name": "stdout",
     "output_type": "stream",
     "text": [
      "\n"
     ]
    },
    {
     "data": {
      "application/vnd.jupyter.widget-view+json": {
       "model_id": "3ceb1e138e504875a854a988202a7dd4",
       "version_major": 2,
       "version_minor": 0
      },
      "text/plain": [
       "HBox(children=(HTML(value=''), FloatProgress(value=0.0, max=4.0), HTML(value='')))"
      ]
     },
     "metadata": {},
     "output_type": "display_data"
    },
    {
     "name": "stdout",
     "output_type": "stream",
     "text": [
      "\n"
     ]
    },
    {
     "data": {
      "application/vnd.jupyter.widget-view+json": {
       "model_id": "a7405f53c6bf4d2fa8bb1e09aa561187",
       "version_major": 2,
       "version_minor": 0
      },
      "text/plain": [
       "HBox(children=(HTML(value=''), FloatProgress(value=0.0, max=19997.0), HTML(value='')))"
      ]
     },
     "metadata": {},
     "output_type": "display_data"
    },
    {
     "name": "stdout",
     "output_type": "stream",
     "text": [
      "\n"
     ]
    },
    {
     "data": {
      "application/vnd.jupyter.widget-view+json": {
       "model_id": "b73727aaaf0d45ebb8a03454af7a2ac7",
       "version_major": 2,
       "version_minor": 0
      },
      "text/plain": [
       "HBox(children=(HTML(value=''), FloatProgress(value=0.0, max=4.0), HTML(value='')))"
      ]
     },
     "metadata": {},
     "output_type": "display_data"
    },
    {
     "name": "stdout",
     "output_type": "stream",
     "text": [
      "\n"
     ]
    },
    {
     "data": {
      "application/vnd.jupyter.widget-view+json": {
       "model_id": "92d97acef94d4b8884807eeab14fb162",
       "version_major": 2,
       "version_minor": 0
      },
      "text/plain": [
       "HBox(children=(HTML(value=''), FloatProgress(value=0.0, max=19997.0), HTML(value='')))"
      ]
     },
     "metadata": {},
     "output_type": "display_data"
    },
    {
     "name": "stdout",
     "output_type": "stream",
     "text": [
      "\n"
     ]
    },
    {
     "data": {
      "application/vnd.jupyter.widget-view+json": {
       "model_id": "e1e410f180554c3eb088f6d2bb3c4efd",
       "version_major": 2,
       "version_minor": 0
      },
      "text/plain": [
       "HBox(children=(HTML(value=''), FloatProgress(value=0.0, max=4.0), HTML(value='')))"
      ]
     },
     "metadata": {},
     "output_type": "display_data"
    },
    {
     "name": "stdout",
     "output_type": "stream",
     "text": [
      "\n"
     ]
    },
    {
     "data": {
      "application/vnd.jupyter.widget-view+json": {
       "model_id": "2aad6d439e0d40b597bfa56b71e79415",
       "version_major": 2,
       "version_minor": 0
      },
      "text/plain": [
       "HBox(children=(HTML(value=''), FloatProgress(value=0.0, max=19997.0), HTML(value='')))"
      ]
     },
     "metadata": {},
     "output_type": "display_data"
    },
    {
     "name": "stdout",
     "output_type": "stream",
     "text": [
      "\n"
     ]
    },
    {
     "data": {
      "application/vnd.jupyter.widget-view+json": {
       "model_id": "664de08a42ba479182c38f618e5d1162",
       "version_major": 2,
       "version_minor": 0
      },
      "text/plain": [
       "HBox(children=(HTML(value=''), FloatProgress(value=0.0, max=4.0), HTML(value='')))"
      ]
     },
     "metadata": {},
     "output_type": "display_data"
    },
    {
     "name": "stdout",
     "output_type": "stream",
     "text": [
      "\n"
     ]
    },
    {
     "data": {
      "application/vnd.jupyter.widget-view+json": {
       "model_id": "340d6868a50a4aa38ab924849916db77",
       "version_major": 2,
       "version_minor": 0
      },
      "text/plain": [
       "HBox(children=(HTML(value=''), FloatProgress(value=0.0, max=19997.0), HTML(value='')))"
      ]
     },
     "metadata": {},
     "output_type": "display_data"
    },
    {
     "name": "stdout",
     "output_type": "stream",
     "text": [
      "\n"
     ]
    },
    {
     "data": {
      "application/vnd.jupyter.widget-view+json": {
       "model_id": "759fc952ffa641e8aae4819c09ca7f31",
       "version_major": 2,
       "version_minor": 0
      },
      "text/plain": [
       "HBox(children=(HTML(value=''), FloatProgress(value=0.0, max=4.0), HTML(value='')))"
      ]
     },
     "metadata": {},
     "output_type": "display_data"
    },
    {
     "name": "stdout",
     "output_type": "stream",
     "text": [
      "\n"
     ]
    },
    {
     "data": {
      "application/vnd.jupyter.widget-view+json": {
       "model_id": "bf17e307eb5b4d569b3cfda3ed2f87d3",
       "version_major": 2,
       "version_minor": 0
      },
      "text/plain": [
       "HBox(children=(HTML(value=''), FloatProgress(value=0.0, max=19997.0), HTML(value='')))"
      ]
     },
     "metadata": {},
     "output_type": "display_data"
    },
    {
     "name": "stdout",
     "output_type": "stream",
     "text": [
      "\n"
     ]
    },
    {
     "data": {
      "application/vnd.jupyter.widget-view+json": {
       "model_id": "720495a754a2424faa1d6fd4176b4ae8",
       "version_major": 2,
       "version_minor": 0
      },
      "text/plain": [
       "HBox(children=(HTML(value=''), FloatProgress(value=0.0, max=4.0), HTML(value='')))"
      ]
     },
     "metadata": {},
     "output_type": "display_data"
    },
    {
     "name": "stdout",
     "output_type": "stream",
     "text": [
      "\n"
     ]
    },
    {
     "data": {
      "application/vnd.jupyter.widget-view+json": {
       "model_id": "d7671fb9a09e4d7f9bb9ecb67c8df16f",
       "version_major": 2,
       "version_minor": 0
      },
      "text/plain": [
       "HBox(children=(HTML(value=''), FloatProgress(value=0.0, max=19997.0), HTML(value='')))"
      ]
     },
     "metadata": {},
     "output_type": "display_data"
    },
    {
     "name": "stdout",
     "output_type": "stream",
     "text": [
      "\n"
     ]
    },
    {
     "data": {
      "application/vnd.jupyter.widget-view+json": {
       "model_id": "bb74783b94df480da0ad1cce39acc3df",
       "version_major": 2,
       "version_minor": 0
      },
      "text/plain": [
       "HBox(children=(HTML(value=''), FloatProgress(value=0.0, max=4.0), HTML(value='')))"
      ]
     },
     "metadata": {},
     "output_type": "display_data"
    },
    {
     "name": "stdout",
     "output_type": "stream",
     "text": [
      "\n"
     ]
    },
    {
     "data": {
      "application/vnd.jupyter.widget-view+json": {
       "model_id": "edb951c29dad4829b101f5f31b298c0b",
       "version_major": 2,
       "version_minor": 0
      },
      "text/plain": [
       "HBox(children=(HTML(value=''), FloatProgress(value=0.0, max=19997.0), HTML(value='')))"
      ]
     },
     "metadata": {},
     "output_type": "display_data"
    },
    {
     "name": "stdout",
     "output_type": "stream",
     "text": [
      "\n"
     ]
    },
    {
     "data": {
      "application/vnd.jupyter.widget-view+json": {
       "model_id": "b53a72f6b150424490ee3661a74239b2",
       "version_major": 2,
       "version_minor": 0
      },
      "text/plain": [
       "HBox(children=(HTML(value=''), FloatProgress(value=0.0, max=4.0), HTML(value='')))"
      ]
     },
     "metadata": {},
     "output_type": "display_data"
    },
    {
     "name": "stdout",
     "output_type": "stream",
     "text": [
      "\n"
     ]
    },
    {
     "data": {
      "application/vnd.jupyter.widget-view+json": {
       "model_id": "6dde81105cb94e5985a5f452895e7411",
       "version_major": 2,
       "version_minor": 0
      },
      "text/plain": [
       "HBox(children=(HTML(value=''), FloatProgress(value=0.0, max=19997.0), HTML(value='')))"
      ]
     },
     "metadata": {},
     "output_type": "display_data"
    },
    {
     "name": "stdout",
     "output_type": "stream",
     "text": [
      "\n"
     ]
    },
    {
     "data": {
      "application/vnd.jupyter.widget-view+json": {
       "model_id": "c06e8ae1315848db914817c480f30c3c",
       "version_major": 2,
       "version_minor": 0
      },
      "text/plain": [
       "HBox(children=(HTML(value=''), FloatProgress(value=0.0, max=4.0), HTML(value='')))"
      ]
     },
     "metadata": {},
     "output_type": "display_data"
    },
    {
     "name": "stdout",
     "output_type": "stream",
     "text": [
      "\n"
     ]
    },
    {
     "data": {
      "application/vnd.jupyter.widget-view+json": {
       "model_id": "0a686222854349c787608716e1b3910f",
       "version_major": 2,
       "version_minor": 0
      },
      "text/plain": [
       "HBox(children=(HTML(value=''), FloatProgress(value=0.0, max=19997.0), HTML(value='')))"
      ]
     },
     "metadata": {},
     "output_type": "display_data"
    },
    {
     "name": "stdout",
     "output_type": "stream",
     "text": [
      "\n"
     ]
    },
    {
     "data": {
      "application/vnd.jupyter.widget-view+json": {
       "model_id": "a6a5acccf01a497a879d0df17888ec19",
       "version_major": 2,
       "version_minor": 0
      },
      "text/plain": [
       "HBox(children=(HTML(value=''), FloatProgress(value=0.0, max=4.0), HTML(value='')))"
      ]
     },
     "metadata": {},
     "output_type": "display_data"
    },
    {
     "name": "stdout",
     "output_type": "stream",
     "text": [
      "\n"
     ]
    },
    {
     "data": {
      "application/vnd.jupyter.widget-view+json": {
       "model_id": "5826507020ec4242be7df9207f7cf9f5",
       "version_major": 2,
       "version_minor": 0
      },
      "text/plain": [
       "HBox(children=(HTML(value=''), FloatProgress(value=0.0, max=19997.0), HTML(value='')))"
      ]
     },
     "metadata": {},
     "output_type": "display_data"
    },
    {
     "name": "stdout",
     "output_type": "stream",
     "text": [
      "\n"
     ]
    }
   ],
   "source": [
    "patience_results=pd.DataFrame()\n",
    "for position in [pos.rbp, pos.cascade]:\n",
    "    for patience in range(1, 10, 1):\n",
    "        results = MA.run_sensitivity_analysis(position_weight=position, arg='patience', arg_val=patience/10)\n",
    "        patience_results=patience_results.append(results)"
   ]
  },
  {
   "cell_type": "code",
   "execution_count": 45,
   "metadata": {},
   "outputs": [
    {
     "data": {
      "text/html": [
       "<div>\n",
       "<style scoped>\n",
       "    .dataframe tbody tr th:only-of-type {\n",
       "        vertical-align: middle;\n",
       "    }\n",
       "\n",
       "    .dataframe tbody tr th {\n",
       "        vertical-align: top;\n",
       "    }\n",
       "\n",
       "    .dataframe thead th {\n",
       "        text-align: right;\n",
       "    }\n",
       "</style>\n",
       "<table border=\"1\" class=\"dataframe\">\n",
       "  <thead>\n",
       "    <tr style=\"text-align: right;\">\n",
       "      <th></th>\n",
       "      <th>Algorithm</th>\n",
       "      <th>Metric</th>\n",
       "      <th>value</th>\n",
       "      <th>patience</th>\n",
       "      <th>pos_weight</th>\n",
       "      <th>ranked_size</th>\n",
       "    </tr>\n",
       "  </thead>\n",
       "  <tbody>\n",
       "    <tr>\n",
       "      <th>0</th>\n",
       "      <td>bpr</td>\n",
       "      <td>AWRF</td>\n",
       "      <td>0.468693</td>\n",
       "      <td>0.1</td>\n",
       "      <td>rbp</td>\n",
       "      <td>100</td>\n",
       "    </tr>\n",
       "    <tr>\n",
       "      <th>1</th>\n",
       "      <td>item-item</td>\n",
       "      <td>AWRF</td>\n",
       "      <td>0.509987</td>\n",
       "      <td>0.1</td>\n",
       "      <td>rbp</td>\n",
       "      <td>100</td>\n",
       "    </tr>\n",
       "    <tr>\n",
       "      <th>2</th>\n",
       "      <td>user-user</td>\n",
       "      <td>AWRF</td>\n",
       "      <td>0.469742</td>\n",
       "      <td>0.1</td>\n",
       "      <td>rbp</td>\n",
       "      <td>100</td>\n",
       "    </tr>\n",
       "    <tr>\n",
       "      <th>3</th>\n",
       "      <td>wrls</td>\n",
       "      <td>AWRF</td>\n",
       "      <td>0.459422</td>\n",
       "      <td>0.1</td>\n",
       "      <td>rbp</td>\n",
       "      <td>100</td>\n",
       "    </tr>\n",
       "    <tr>\n",
       "      <th>4</th>\n",
       "      <td>bpr</td>\n",
       "      <td>IAA</td>\n",
       "      <td>0.277618</td>\n",
       "      <td>0.1</td>\n",
       "      <td>rbp</td>\n",
       "      <td>100</td>\n",
       "    </tr>\n",
       "    <tr>\n",
       "      <th>...</th>\n",
       "      <td>...</td>\n",
       "      <td>...</td>\n",
       "      <td>...</td>\n",
       "      <td>...</td>\n",
       "      <td>...</td>\n",
       "      <td>...</td>\n",
       "    </tr>\n",
       "    <tr>\n",
       "      <th>27</th>\n",
       "      <td>wrls</td>\n",
       "      <td>logEUR</td>\n",
       "      <td>-0.338693</td>\n",
       "      <td>0.9</td>\n",
       "      <td>cascade</td>\n",
       "      <td>100</td>\n",
       "    </tr>\n",
       "    <tr>\n",
       "      <th>28</th>\n",
       "      <td>bpr</td>\n",
       "      <td>logRUR</td>\n",
       "      <td>-0.302799</td>\n",
       "      <td>0.9</td>\n",
       "      <td>cascade</td>\n",
       "      <td>100</td>\n",
       "    </tr>\n",
       "    <tr>\n",
       "      <th>29</th>\n",
       "      <td>item-item</td>\n",
       "      <td>logRUR</td>\n",
       "      <td>-0.286585</td>\n",
       "      <td>0.9</td>\n",
       "      <td>cascade</td>\n",
       "      <td>100</td>\n",
       "    </tr>\n",
       "    <tr>\n",
       "      <th>30</th>\n",
       "      <td>user-user</td>\n",
       "      <td>logRUR</td>\n",
       "      <td>-0.458082</td>\n",
       "      <td>0.9</td>\n",
       "      <td>cascade</td>\n",
       "      <td>100</td>\n",
       "    </tr>\n",
       "    <tr>\n",
       "      <th>31</th>\n",
       "      <td>wrls</td>\n",
       "      <td>logRUR</td>\n",
       "      <td>-0.423786</td>\n",
       "      <td>0.9</td>\n",
       "      <td>cascade</td>\n",
       "      <td>100</td>\n",
       "    </tr>\n",
       "  </tbody>\n",
       "</table>\n",
       "<p>576 rows × 6 columns</p>\n",
       "</div>"
      ],
      "text/plain": [
       "    Algorithm  Metric     value  patience pos_weight  ranked_size\n",
       "0         bpr    AWRF  0.468693       0.1        rbp          100\n",
       "1   item-item    AWRF  0.509987       0.1        rbp          100\n",
       "2   user-user    AWRF  0.469742       0.1        rbp          100\n",
       "3        wrls    AWRF  0.459422       0.1        rbp          100\n",
       "4         bpr     IAA  0.277618       0.1        rbp          100\n",
       "..        ...     ...       ...       ...        ...          ...\n",
       "27       wrls  logEUR -0.338693       0.9    cascade          100\n",
       "28        bpr  logRUR -0.302799       0.9    cascade          100\n",
       "29  item-item  logRUR -0.286585       0.9    cascade          100\n",
       "30  user-user  logRUR -0.458082       0.9    cascade          100\n",
       "31       wrls  logRUR -0.423786       0.9    cascade          100\n",
       "\n",
       "[576 rows x 6 columns]"
      ]
     },
     "execution_count": 45,
     "metadata": {},
     "output_type": "execute_result"
    }
   ],
   "source": [
    "patience_results"
   ]
  },
  {
   "cell_type": "code",
   "execution_count": 46,
   "metadata": {},
   "outputs": [],
   "source": [
    "patience_results.to_parquet('results/SIGIR22/rec_sensitivity_patience_up.parquet')"
   ]
  },
  {
   "cell_type": "markdown",
   "metadata": {},
   "source": [
    "AWRF_FAIR = old_patience_results.loc[old_patience_results['Metric'].isin(['AWRF', 'FAIR'])]\n",
    "final_pat_metric = pd.concat([AWRF_FAIR, patience_results], ignore_index=True)\n",
    "final_pat_metric"
   ]
  },
  {
   "cell_type": "code",
   "execution_count": null,
   "metadata": {},
   "outputs": [],
   "source": [
    "#final_stop_metric.to_parquet('results/sensitivity_stop_IAA.parquet')\n",
    "#final_pat_metric.to_parquet('results/sensitivity_patience_IAA.parquet')"
   ]
  }
 ],
 "metadata": {
  "kernelspec": {
   "display_name": "bookfair",
   "language": "python",
   "name": "bookfair"
  },
  "language_info": {
   "codemirror_mode": {
    "name": "ipython",
    "version": 3
   },
   "file_extension": ".py",
   "mimetype": "text/x-python",
   "name": "python",
   "nbconvert_exporter": "python",
   "pygments_lexer": "ipython3",
   "version": "3.7.9"
  }
 },
 "nbformat": 4,
 "nbformat_minor": 4
}
